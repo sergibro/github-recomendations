{
 "cells": [
  {
   "cell_type": "markdown",
   "metadata": {},
   "source": [
    "### define"
   ]
  },
  {
   "cell_type": "code",
   "execution_count": 1,
   "metadata": {
    "ExecuteTime": {
     "end_time": "2019-05-09T13:59:31.343354Z",
     "start_time": "2019-05-09T13:59:30.595579Z"
    }
   },
   "outputs": [],
   "source": [
    "from resources.utils import *\n",
    "from gensim.models import Word2Vec\n",
    "\n",
    "!mkdir -p ./logs\n",
    "!mkdir -p ./models"
   ]
  },
  {
   "cell_type": "markdown",
   "metadata": {
    "heading_collapsed": true
   },
   "source": [
    "## create corpuses"
   ]
  },
  {
   "cell_type": "markdown",
   "metadata": {
    "hidden": true
   },
   "source": [
    "Optional filter"
   ]
  },
  {
   "cell_type": "code",
   "execution_count": 10,
   "metadata": {
    "ExecuteTime": {
     "end_time": "2019-04-30T23:54:45.066643Z",
     "start_time": "2019-04-30T23:54:32.683312Z"
    },
    "collapsed": true,
    "hidden": true
   },
   "outputs": [
    {
     "data": {
      "application/vnd.jupyter.widget-view+json": {
       "model_id": "c8715652e2df48f2b938abdfd7f30c70",
       "version_major": 2,
       "version_minor": 0
      },
      "text/plain": [
       "HBox(children=(IntProgress(value=1, bar_style='info', max=1), HTML(value='')))"
      ]
     },
     "metadata": {},
     "output_type": "display_data"
    },
    {
     "name": "stdout",
     "output_type": "stream",
     "text": [
      "\n"
     ]
    },
    {
     "data": {
      "text/plain": [
       "33984"
      ]
     },
     "execution_count": 10,
     "metadata": {},
     "output_type": "execute_result"
    }
   ],
   "source": [
    "spec_ids = [int(u['_id']) for u in tn(mc['github']['users'].find({'country_code': 'ua', 'type': 'USR'}, {}))]\n",
    "len(spec_ids)"
   ]
  },
  {
   "cell_type": "code",
   "execution_count": 10,
   "metadata": {
    "ExecuteTime": {
     "end_time": "2019-04-30T23:54:45.066643Z",
     "start_time": "2019-04-30T23:54:32.683312Z"
    },
    "collapsed": true,
    "hidden": true
   },
   "outputs": [
    {
     "data": {
      "application/vnd.jupyter.widget-view+json": {
       "model_id": "c8715652e2df48f2b938abdfd7f30c70",
       "version_major": 2,
       "version_minor": 0
      },
      "text/plain": [
       "HBox(children=(IntProgress(value=1, bar_style='info', max=1), HTML(value='')))"
      ]
     },
     "metadata": {},
     "output_type": "display_data"
    },
    {
     "name": "stdout",
     "output_type": "stream",
     "text": [
      "\n"
     ]
    },
    {
     "data": {
      "text/plain": [
       "33984"
      ]
     },
     "execution_count": 10,
     "metadata": {},
     "output_type": "execute_result"
    }
   ],
   "source": [
    "spec_ids = [int(u['_id']) for u in tn(mc['github']['projects'].find({'language': 'Python'}, {}))]\n",
    "len(spec_ids)"
   ]
  },
  {
   "cell_type": "code",
   "execution_count": 10,
   "metadata": {
    "ExecuteTime": {
     "end_time": "2019-05-03T21:55:56.990948Z",
     "start_time": "2019-05-03T21:55:56.219858Z"
    },
    "hidden": true
   },
   "outputs": [
    {
     "data": {
      "application/vnd.jupyter.widget-view+json": {
       "model_id": "badef90249b24936a9c6c74913b9dfbf",
       "version_major": 2,
       "version_minor": 0
      },
      "text/plain": [
       "HBox(children=(IntProgress(value=1, bar_style='info', max=1), HTML(value='')))"
      ]
     },
     "metadata": {},
     "output_type": "display_data"
    },
    {
     "name": "stdout",
     "output_type": "stream",
     "text": [
      "\n"
     ]
    },
    {
     "data": {
      "text/plain": [
       "85625"
      ]
     },
     "execution_count": 10,
     "metadata": {},
     "output_type": "execute_result"
    }
   ],
   "source": [
    "spec_ids = [int(u['_id']) for u in tn(mc['github']['repos_watches_embeddings'].find({'n_vecs': {'$gte': 200}}, {}))]\n",
    "len(spec_ids)"
   ]
  },
  {
   "cell_type": "code",
   "execution_count": 11,
   "metadata": {
    "ExecuteTime": {
     "end_time": "2019-04-30T23:55:04.201632Z",
     "start_time": "2019-04-30T23:55:04.170558Z"
    },
    "hidden": true
   },
   "outputs": [],
   "source": [
    "corpus_filepath = './data/following_corpus.txt'\n",
    "min_folls = 2\n",
    "# max_folls = 5000\n",
    "\n",
    "find = mc['github']['following'].find({'following_count': {'$gte': min_folls}}, ['following_ids'])\n",
    "SG = SentencesGenerator()\n",
    "SG.save((u['following_ids'] for u in find),\n",
    "        corpus_filepath,\n",
    "        min_words=min_folls,\n",
    "#         max_words=max_folls,\n",
    "#         interested_uids=spec_ids\n",
    "       )"
   ]
  },
  {
   "cell_type": "code",
   "execution_count": 11,
   "metadata": {
    "ExecuteTime": {
     "end_time": "2019-04-30T23:55:04.201632Z",
     "start_time": "2019-04-30T23:55:04.170558Z"
    },
    "hidden": true
   },
   "outputs": [],
   "source": [
    "corpus_filepath = './data/followers_corpus.txt'\n",
    "min_folls = 2\n",
    "# max_folls = 5000\n",
    "\n",
    "find = mc['github']['followers'].find({'followers_count': {'$gte': min_folls}}, ['followers_ids'])\n",
    "SG = SentencesGenerator()\n",
    "SG.save((u['followers_ids'] for u in find),\n",
    "        corpus_filepath,\n",
    "        min_words=min_folls,\n",
    "#         max_words=max_folls,\n",
    "#         interested_uids=spec_ids\n",
    "       )"
   ]
  },
  {
   "cell_type": "code",
   "execution_count": 12,
   "metadata": {
    "ExecuteTime": {
     "end_time": "2019-05-03T21:58:38.619262Z",
     "start_time": "2019-05-03T21:57:37.378658Z"
    },
    "hidden": true
   },
   "outputs": [
    {
     "data": {
      "application/vnd.jupyter.widget-view+json": {
       "model_id": "3de672a85317497389e7e7a8aac81a35",
       "version_major": 2,
       "version_minor": 0
      },
      "text/plain": [
       "HBox(children=(IntProgress(value=1, bar_style='info', max=1), HTML(value='')))"
      ]
     },
     "metadata": {},
     "output_type": "display_data"
    },
    {
     "data": {
      "application/vnd.jupyter.widget-view+json": {
       "model_id": "ba27987842da479eb9ae8b4a4eb57550",
       "version_major": 2,
       "version_minor": 0
      },
      "text/plain": [
       "HBox(children=(IntProgress(value=1, bar_style='info', max=1), HTML(value='')))"
      ]
     },
     "metadata": {},
     "output_type": "display_data"
    },
    {
     "name": "stdout",
     "output_type": "stream",
     "text": [
      "Total words: 90808007\n"
     ]
    }
   ],
   "source": [
    "corpus_filepath = './data/users_watches_corpus_gte200.txt'\n",
    "min_repos = 2\n",
    "# max_repos = 5000\n",
    "\n",
    "find = mc['github']['users_watches'].find({'repos_count': {'$gte': min_repos}}, ['repos_ids'])\n",
    "SG = SentencesGenerator()\n",
    "SG.save((u['repos_ids'] for u in find),\n",
    "        corpus_filepath,\n",
    "        min_words=min_repos,\n",
    "#         max_words=max_repos,\n",
    "        interested_uids=spec_ids\n",
    "       )"
   ]
  },
  {
   "cell_type": "markdown",
   "metadata": {
    "heading_collapsed": true
   },
   "source": [
    "## train models"
   ]
  },
  {
   "cell_type": "markdown",
   "metadata": {
    "heading_collapsed": true,
    "hidden": true
   },
   "source": [
    "### skip-n-gram"
   ]
  },
  {
   "cell_type": "markdown",
   "metadata": {
    "heading_collapsed": true,
    "hidden": true
   },
   "source": [
    "#### following sg_d300_w30_mc3_e5"
   ]
  },
  {
   "cell_type": "code",
   "execution_count": 4,
   "metadata": {
    "ExecuteTime": {
     "end_time": "2019-05-01T00:00:38.257596Z",
     "start_time": "2019-05-01T00:00:38.236668Z"
    },
    "hidden": true
   },
   "outputs": [],
   "source": [
    "corpus_filepath = './data/following_corpus.txt'"
   ]
  },
  {
   "cell_type": "code",
   "execution_count": 5,
   "metadata": {
    "ExecuteTime": {
     "end_time": "2019-05-01T00:00:39.090095Z",
     "start_time": "2019-05-01T00:00:39.067237Z"
    },
    "hidden": true
   },
   "outputs": [],
   "source": [
    "model_name = 'users_following_emb_sg_d300_w30_mc3_e5'\n",
    "set_logging('./logs/' + model_name + '.log')\n",
    "# model = Word2Vec.load('./models/' + model_name + '.bin')\n",
    "# print(model)"
   ]
  },
  {
   "cell_type": "code",
   "execution_count": 6,
   "metadata": {
    "ExecuteTime": {
     "end_time": "2019-05-01T00:01:23.354379Z",
     "start_time": "2019-05-01T00:00:47.648787Z"
    },
    "hidden": true
   },
   "outputs": [
    {
     "name": "stdout",
     "output_type": "stream",
     "text": [
      "Word2Vec(vocab=1385758, size=300, alpha=0.025)\n"
     ]
    }
   ],
   "source": [
    "model = Word2Vec(size=300, window=30, min_count=3, sg=1, workers=8, compute_loss=True, seed=4, negative=5, iter=5)\n",
    "model.build_vocab(corpus_file=corpus_filepath, progress_per=10000)\n",
    "print(model)"
   ]
  },
  {
   "cell_type": "code",
   "execution_count": 7,
   "metadata": {
    "ExecuteTime": {
     "end_time": "2019-05-01T00:01:33.010729Z",
     "start_time": "2019-05-01T00:01:32.936632Z"
    },
    "hidden": true
   },
   "outputs": [
    {
     "data": {
      "text/plain": [
       "'model (corpus=2140201, unique_words=1385758, total_words=28115972)'"
      ]
     },
     "execution_count": 7,
     "metadata": {},
     "output_type": "execute_result"
    }
   ],
   "source": [
    "a = [w.count for w in model.wv.vocab.values()]\n",
    "corpus, unique_words, total_words = model.corpus_count, len(a), model.corpus_total_words\n",
    "msg = f'model (corpus={corpus}, unique_words={unique_words}, total_words={total_words})'\n",
    "# tgn(msg)\n",
    "msg"
   ]
  },
  {
   "cell_type": "code",
   "execution_count": 8,
   "metadata": {
    "ExecuteTime": {
     "end_time": "2019-05-01T00:01:41.327302Z",
     "start_time": "2019-05-01T00:01:41.262850Z"
    },
    "hidden": true
   },
   "outputs": [
    {
     "data": {
      "text/plain": [
       "869232"
      ]
     },
     "execution_count": 8,
     "metadata": {},
     "output_type": "execute_result"
    }
   ],
   "source": [
    "len([c for c in a if c >= 5])"
   ]
  },
  {
   "cell_type": "code",
   "execution_count": 9,
   "metadata": {
    "ExecuteTime": {
     "end_time": "2019-05-01T00:01:44.121156Z",
     "start_time": "2019-05-01T00:01:44.064399Z"
    },
    "hidden": true
   },
   "outputs": [
    {
     "data": {
      "text/plain": [
       "437505"
      ]
     },
     "execution_count": 9,
     "metadata": {},
     "output_type": "execute_result"
    }
   ],
   "source": [
    "len([c for c in a if c >= 10])"
   ]
  },
  {
   "cell_type": "code",
   "execution_count": 10,
   "metadata": {
    "ExecuteTime": {
     "end_time": "2019-05-01T00:01:46.668398Z",
     "start_time": "2019-05-01T00:01:46.256567Z"
    },
    "hidden": true
   },
   "outputs": [
    {
     "name": "stdout",
     "output_type": "stream",
     "text": [
      "3     1385758\n",
      "4     1071383\n",
      "5      869232\n",
      "6      728056\n",
      "7      626401\n",
      "8      548479\n",
      "9      487234\n",
      "10     437505\n",
      "11     396163\n",
      "12     361544\n",
      "13     331820\n",
      "14     306339\n",
      "15     284352\n",
      "16     264735\n",
      "17     247389\n",
      "18     232038\n",
      "19     218086\n",
      "20     205319\n",
      "dtype: int64\n"
     ]
    },
    {
     "data": {
      "image/png": "[encoded data removed]",
      "text/plain": [
       "<Figure size 864x360 with 1 Axes>"
      ]
     },
     "metadata": {
      "needs_background": "light"
     },
     "output_type": "display_data"
    }
   ],
   "source": [
    "s = pd.Series(a).value_counts().sort_values().cumsum()\n",
    "s = s[s.index < 150].dropna().sort_values(ascending=False)\n",
    "print(s[:18])\n",
    "s.plot(marker='o');"
   ]
  },
  {
   "cell_type": "code",
   "execution_count": 11,
   "metadata": {
    "ExecuteTime": {
     "end_time": "2019-05-01T00:01:47.783610Z",
     "start_time": "2019-05-01T00:01:47.388182Z"
    },
    "hidden": true
   },
   "outputs": [
    {
     "name": "stdout",
     "output_type": "stream",
     "text": [
      "150    17950\n",
      "167    17651\n",
      "156    17505\n",
      "155    17359\n",
      "158    17068\n",
      "154    16926\n",
      "157    16790\n",
      "151    16658\n",
      "163    16526\n",
      "164    16395\n",
      "153    16266\n",
      "166    16138\n",
      "152    16013\n",
      "165    15889\n",
      "162    15770\n",
      "171    15652\n",
      "174    15537\n",
      "173    15422\n",
      "dtype: int64\n"
     ]
    },
    {
     "data": {
      "image/png": "[encoded data removed]",
      "text/plain": [
       "<Figure size 864x360 with 1 Axes>"
      ]
     },
     "metadata": {
      "needs_background": "light"
     },
     "output_type": "display_data"
    }
   ],
   "source": [
    "s = pd.Series(a).value_counts().sort_values().cumsum()\n",
    "s = s[(s.index >= 150) & (s.index < 500)].dropna().sort_values(ascending=False)\n",
    "print(s[:18])\n",
    "s.plot(marker='o');"
   ]
  },
  {
   "cell_type": "code",
   "execution_count": 12,
   "metadata": {
    "ExecuteTime": {
     "end_time": "2019-05-01T00:35:40.440592Z",
     "start_time": "2019-05-01T00:02:01.430446Z"
    },
    "hidden": true
   },
   "outputs": [
    {
     "data": {
      "text/plain": [
       "'model iters pairs (good?=120174072, total=140103830)'"
      ]
     },
     "execution_count": 12,
     "metadata": {},
     "output_type": "execute_result"
    }
   ],
   "source": [
    "try:\n",
    "    good, total = model.train(corpus_file=corpus_filepath, epochs=model.epochs, total_examples=model.corpus_count, total_words=model.corpus_total_words)\n",
    "    model.save('./models/' + model_name + '.bin')\n",
    "    msg = f'[model] iters pairs (good?={good}, total={total})'\n",
    "except Exception as e:\n",
    "    msg = f'[model] error - {e}'\n",
    "tgn(msg)\n",
    "msg"
   ]
  },
  {
   "cell_type": "markdown",
   "metadata": {
    "heading_collapsed": true,
    "hidden": true
   },
   "source": [
    "#### followers sg_d300_w30_mc3_e5"
   ]
  },
  {
   "cell_type": "code",
   "execution_count": null,
   "metadata": {
    "hidden": true
   },
   "outputs": [],
   "source": [
    "corpus_filepath = './data/followers_corpus.txt'"
   ]
  },
  {
   "cell_type": "code",
   "execution_count": 2,
   "metadata": {
    "ExecuteTime": {
     "end_time": "2019-04-30T23:23:35.778280Z",
     "start_time": "2019-04-30T23:23:35.756944Z"
    },
    "hidden": true
   },
   "outputs": [],
   "source": [
    "model_name = 'users_followers_emb_sg_d300_w30_mc3_e5'\n",
    "set_logging('./logs/' + model_name + '.log')\n",
    "# model = Word2Vec.load('./models/' + model_name + '.bin')\n",
    "# print(model)"
   ]
  },
  {
   "cell_type": "code",
   "execution_count": 4,
   "metadata": {
    "ExecuteTime": {
     "end_time": "2019-04-30T23:24:30.329226Z",
     "start_time": "2019-04-30T23:23:40.809835Z"
    },
    "hidden": true
   },
   "outputs": [
    {
     "name": "stdout",
     "output_type": "stream",
     "text": [
      "Word2Vec(vocab=1446832, size=300, alpha=0.025)\n"
     ]
    }
   ],
   "source": [
    "model = Word2Vec(size=300, window=30, min_count=3, sg=1, workers=8, compute_loss=True, seed=4, negative=5, iter=5)\n",
    "model.build_vocab(corpus_file=corpus_filepath, progress_per=10000)\n",
    "print(model)"
   ]
  },
  {
   "cell_type": "code",
   "execution_count": 5,
   "metadata": {
    "ExecuteTime": {
     "end_time": "2019-04-30T23:24:30.513244Z",
     "start_time": "2019-04-30T23:24:30.440782Z"
    },
    "hidden": true
   },
   "outputs": [
    {
     "data": {
      "text/plain": [
       "'model (corpus=2106067, unique_words=1446832, total_words=28122605)'"
      ]
     },
     "execution_count": 5,
     "metadata": {},
     "output_type": "execute_result"
    }
   ],
   "source": [
    "a = [w.count for w in model.wv.vocab.values()]\n",
    "corpus, unique_words, total_words = model.corpus_count, len(a), model.corpus_total_words\n",
    "msg = f'model (corpus={corpus}, unique_words={unique_words}, total_words={total_words})'\n",
    "# tgn(msg)\n",
    "msg"
   ]
  },
  {
   "cell_type": "code",
   "execution_count": 6,
   "metadata": {
    "ExecuteTime": {
     "end_time": "2019-04-30T23:24:30.904945Z",
     "start_time": "2019-04-30T23:24:30.841590Z"
    },
    "hidden": true
   },
   "outputs": [
    {
     "data": {
      "text/plain": [
       "945502"
      ]
     },
     "execution_count": 6,
     "metadata": {},
     "output_type": "execute_result"
    }
   ],
   "source": [
    "len([c for c in a if c >= 5])"
   ]
  },
  {
   "cell_type": "code",
   "execution_count": 7,
   "metadata": {
    "ExecuteTime": {
     "end_time": "2019-04-30T23:24:31.290862Z",
     "start_time": "2019-04-30T23:24:31.232664Z"
    },
    "hidden": true
   },
   "outputs": [
    {
     "data": {
      "text/plain": [
       "496043"
      ]
     },
     "execution_count": 7,
     "metadata": {},
     "output_type": "execute_result"
    }
   ],
   "source": [
    "len([c for c in a if c >= 10])"
   ]
  },
  {
   "cell_type": "code",
   "execution_count": 8,
   "metadata": {
    "ExecuteTime": {
     "end_time": "2019-04-30T23:24:32.143350Z",
     "start_time": "2019-04-30T23:24:31.734254Z"
    },
    "hidden": true
   },
   "outputs": [
    {
     "name": "stdout",
     "output_type": "stream",
     "text": [
      "3     1446832\n",
      "4     1143242\n",
      "5      945502\n",
      "6      804281\n",
      "7      698275\n",
      "8      616540\n",
      "9      550609\n",
      "10     496043\n",
      "11     450228\n",
      "12     411470\n",
      "13     378455\n",
      "14     349943\n",
      "15     324625\n",
      "16     302088\n",
      "17     282382\n",
      "18     264765\n",
      "19     248715\n",
      "20     234213\n",
      "dtype: int64\n"
     ]
    },
    {
     "data": {
      "image/png": "[encoded data removed]",
      "text/plain": [
       "<Figure size 864x360 with 1 Axes>"
      ]
     },
     "metadata": {
      "needs_background": "light"
     },
     "output_type": "display_data"
    }
   ],
   "source": [
    "s = pd.Series(a).value_counts().sort_values().cumsum()\n",
    "s = s[s.index < 150].dropna().sort_values(ascending=False)\n",
    "print(s[:18])\n",
    "s.plot(marker='o');"
   ]
  },
  {
   "cell_type": "code",
   "execution_count": 9,
   "metadata": {
    "ExecuteTime": {
     "end_time": "2019-04-30T23:24:32.977279Z",
     "start_time": "2019-04-30T23:24:32.482187Z"
    },
    "hidden": true
   },
   "outputs": [
    {
     "name": "stdout",
     "output_type": "stream",
     "text": [
      "150    13085\n",
      "153    12940\n",
      "154    12796\n",
      "151    12657\n",
      "157    12519\n",
      "155    12382\n",
      "158    12250\n",
      "152    11859\n",
      "160    11733\n",
      "162    11608\n",
      "156    11488\n",
      "167    11253\n",
      "159    11137\n",
      "164    11022\n",
      "163    10909\n",
      "175    10800\n",
      "171    10696\n",
      "161    10592\n",
      "dtype: int64\n"
     ]
    },
    {
     "data": {
      "image/png": "[encoded data removed]",
      "text/plain": [
       "<Figure size 864x360 with 1 Axes>"
      ]
     },
     "metadata": {
      "needs_background": "light"
     },
     "output_type": "display_data"
    }
   ],
   "source": [
    "s = pd.Series(a).value_counts().sort_values().cumsum()\n",
    "s = s[(s.index >= 150) & (s.index < 500)].dropna().sort_values(ascending=False)\n",
    "print(s[:18])\n",
    "s.plot(marker='o');"
   ]
  },
  {
   "cell_type": "code",
   "execution_count": 11,
   "metadata": {
    "ExecuteTime": {
     "end_time": "2019-04-30T23:30:58.372448Z",
     "start_time": "2019-04-30T23:24:33.674147Z"
    },
    "hidden": true
   },
   "outputs": [
    {
     "data": {
      "text/plain": [
       "'model iters pairs (good?=24268337, total=28122605)'"
      ]
     },
     "execution_count": 11,
     "metadata": {},
     "output_type": "execute_result"
    }
   ],
   "source": [
    "try:\n",
    "    good, total = model.train(corpus_file=corpus_filepath, epochs=model.epochs, total_examples=model.corpus_count, total_words=model.corpus_total_words)\n",
    "    model.save('./models/' + model_name + '.bin')\n",
    "    msg = f'[model] iters pairs (good?={good}, total={total})'\n",
    "except Exception as e:\n",
    "    msg = f'[model] error - {e}'\n",
    "tgn(msg)\n",
    "msg"
   ]
  },
  {
   "cell_type": "markdown",
   "metadata": {
    "heading_collapsed": true,
    "hidden": true
   },
   "source": [
    "#### users_watches sg_d300_w30_mc3_e5"
   ]
  },
  {
   "cell_type": "code",
   "execution_count": 6,
   "metadata": {
    "ExecuteTime": {
     "end_time": "2019-05-01T11:40:54.802684Z",
     "start_time": "2019-05-01T11:40:54.773868Z"
    },
    "hidden": true
   },
   "outputs": [],
   "source": [
    "corpus_filepath = './data/users_watches_corpus.txt'"
   ]
  },
  {
   "cell_type": "code",
   "execution_count": 5,
   "metadata": {
    "ExecuteTime": {
     "end_time": "2019-05-01T11:40:52.682403Z",
     "start_time": "2019-05-01T11:40:52.652727Z"
    },
    "hidden": true
   },
   "outputs": [],
   "source": [
    "model_name = 'repos_watches_emb_sg_d300_w30_mc3_e5'\n",
    "set_logging('./logs/' + model_name + '.log')\n",
    "# model = Word2Vec.load('./models/' + model_name + '.bin')\n",
    "# print(model)"
   ]
  },
  {
   "cell_type": "code",
   "execution_count": 7,
   "metadata": {
    "ExecuteTime": {
     "end_time": "2019-05-01T11:42:53.833161Z",
     "start_time": "2019-05-01T11:41:11.641893Z"
    },
    "hidden": true
   },
   "outputs": [
    {
     "name": "stdout",
     "output_type": "stream",
     "text": [
      "Word2Vec(vocab=2371786, size=300, alpha=0.025)\n"
     ]
    }
   ],
   "source": [
    "model = Word2Vec(size=300, window=30, min_count=3, sg=1, workers=8, compute_loss=True, seed=4, negative=5, iter=5)\n",
    "model.build_vocab(corpus_file=corpus_filepath, progress_per=10000)\n",
    "print(model)"
   ]
  },
  {
   "cell_type": "code",
   "execution_count": 8,
   "metadata": {
    "ExecuteTime": {
     "end_time": "2019-05-01T11:43:20.710129Z",
     "start_time": "2019-05-01T11:43:20.589605Z"
    },
    "hidden": true
   },
   "outputs": [
    {
     "data": {
      "text/plain": [
       "'model (corpus=3617623, unique_words=2371786, total_words=136354835)'"
      ]
     },
     "execution_count": 8,
     "metadata": {},
     "output_type": "execute_result"
    }
   ],
   "source": [
    "a = [w.count for w in model.wv.vocab.values()]\n",
    "corpus, unique_words, total_words = model.corpus_count, len(a), model.corpus_total_words\n",
    "msg = f'model (corpus={corpus}, unique_words={unique_words}, total_words={total_words})'\n",
    "# tgn(msg)\n",
    "msg"
   ]
  },
  {
   "cell_type": "code",
   "execution_count": 9,
   "metadata": {
    "ExecuteTime": {
     "end_time": "2019-05-01T11:43:49.376839Z",
     "start_time": "2019-05-01T11:43:49.274882Z"
    },
    "hidden": true
   },
   "outputs": [
    {
     "data": {
      "text/plain": [
       "1527750"
      ]
     },
     "execution_count": 9,
     "metadata": {},
     "output_type": "execute_result"
    }
   ],
   "source": [
    "len([c for c in a if c >= 5])"
   ]
  },
  {
   "cell_type": "code",
   "execution_count": 10,
   "metadata": {
    "ExecuteTime": {
     "end_time": "2019-05-01T11:43:52.934792Z",
     "start_time": "2019-05-01T11:43:52.840621Z"
    },
    "hidden": true
   },
   "outputs": [
    {
     "data": {
      "text/plain": [
       "889389"
      ]
     },
     "execution_count": 10,
     "metadata": {},
     "output_type": "execute_result"
    }
   ],
   "source": [
    "len([c for c in a if c >= 10])"
   ]
  },
  {
   "cell_type": "code",
   "execution_count": 11,
   "metadata": {
    "ExecuteTime": {
     "end_time": "2019-05-01T11:44:05.036122Z",
     "start_time": "2019-05-01T11:44:04.940871Z"
    },
    "hidden": true
   },
   "outputs": [
    {
     "data": {
      "text/plain": [
       "153445"
      ]
     },
     "execution_count": 11,
     "metadata": {},
     "output_type": "execute_result"
    }
   ],
   "source": [
    "len([c for c in a if c >= 100])"
   ]
  },
  {
   "cell_type": "code",
   "execution_count": 12,
   "metadata": {
    "ExecuteTime": {
     "end_time": "2019-05-01T11:44:11.533321Z",
     "start_time": "2019-05-01T11:44:10.970691Z"
    },
    "hidden": true
   },
   "outputs": [
    {
     "name": "stdout",
     "output_type": "stream",
     "text": [
      "3     2371786\n",
      "4     1838883\n",
      "5     1527750\n",
      "6     1319338\n",
      "7     1168458\n",
      "8     1054191\n",
      "9      963214\n",
      "10     889389\n",
      "11     827550\n",
      "12     775401\n",
      "13     730715\n",
      "14     691670\n",
      "15     657144\n",
      "16     626259\n",
      "17     598630\n",
      "18     573711\n",
      "19     551316\n",
      "20     530637\n",
      "dtype: int64\n"
     ]
    },
    {
     "data": {
      "image/png": "[encoded data removed]",
      "text/plain": [
       "<Figure size 864x360 with 1 Axes>"
      ]
     },
     "metadata": {
      "needs_background": "light"
     },
     "output_type": "display_data"
    }
   ],
   "source": [
    "s = pd.Series(a).value_counts().sort_values().cumsum()\n",
    "s = s[s.index < 150].dropna().sort_values(ascending=False)\n",
    "print(s[:18])\n",
    "s.plot(marker='o');"
   ]
  },
  {
   "cell_type": "code",
   "execution_count": 13,
   "metadata": {
    "ExecuteTime": {
     "end_time": "2019-05-01T11:44:18.407349Z",
     "start_time": "2019-05-01T11:44:17.874815Z"
    },
    "hidden": true
   },
   "outputs": [
    {
     "name": "stdout",
     "output_type": "stream",
     "text": [
      "155    109506\n",
      "151    108884\n",
      "152    108265\n",
      "153    107668\n",
      "161    107076\n",
      "156    106489\n",
      "150    105904\n",
      "154    105321\n",
      "158    104742\n",
      "165    104188\n",
      "162    103640\n",
      "159    103093\n",
      "157    102546\n",
      "160    102000\n",
      "164    101466\n",
      "172    100933\n",
      "168    100405\n",
      "163     99881\n",
      "dtype: int64\n"
     ]
    },
    {
     "data": {
      "image/png": "[encoded data removed]",
      "text/plain": [
       "<Figure size 864x360 with 1 Axes>"
      ]
     },
     "metadata": {
      "needs_background": "light"
     },
     "output_type": "display_data"
    }
   ],
   "source": [
    "s = pd.Series(a).value_counts().sort_values().cumsum()\n",
    "s = s[(s.index >= 150) & (s.index < 500)].dropna().sort_values(ascending=False)\n",
    "print(s[:18])\n",
    "s.plot(marker='o');"
   ]
  },
  {
   "cell_type": "code",
   "execution_count": 14,
   "metadata": {
    "ExecuteTime": {
     "end_time": "2019-05-01T14:59:47.457492Z",
     "start_time": "2019-05-01T11:44:58.170440Z"
    },
    "hidden": true
   },
   "outputs": [
    {
     "data": {
      "text/plain": [
       "'model iters pairs (good?=631578110, total=681478615)'"
      ]
     },
     "execution_count": 14,
     "metadata": {},
     "output_type": "execute_result"
    }
   ],
   "source": [
    "try:\n",
    "    good, total = model.train(corpus_file=corpus_filepath, epochs=model.epochs, total_examples=model.corpus_count, total_words=model.corpus_total_words)\n",
    "    model.save('./models/' + model_name + '.bin')\n",
    "    msg = f'[model] iters pairs (good?={good}, total={total})'\n",
    "except Exception as e:\n",
    "    msg = f'[model] error - {e}'\n",
    "tgn(msg)\n",
    "msg"
   ]
  },
  {
   "cell_type": "markdown",
   "metadata": {
    "heading_collapsed": true,
    "hidden": true
   },
   "source": [
    "#### users_watches sg_d300_w50_mc200_e50"
   ]
  },
  {
   "cell_type": "code",
   "execution_count": 4,
   "metadata": {
    "ExecuteTime": {
     "end_time": "2019-05-03T22:41:24.907439Z",
     "start_time": "2019-05-03T22:41:24.880814Z"
    },
    "hidden": true
   },
   "outputs": [],
   "source": [
    "corpus_filepath = './data/users_watches_corpus_gte200.txt'"
   ]
  },
  {
   "cell_type": "code",
   "execution_count": 5,
   "metadata": {
    "ExecuteTime": {
     "end_time": "2019-05-03T22:41:29.673117Z",
     "start_time": "2019-05-03T22:41:29.646164Z"
    },
    "hidden": true
   },
   "outputs": [],
   "source": [
    "model_name = 'repos_watches_emb_sg_d300_w50_mc200_e50'\n",
    "set_logging('./logs/' + model_name + '.log')\n",
    "# model = Word2Vec.load('./models/' + model_name + '.bin')\n",
    "# print(model)"
   ]
  },
  {
   "cell_type": "code",
   "execution_count": 6,
   "metadata": {
    "ExecuteTime": {
     "end_time": "2019-05-03T22:42:40.078671Z",
     "start_time": "2019-05-03T22:42:16.909256Z"
    },
    "hidden": true
   },
   "outputs": [
    {
     "name": "stdout",
     "output_type": "stream",
     "text": [
      "Word2Vec(vocab=84973, size=300, alpha=0.025)\n"
     ]
    }
   ],
   "source": [
    "model = Word2Vec(size=300, window=50, min_count=200, sg=1, workers=8, compute_loss=True, seed=4, negative=5, iter=50)\n",
    "model.build_vocab(corpus_file=corpus_filepath, progress_per=10000)\n",
    "print(model)"
   ]
  },
  {
   "cell_type": "code",
   "execution_count": 7,
   "metadata": {
    "ExecuteTime": {
     "end_time": "2019-05-03T22:42:40.209084Z",
     "start_time": "2019-05-03T22:42:40.182623Z"
    },
    "hidden": true
   },
   "outputs": [
    {
     "data": {
      "text/plain": [
       "'model (corpus=2596563, unique_words=84973, total_words=90808007)'"
      ]
     },
     "execution_count": 7,
     "metadata": {},
     "output_type": "execute_result"
    }
   ],
   "source": [
    "a = [w.count for w in model.wv.vocab.values()]\n",
    "corpus, unique_words, total_words = model.corpus_count, len(a), model.corpus_total_words\n",
    "msg = f'model (corpus={corpus}, unique_words={unique_words}, total_words={total_words})'\n",
    "# tgn(msg)\n",
    "msg"
   ]
  },
  {
   "cell_type": "code",
   "execution_count": 8,
   "metadata": {
    "ExecuteTime": {
     "end_time": "2019-05-03T22:42:40.369120Z",
     "start_time": "2019-05-03T22:42:40.345240Z"
    },
    "hidden": true
   },
   "outputs": [
    {
     "data": {
      "text/plain": [
       "36902"
      ]
     },
     "execution_count": 8,
     "metadata": {},
     "output_type": "execute_result"
    }
   ],
   "source": [
    "len([c for c in a if c >= 500])"
   ]
  },
  {
   "cell_type": "code",
   "execution_count": 9,
   "metadata": {
    "ExecuteTime": {
     "end_time": "2019-05-03T22:42:40.708124Z",
     "start_time": "2019-05-03T22:42:40.503388Z"
    },
    "hidden": true
   },
   "outputs": [
    {
     "name": "stdout",
     "output_type": "stream",
     "text": [
      "200    84973\n",
      "201    84573\n",
      "204    84175\n",
      "205    83796\n",
      "202    83432\n",
      "203    83071\n",
      "212    82712\n",
      "214    82354\n",
      "207    82002\n",
      "217    81653\n",
      "206    81305\n",
      "211    80962\n",
      "209    80628\n",
      "219    80297\n",
      "208    79969\n",
      "210    79650\n",
      "216    79332\n",
      "229    79018\n",
      "dtype: int64\n"
     ]
    },
    {
     "data": {
      "image/png": "[encoded data removed]",
      "text/plain": [
       "<Figure size 864x360 with 1 Axes>"
      ]
     },
     "metadata": {
      "needs_background": "light"
     },
     "output_type": "display_data"
    }
   ],
   "source": [
    "s = pd.Series(a).value_counts().sort_values().cumsum()\n",
    "s = s[(s.index >= 200) & (s.index < 500)].dropna().sort_values(ascending=False)\n",
    "print(s[:18])\n",
    "s.plot(marker='o');"
   ]
  },
  {
   "cell_type": "code",
   "execution_count": null,
   "metadata": {
    "ExecuteTime": {
     "start_time": "2019-05-03T22:42:28.711Z"
    },
    "hidden": true
   },
   "outputs": [
    {
     "name": "stdout",
     "output_type": "stream",
     "text": [
      "505    38920\n",
      "507    38454\n",
      "501    37402\n",
      "508    37188\n",
      "502    37049\n",
      "510    36980\n",
      "559    36911\n",
      "594    36843\n",
      "596    36707\n",
      "597    36639\n",
      "512    36571\n",
      "517    36503\n",
      "522    36368\n",
      "513    36302\n",
      "504    36236\n",
      "519    36170\n",
      "509    36104\n",
      "547    36039\n",
      "dtype: int64\n"
     ]
    },
    {
     "data": {
      "image/png": "[encoded data removed]",
      "text/plain": [
       "<Figure size 864x360 with 1 Axes>"
      ]
     },
     "metadata": {
      "needs_background": "light"
     },
     "output_type": "display_data"
    }
   ],
   "source": [
    "s = pd.Series(a).value_counts().sort_values().cumsum()\n",
    "s = s[(s.index >= 500) & (s.index < 5000)].dropna().sort_values(ascending=False)\n",
    "print(s[:18])\n",
    "s.plot(marker='o');"
   ]
  },
  {
   "cell_type": "code",
   "execution_count": null,
   "metadata": {
    "ExecuteTime": {
     "start_time": "2019-05-03T22:42:31.484Z"
    },
    "hidden": true
   },
   "outputs": [],
   "source": [
    "try:\n",
    "    good, total = model.train(corpus_file=corpus_filepath, epochs=model.epochs, total_examples=model.corpus_count, total_words=model.corpus_total_words)\n",
    "    model.save('./models/' + model_name + '.bin')\n",
    "    msg = f'[model] iters pairs (good?={good}, total={total})'\n",
    "except Exception as e:\n",
    "    msg = f'[model] error - {e}'\n",
    "tgn(msg)\n",
    "msg"
   ]
  },
  {
   "cell_type": "markdown",
   "metadata": {
    "heading_collapsed": true
   },
   "source": [
    "## save"
   ]
  },
  {
   "cell_type": "markdown",
   "metadata": {
    "heading_collapsed": true,
    "hidden": true
   },
   "source": [
    "### following"
   ]
  },
  {
   "cell_type": "code",
   "execution_count": 14,
   "metadata": {
    "ExecuteTime": {
     "end_time": "2019-05-01T00:35:53.398826Z",
     "start_time": "2019-05-01T00:35:53.355991Z"
    },
    "hidden": true
   },
   "outputs": [
    {
     "data": {
      "text/plain": [
       "1385758"
      ]
     },
     "execution_count": 14,
     "metadata": {},
     "output_type": "execute_result"
    }
   ],
   "source": [
    "uids = list(model.wv.vocab.keys())\n",
    "len(uids)"
   ]
  },
  {
   "cell_type": "code",
   "execution_count": 15,
   "metadata": {
    "ExecuteTime": {
     "end_time": "2019-05-01T00:35:54.736129Z",
     "start_time": "2019-05-01T00:35:54.713423Z"
    },
    "hidden": true
   },
   "outputs": [],
   "source": [
    "col_name = 'users_following_embeddings'"
   ]
  },
  {
   "cell_type": "code",
   "execution_count": 16,
   "metadata": {
    "ExecuteTime": {
     "end_time": "2019-05-01T00:35:56.052205Z",
     "start_time": "2019-05-01T00:35:56.002433Z"
    },
    "hidden": true
   },
   "outputs": [
    {
     "data": {
      "text/plain": [
       "'n_vecs_1'"
      ]
     },
     "execution_count": 16,
     "metadata": {},
     "output_type": "execute_result"
    }
   ],
   "source": [
    "mc['github'][col_name].create_index('n_vecs')"
   ]
  },
  {
   "cell_type": "code",
   "execution_count": 17,
   "metadata": {
    "ExecuteTime": {
     "end_time": "2019-05-01T00:39:32.382955Z",
     "start_time": "2019-05-01T00:35:57.337899Z"
    },
    "hidden": true
   },
   "outputs": [
    {
     "data": {
      "application/vnd.jupyter.widget-view+json": {
       "model_id": "cc5c4350dde04b0c93823be9f9f0b4db",
       "version_major": 2,
       "version_minor": 0
      },
      "text/plain": [
       "HBox(children=(IntProgress(value=0, max=1385758), HTML(value='')))"
      ]
     },
     "metadata": {},
     "output_type": "display_data"
    },
    {
     "name": "stdout",
     "output_type": "stream",
     "text": [
      "\n"
     ]
    },
    {
     "data": {
      "text/plain": [
       "1385758"
      ]
     },
     "execution_count": 17,
     "metadata": {},
     "output_type": "execute_result"
    }
   ],
   "source": [
    "chunk = []\n",
    "\n",
    "for uid in tn(uids):\n",
    "    chunk.append({\n",
    "        '_id': int(uid),\n",
    "        'n_vecs': model.wv.vocab.get(uid).count,\n",
    "        'vec': model.wv[uid].tolist()\n",
    "    })\n",
    "    if len(chunk) >= 10_000:\n",
    "        mc['github'][col_name].insert_many(chunk)\n",
    "        chunk = []\n",
    "if len(chunk):\n",
    "    mc['github'][col_name].insert_many(chunk)\n",
    "mc['github'][col_name].estimated_document_count()"
   ]
  },
  {
   "cell_type": "markdown",
   "metadata": {
    "heading_collapsed": true,
    "hidden": true
   },
   "source": [
    "### repos_stars"
   ]
  },
  {
   "cell_type": "code",
   "execution_count": null,
   "metadata": {
    "ExecuteTime": {
     "start_time": "2019-05-03T22:42:34.611Z"
    },
    "hidden": true
   },
   "outputs": [],
   "source": [
    "rids = list(model.wv.vocab.keys())\n",
    "len(rids)"
   ]
  },
  {
   "cell_type": "code",
   "execution_count": null,
   "metadata": {
    "ExecuteTime": {
     "start_time": "2019-05-03T22:42:34.862Z"
    },
    "hidden": true
   },
   "outputs": [],
   "source": [
    "col_name = 'repos_stars_embeddings'"
   ]
  },
  {
   "cell_type": "code",
   "execution_count": null,
   "metadata": {
    "ExecuteTime": {
     "start_time": "2019-05-03T22:42:35.431Z"
    },
    "hidden": true
   },
   "outputs": [],
   "source": [
    "mc['github'][col_name].create_index('n_vecs')"
   ]
  },
  {
   "cell_type": "code",
   "execution_count": null,
   "metadata": {
    "ExecuteTime": {
     "start_time": "2019-05-03T22:42:36.660Z"
    },
    "hidden": true
   },
   "outputs": [],
   "source": [
    "chunk = []\n",
    "\n",
    "for rid in tn(rids):\n",
    "    chunk.append({\n",
    "        '_id': int(rid),\n",
    "        'n_vecs': model.wv.vocab.get(rid).count,\n",
    "        'vec': model.wv[rid].tolist()\n",
    "    })\n",
    "    if len(chunk) >= 10_000:\n",
    "        mc['github'][col_name].insert_many(chunk)\n",
    "        chunk = []\n",
    "if len(chunk):\n",
    "    mc['github'][col_name].insert_many(chunk)\n",
    "mc['github'][col_name].estimated_document_count()"
   ]
  },
  {
   "cell_type": "code",
   "execution_count": null,
   "metadata": {
    "hidden": true
   },
   "outputs": [],
   "source": []
  }
 ],
 "metadata": {
  "kernelspec": {
   "display_name": "Python 3",
   "language": "python",
   "name": "python3"
  },
  "language_info": {
   "codemirror_mode": {
    "name": "ipython",
    "version": 3
   },
   "file_extension": ".py",
   "mimetype": "text/x-python",
   "name": "python",
   "nbconvert_exporter": "python",
   "pygments_lexer": "ipython3",
   "version": "3.7.3"
  },
  "toc": {
   "base_numbering": 1,
   "nav_menu": {},
   "number_sections": true,
   "sideBar": true,
   "skip_h1_title": false,
   "title_cell": "Table of Contents",
   "title_sidebar": "Contents",
   "toc_cell": false,
   "toc_position": {},
   "toc_section_display": true,
   "toc_window_display": false
  },
  "varInspector": {
   "cols": {
    "lenName": 16,
    "lenType": 16,
    "lenVar": 40
   },
   "kernels_config": {
    "python": {
     "delete_cmd_postfix": "",
     "delete_cmd_prefix": "del ",
     "library": "var_list.py",
     "varRefreshCmd": "print(var_dic_list())"
    },
    "r": {
     "delete_cmd_postfix": ") ",
     "delete_cmd_prefix": "rm(",
     "library": "var_list.r",
     "varRefreshCmd": "cat(var_dic_list()) "
    }
   },
   "types_to_exclude": [
    "module",
    "function",
    "builtin_function_or_method",
    "instance",
    "_Feature"
   ],
   "window_display": false
  }
 },
 "nbformat": 4,
 "nbformat_minor": 2
}
