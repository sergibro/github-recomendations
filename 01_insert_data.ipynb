{
 "cells": [
  {
   "cell_type": "markdown",
   "metadata": {},
   "source": [
    "### define"
   ]
  },
  {
   "cell_type": "code",
   "execution_count": 1,
   "metadata": {
    "ExecuteTime": {
     "end_time": "2019-05-12T14:39:39.131995Z",
     "start_time": "2019-05-12T14:39:39.111689Z"
    }
   },
   "outputs": [],
   "source": [
    "from resources.utils import *"
   ]
  },
  {
   "cell_type": "code",
   "execution_count": 2,
   "metadata": {
    "ExecuteTime": {
     "end_time": "2019-05-12T14:39:42.479544Z",
     "start_time": "2019-05-12T14:39:42.441992Z"
    }
   },
   "outputs": [
    {
     "data": {
      "text/plain": [
       "['admin', 'config', 'github', 'local']"
      ]
     },
     "execution_count": 2,
     "metadata": {},
     "output_type": "execute_result"
    }
   ],
   "source": [
    "mc.list_database_names()"
   ]
  },
  {
   "cell_type": "code",
   "execution_count": 3,
   "metadata": {
    "ExecuteTime": {
     "end_time": "2019-05-12T14:39:43.414733Z",
     "start_time": "2019-05-12T14:39:43.389843Z"
    }
   },
   "outputs": [
    {
     "data": {
      "text/plain": [
       "['users_followers_embeddings',\n",
       " 'followers',\n",
       " 'users_following_embeddings',\n",
       " 'followers_all',\n",
       " 'users_watches',\n",
       " 'repos_watches_embeddings',\n",
       " 'users',\n",
       " 'projects',\n",
       " 'repos_stars_embeddings',\n",
       " 'following']"
      ]
     },
     "execution_count": 3,
     "metadata": {},
     "output_type": "execute_result"
    }
   ],
   "source": [
    "mc['github'].list_collection_names()"
   ]
  },
  {
   "cell_type": "code",
   "execution_count": 4,
   "metadata": {
    "ExecuteTime": {
     "end_time": "2019-05-01T23:53:45.842816Z",
     "start_time": "2019-05-01T23:53:45.478676Z"
    }
   },
   "outputs": [
    {
     "name": "stdout",
     "output_type": "stream",
     "text": [
      "SET @OLD_UNIQUE_CHECKS=@@UNIQUE_CHECKS, UNIQUE_CHECKS=0;\r\n",
      "SET @OLD_FOREIGN_KEY_CHECKS=@@FOREIGN_KEY_CHECKS, FOREIGN_KEY_CHECKS=0;\r\n",
      "SET @OLD_SQL_MODE=@@SQL_MODE, SQL_MODE='TRADITIONAL,ALLOW_INVALID_DATES';\r\n",
      "SET @OLD_TIME_ZONE=@@session.time_zone;\r\n",
      "\r\n",
      "DROP SCHEMA IF EXISTS `ghtorrent` ;\r\n",
      "CREATE SCHEMA IF NOT EXISTS `ghtorrent` DEFAULT CHARACTER SET utf8 ;\r\n",
      "USE `ghtorrent` ;\r\n",
      "\r\n",
      "-- -----------------------------------------------------\r\n",
      "-- Table `ghtorrent`.`users`\r\n",
      "-- -----------------------------------------------------\r\n",
      "DROP TABLE IF EXISTS `ghtorrent`.`users` ;\r\n",
      "\r\n",
      "CREATE TABLE IF NOT EXISTS `ghtorrent`.`users` (\r\n",
      "  `id` INT(11) NOT NULL AUTO_INCREMENT COMMENT '',\r\n",
      "  `login` VARCHAR(255) NOT NULL COMMENT '',\r\n",
      "  `company` VARCHAR(255) NULL DEFAULT NULL COMMENT '',\r\n",
      "  `created_at` TIMESTAMP NOT NULL DEFAULT CURRENT_TIMESTAMP COMMENT '',\r\n",
      "  `type` VARCHAR(255) NOT NULL DEFAULT 'USR' COMMENT '',\r\n",
      "  `fake` TINYINT(1) NOT NULL DEFAULT '0' COMMENT '',\r\n",
      "  `deleted` TINYINT(1) NOT NULL DEFAULT '0' COMMENT '',\r\n",
      "  `long` DECIMAL(11,8) COMMENT '',\r\n",
      "  `lat` DECIMAL(10,8) COMMENT '',\r\n",
      "  `country_code` CHAR(3) COMMENT '',\r\n",
      "  `state` VARCHAR(255) COMMENT '',\r\n",
      "  `city` VARCHAR(255) COMMENT '',\r\n",
      "  `location` VARCHAR(255) NULL DEFAULT NULL COMMENT '',\r\n",
      "  PRIMARY KEY (`id`)  COMMENT '')\r\n",
      "ENGINE = InnoDB\r\n",
      "DEFAULT CHARACTER SET = utf8;\r\n",
      "\r\n",
      "-- -----------------------------------------------------\r\n",
      "-- Table `ghtorrent`.`projects`\r\n",
      "-- -----------------------------------------------------\r\n",
      "DROP TABLE IF EXISTS `ghtorrent`.`projects` ;\r\n",
      "\r\n",
      "SET time_zone='+0:00';\r\n",
      "CREATE TABLE IF NOT EXISTS `ghtorrent`.`projects` (\r\n",
      "  `id` INT(11) NOT NULL AUTO_INCREMENT COMMENT '',\r\n",
      "  `url` VARCHAR(255) NULL DEFAULT NULL COMMENT '',\r\n",
      "  `owner_id` INT(11) NULL DEFAULT NULL COMMENT '',\r\n",
      "  `name` VARCHAR(255) NOT NULL COMMENT '',\r\n",
      "  `description` VARCHAR(255) NULL DEFAULT NULL COMMENT '',\r\n",
      "  `language` VARCHAR(255) NULL DEFAULT NULL COMMENT '',\r\n",
      "  `created_at` TIMESTAMP NOT NULL DEFAULT CURRENT_TIMESTAMP COMMENT '',\r\n",
      "  `forked_from` INT(11) NULL DEFAULT NULL COMMENT '',\r\n",
      "  `deleted` TINYINT(1) NOT NULL DEFAULT '0' COMMENT '',\r\n",
      "  `updated_at` TIMESTAMP NOT NULL DEFAULT '1970-01-01 00:00:01' COMMENT '',\r\n",
      "  PRIMARY KEY (`id`)  COMMENT '',\r\n",
      "  CONSTRAINT `projects_ibfk_1`\r\n",
      "    FOREIGN KEY (`owner_id`)\r\n",
      "    REFERENCES `ghtorrent`.`users` (`id`),\r\n",
      "  CONSTRAINT `projects_ibfk_2`\r\n",
      "    FOREIGN KEY (`forked_from`)\r\n",
      "    REFERENCES `ghtorrent`.`projects` (`id`))\r\n",
      "ENGINE = InnoDB\r\n",
      "DEFAULT CHARACTER SET = utf8;\r\n",
      "SET time_zone=@OLD_TIME_ZONE;\r\n",
      "\r\n",
      "-- -----------------------------------------------------\r\n",
      "-- Table `ghtorrent`.`commits`\r\n",
      "-- -----------------------------------------------------\r\n",
      "DROP TABLE IF EXISTS `ghtorrent`.`commits` ;\r\n",
      "\r\n",
      "CREATE TABLE IF NOT EXISTS `ghtorrent`.`commits` (\r\n",
      "  `id` INT(11) NOT NULL AUTO_INCREMENT COMMENT '',\r\n",
      "  `sha` VARCHAR(40) NULL DEFAULT NULL COMMENT '',\r\n",
      "  `author_id` INT(11) NULL DEFAULT NULL COMMENT '',\r\n",
      "  `committer_id` INT(11) NULL DEFAULT NULL COMMENT '',\r\n",
      "  `project_id` INT(11) NULL DEFAULT NULL COMMENT '',\r\n",
      "  `created_at` TIMESTAMP NOT NULL DEFAULT CURRENT_TIMESTAMP COMMENT '',\r\n",
      "  PRIMARY KEY (`id`)  COMMENT '',\r\n",
      "  CONSTRAINT `commits_ibfk_1`\r\n",
      "    FOREIGN KEY (`author_id`)\r\n",
      "    REFERENCES `ghtorrent`.`users` (`id`),\r\n",
      "  CONSTRAINT `commits_ibfk_2`\r\n",
      "    FOREIGN KEY (`committer_id`)\r\n",
      "    REFERENCES `ghtorrent`.`users` (`id`),\r\n",
      "  CONSTRAINT `commits_ibfk_3`\r\n",
      "    FOREIGN KEY (`project_id`)\r\n",
      "    REFERENCES `ghtorrent`.`projects` (`id`))\r\n",
      "ENGINE = InnoDB\r\n",
      "DEFAULT CHARACTER SET = utf8;\r\n",
      "\r\n",
      "-- -----------------------------------------------------\r\n",
      "-- Table `ghtorrent`.`commit_comments`\r\n",
      "-- -----------------------------------------------------\r\n",
      "DROP TABLE IF EXISTS `ghtorrent`.`commit_comments` ;\r\n",
      "\r\n",
      "CREATE TABLE IF NOT EXISTS `ghtorrent`.`commit_comments` (\r\n",
      "  `id` INT(11) NOT NULL AUTO_INCREMENT COMMENT '',\r\n",
      "  `commit_id` INT(11) NOT NULL COMMENT '',\r\n",
      "  `user_id` INT(11) NOT NULL COMMENT '',\r\n",
      "  `body` VARCHAR(256) NULL DEFAULT NULL COMMENT '',\r\n",
      "  `line` INT(11) NULL DEFAULT NULL COMMENT '',\r\n",
      "  `position` INT(11) NULL DEFAULT NULL COMMENT '',\r\n",
      "  `comment_id` INT(11) NOT NULL COMMENT '',\r\n",
      "  `created_at` TIMESTAMP NOT NULL DEFAULT CURRENT_TIMESTAMP COMMENT '',\r\n",
      "  PRIMARY KEY (`id`)  COMMENT '',\r\n",
      "  CONSTRAINT `commit_comments_ibfk_1`\r\n",
      "    FOREIGN KEY (`commit_id`)\r\n",
      "    REFERENCES `ghtorrent`.`commits` (`id`),\r\n",
      "  CONSTRAINT `commit_comments_ibfk_2`\r\n",
      "    FOREIGN KEY (`user_id`)\r\n",
      "    REFERENCES `ghtorrent`.`users` (`id`))\r\n",
      "ENGINE = InnoDB\r\n",
      "DEFAULT CHARACTER SET = utf8;\r\n",
      "\r\n",
      "-- -----------------------------------------------------\r\n",
      "-- Table `ghtorrent`.`commit_parents`\r\n",
      "-- -----------------------------------------------------\r\n",
      "DROP TABLE IF EXISTS `ghtorrent`.`commit_parents` ;\r\n",
      "\r\n",
      "CREATE TABLE IF NOT EXISTS `ghtorrent`.`commit_parents` (\r\n",
      "  `commit_id` INT(11) NOT NULL COMMENT '',\r\n",
      "  `parent_id` INT(11) NOT NULL COMMENT '',\r\n",
      "  CONSTRAINT `commit_parents_ibfk_1`\r\n",
      "    FOREIGN KEY (`commit_id`)\r\n",
      "    REFERENCES `ghtorrent`.`commits` (`id`),\r\n",
      "  CONSTRAINT `commit_parents_ibfk_2`\r\n",
      "    FOREIGN KEY (`parent_id`)\r\n",
      "    REFERENCES `ghtorrent`.`commits` (`id`))\r\n",
      "ENGINE = InnoDB\r\n",
      "DEFAULT CHARACTER SET = utf8;\r\n",
      "\r\n",
      "-- -----------------------------------------------------\r\n",
      "-- Table `ghtorrent`.`followers`\r\n",
      "-- -----------------------------------------------------\r\n",
      "DROP TABLE IF EXISTS `ghtorrent`.`followers` ;\r\n",
      "\r\n",
      "CREATE TABLE IF NOT EXISTS `ghtorrent`.`followers` (\r\n",
      "  `follower_id` INT(11) NOT NULL COMMENT '',\r\n",
      "  `user_id` INT(11) NOT NULL COMMENT '',\r\n",
      "  `created_at` TIMESTAMP NOT NULL DEFAULT CURRENT_TIMESTAMP COMMENT '',\r\n",
      "  PRIMARY KEY (`follower_id`, `user_id`)  COMMENT '',\r\n",
      "  CONSTRAINT `follower_fk1`\r\n",
      "    FOREIGN KEY (`follower_id`)\r\n",
      "    REFERENCES `ghtorrent`.`users` (`id`),\r\n",
      "  CONSTRAINT `follower_fk2`\r\n",
      "    FOREIGN KEY (`user_id`)\r\n",
      "    REFERENCES `ghtorrent`.`users` (`id`))\r\n",
      "ENGINE = InnoDB\r\n",
      "DEFAULT CHARACTER SET = utf8;\r\n",
      "\r\n",
      "-- -----------------------------------------------------\r\n",
      "-- Table `ghtorrent`.`pull_requests`\r\n",
      "-- -----------------------------------------------------\r\n",
      "DROP TABLE IF EXISTS `ghtorrent`.`pull_requests` ;\r\n",
      "\r\n",
      "CREATE TABLE IF NOT EXISTS `ghtorrent`.`pull_requests` (\r\n",
      "  `id` INT(11) NOT NULL AUTO_INCREMENT COMMENT '',\r\n",
      "  `head_repo_id` INT(11) NULL DEFAULT NULL COMMENT '',\r\n",
      "  `base_repo_id` INT(11) NOT NULL COMMENT '',\r\n",
      "  `head_commit_id` INT(11) NULL DEFAULT NULL COMMENT '',\r\n",
      "  `base_commit_id` INT(11) NOT NULL COMMENT '',\r\n",
      "  `pullreq_id` INT(11) NOT NULL COMMENT '',\r\n",
      "  `intra_branch` TINYINT(1) NOT NULL COMMENT '',\r\n",
      "  PRIMARY KEY (`id`)  COMMENT '',\r\n",
      "  CONSTRAINT `pull_requests_ibfk_1`\r\n",
      "    FOREIGN KEY (`head_repo_id`)\r\n",
      "    REFERENCES `ghtorrent`.`projects` (`id`),\r\n",
      "  CONSTRAINT `pull_requests_ibfk_2`\r\n",
      "    FOREIGN KEY (`base_repo_id`)\r\n",
      "    REFERENCES `ghtorrent`.`projects` (`id`),\r\n",
      "  CONSTRAINT `pull_requests_ibfk_3`\r\n",
      "    FOREIGN KEY (`head_commit_id`)\r\n",
      "    REFERENCES `ghtorrent`.`commits` (`id`),\r\n",
      "  CONSTRAINT `pull_requests_ibfk_4`\r\n",
      "    FOREIGN KEY (`base_commit_id`)\r\n",
      "    REFERENCES `ghtorrent`.`commits` (`id`))\r\n",
      "ENGINE = InnoDB\r\n",
      "DEFAULT CHARACTER SET = utf8;\r\n",
      "\r\n",
      "-- -----------------------------------------------------\r\n",
      "-- Table `ghtorrent`.`issues`\r\n",
      "-- -----------------------------------------------------\r\n",
      "DROP TABLE IF EXISTS `ghtorrent`.`issues` ;\r\n",
      "\r\n",
      "CREATE TABLE IF NOT EXISTS `ghtorrent`.`issues` (\r\n",
      "  `id` INT(11) NOT NULL AUTO_INCREMENT COMMENT '',\r\n",
      "  `repo_id` INT(11) NULL DEFAULT NULL COMMENT '',\r\n",
      "  `reporter_id` INT(11) NULL DEFAULT NULL COMMENT '',\r\n",
      "  `assignee_id` INT(11) NULL DEFAULT NULL COMMENT '',\r\n",
      "  `pull_request` TINYINT(1) NOT NULL COMMENT '',\r\n",
      "  `pull_request_id` INT(11) NULL DEFAULT NULL COMMENT '',\r\n",
      "  `created_at` TIMESTAMP NOT NULL DEFAULT CURRENT_TIMESTAMP COMMENT '',\r\n",
      "  `issue_id` INT(11) NOT NULL COMMENT '',\r\n",
      "  PRIMARY KEY (`id`)  COMMENT '',\r\n",
      "  CONSTRAINT `issues_ibfk_1`\r\n",
      "    FOREIGN KEY (`repo_id`)\r\n",
      "    REFERENCES `ghtorrent`.`projects` (`id`),\r\n",
      "  CONSTRAINT `issues_ibfk_2`\r\n",
      "    FOREIGN KEY (`reporter_id`)\r\n",
      "    REFERENCES `ghtorrent`.`users` (`id`),\r\n",
      "  CONSTRAINT `issues_ibfk_3`\r\n",
      "    FOREIGN KEY (`assignee_id`)\r\n",
      "    REFERENCES `ghtorrent`.`users` (`id`),\r\n",
      "  CONSTRAINT `issues_ibfk_4`\r\n",
      "    FOREIGN KEY (`pull_request_id`)\r\n",
      "    REFERENCES `ghtorrent`.`pull_requests` (`id`))\r\n",
      "ENGINE = InnoDB\r\n",
      "DEFAULT CHARACTER SET = utf8;\r\n",
      "\r\n",
      "-- -----------------------------------------------------\r\n",
      "-- Table `ghtorrent`.`issue_comments`\r\n",
      "-- -----------------------------------------------------\r\n",
      "DROP TABLE IF EXISTS `ghtorrent`.`issue_comments` ;\r\n",
      "\r\n",
      "CREATE TABLE IF NOT EXISTS `ghtorrent`.`issue_comments` (\r\n",
      "  `issue_id` INT(11) NOT NULL COMMENT '',\r\n",
      "  `user_id` INT(11) NOT NULL COMMENT '',\r\n",
      "  `comment_id` MEDIUMTEXT NOT NULL COMMENT '',\r\n",
      "  `created_at` TIMESTAMP NOT NULL DEFAULT CURRENT_TIMESTAMP COMMENT '',\r\n",
      "  CONSTRAINT `issue_comments_ibfk_1`\r\n",
      "    FOREIGN KEY (`issue_id`)\r\n",
      "    REFERENCES `ghtorrent`.`issues` (`id`),\r\n",
      "  CONSTRAINT `issue_comments_ibfk_2`\r\n",
      "    FOREIGN KEY (`user_id`)\r\n",
      "    REFERENCES `ghtorrent`.`users` (`id`))\r\n",
      "ENGINE = InnoDB\r\n",
      "DEFAULT CHARACTER SET = utf8;\r\n",
      "\r\n",
      "-- -----------------------------------------------------\r\n",
      "-- Table `ghtorrent`.`issue_events`\r\n",
      "-- -----------------------------------------------------\r\n",
      "DROP TABLE IF EXISTS `ghtorrent`.`issue_events` ;\r\n",
      "\r\n",
      "CREATE TABLE IF NOT EXISTS `ghtorrent`.`issue_events` (\r\n",
      "  `event_id` MEDIUMTEXT NOT NULL COMMENT '',\r\n",
      "  `issue_id` INT(11) NOT NULL COMMENT '',\r\n",
      "  `actor_id` INT(11) NOT NULL COMMENT '',\r\n",
      "  `action` VARCHAR(255) NOT NULL COMMENT '',\r\n",
      "  `action_specific` VARCHAR(50) NULL DEFAULT NULL COMMENT '',\r\n",
      "  `created_at` TIMESTAMP NOT NULL DEFAULT CURRENT_TIMESTAMP COMMENT '',\r\n",
      "  CONSTRAINT `issue_events_ibfk_1`\r\n",
      "    FOREIGN KEY (`issue_id`)\r\n",
      "    REFERENCES `ghtorrent`.`issues` (`id`),\r\n",
      "  CONSTRAINT `issue_events_ibfk_2`\r\n",
      "    FOREIGN KEY (`actor_id`)\r\n",
      "    REFERENCES `ghtorrent`.`users` (`id`))\r\n",
      "ENGINE = InnoDB\r\n",
      "DEFAULT CHARACTER SET = utf8;\r\n",
      "\r\n",
      "-- -----------------------------------------------------\r\n",
      "-- Table `ghtorrent`.`repo_labels`\r\n",
      "-- -----------------------------------------------------\r\n",
      "DROP TABLE IF EXISTS `ghtorrent`.`repo_labels` ;\r\n",
      "\r\n",
      "CREATE TABLE IF NOT EXISTS `ghtorrent`.`repo_labels` (\r\n",
      "  `id` INT(11) NOT NULL AUTO_INCREMENT COMMENT '',\r\n",
      "  `repo_id` INT(11) NULL DEFAULT NULL COMMENT '',\r\n",
      "  `name` VARCHAR(24) NOT NULL COMMENT '',\r\n",
      "  PRIMARY KEY (`id`)  COMMENT '',\r\n",
      "  CONSTRAINT `repo_labels_ibfk_1`\r\n",
      "    FOREIGN KEY (`repo_id`)\r\n",
      "    REFERENCES `ghtorrent`.`projects` (`id`))\r\n",
      "ENGINE = InnoDB\r\n",
      "DEFAULT CHARACTER SET = utf8;\r\n",
      "\r\n",
      "-- -----------------------------------------------------\r\n",
      "-- Table `ghtorrent`.`issue_labels`\r\n",
      "-- -----------------------------------------------------\r\n",
      "DROP TABLE IF EXISTS `ghtorrent`.`issue_labels` ;\r\n",
      "\r\n",
      "CREATE TABLE IF NOT EXISTS `ghtorrent`.`issue_labels` (\r\n",
      "  `label_id` INT(11) NOT NULL COMMENT '',\r\n",
      "  `issue_id` INT(11) NOT NULL COMMENT '',\r\n",
      "  PRIMARY KEY (`issue_id`, `label_id`)  COMMENT '',\r\n",
      "  CONSTRAINT `issue_labels_ibfk_1`\r\n",
      "    FOREIGN KEY (`label_id`)\r\n",
      "    REFERENCES `ghtorrent`.`repo_labels` (`id`),\r\n",
      "  CONSTRAINT `issue_labels_ibfk_2`\r\n",
      "    FOREIGN KEY (`issue_id`)\r\n",
      "    REFERENCES `ghtorrent`.`issues` (`id`))\r\n",
      "ENGINE = InnoDB\r\n",
      "DEFAULT CHARACTER SET = utf8;\r\n",
      "\r\n",
      "-- -----------------------------------------------------\r\n",
      "-- Table `ghtorrent`.`organization_members`\r\n",
      "-- -----------------------------------------------------\r\n",
      "DROP TABLE IF EXISTS `ghtorrent`.`organization_members` ;\r\n",
      "\r\n",
      "CREATE TABLE IF NOT EXISTS `ghtorrent`.`organization_members` (\r\n",
      "  `org_id` INT(11) NOT NULL COMMENT '',\r\n",
      "  `user_id` INT(11) NOT NULL COMMENT '',\r\n",
      "  `created_at` TIMESTAMP NOT NULL DEFAULT CURRENT_TIMESTAMP COMMENT '',\r\n",
      "  PRIMARY KEY (`org_id`, `user_id`)  COMMENT '',\r\n",
      "  CONSTRAINT `organization_members_ibfk_1`\r\n",
      "    FOREIGN KEY (`org_id`)\r\n",
      "    REFERENCES `ghtorrent`.`users` (`id`),\r\n",
      "  CONSTRAINT `organization_members_ibfk_2`\r\n",
      "    FOREIGN KEY (`user_id`)\r\n",
      "    REFERENCES `ghtorrent`.`users` (`id`))\r\n",
      "ENGINE = InnoDB\r\n",
      "DEFAULT CHARACTER SET = utf8;\r\n",
      "\r\n",
      "-- -----------------------------------------------------\r\n",
      "-- Table `ghtorrent`.`project_commits`\r\n",
      "-- -----------------------------------------------------\r\n",
      "DROP TABLE IF EXISTS `ghtorrent`.`project_commits` ;\r\n",
      "\r\n",
      "CREATE TABLE IF NOT EXISTS `ghtorrent`.`project_commits` (\r\n",
      "  `project_id` INT(11) NOT NULL DEFAULT '0' COMMENT '',\r\n",
      "  `commit_id` INT(11) NOT NULL DEFAULT '0' COMMENT '',\r\n",
      "  CONSTRAINT `project_commits_ibfk_1`\r\n",
      "    FOREIGN KEY (`project_id`)\r\n",
      "    REFERENCES `ghtorrent`.`projects` (`id`),\r\n",
      "  CONSTRAINT `project_commits_ibfk_2`\r\n",
      "    FOREIGN KEY (`commit_id`)\r\n",
      "    REFERENCES `ghtorrent`.`commits` (`id`))\r\n",
      "ENGINE = InnoDB\r\n",
      "DEFAULT CHARACTER SET = utf8;\r\n",
      "\r\n",
      "-- -----------------------------------------------------\r\n",
      "-- Table `ghtorrent`.`project_members`\r\n",
      "-- -----------------------------------------------------\r\n",
      "DROP TABLE IF EXISTS `ghtorrent`.`project_members` ;\r\n",
      "\r\n",
      "CREATE TABLE IF NOT EXISTS `ghtorrent`.`project_members` (\r\n",
      "  `repo_id` INT(11) NOT NULL COMMENT '',\r\n",
      "  `user_id` INT(11) NOT NULL COMMENT '',\r\n",
      "  `created_at` TIMESTAMP NOT NULL DEFAULT CURRENT_TIMESTAMP COMMENT '',\r\n",
      "  `ext_ref_id` VARCHAR(24) NOT NULL DEFAULT '0' COMMENT '',\r\n",
      "  PRIMARY KEY (`repo_id`, `user_id`)  COMMENT '',\r\n",
      "  CONSTRAINT `project_members_ibfk_1`\r\n",
      "    FOREIGN KEY (`repo_id`)\r\n",
      "    REFERENCES `ghtorrent`.`projects` (`id`),\r\n",
      "  CONSTRAINT `project_members_ibfk_2`\r\n",
      "    FOREIGN KEY (`user_id`)\r\n",
      "    REFERENCES `ghtorrent`.`users` (`id`))\r\n",
      "ENGINE = InnoDB\r\n",
      "DEFAULT CHARACTER SET = utf8;\r\n",
      "\r\n",
      "-- -----------------------------------------------------\r\n",
      "-- Table `ghtorrent`.`project_languages`\r\n",
      "-- -----------------------------------------------------\r\n",
      "DROP TABLE IF EXISTS `ghtorrent`.`project_languages` ;\r\n",
      "\r\n",
      "CREATE TABLE IF NOT EXISTS `ghtorrent`.`project_languages` (\r\n",
      "  `project_id` INT(11) NOT NULL COMMENT '',\r\n",
      "  `language` VARCHAR(255) NULL DEFAULT NULL COMMENT '',\r\n",
      "  `bytes` INT(11) COMMENT '',\r\n",
      "  `created_at` TIMESTAMP NOT NULL DEFAULT CURRENT_TIMESTAMP COMMENT '',\r\n",
      "  CONSTRAINT `project_languages_ibfk_1`\r\n",
      "    FOREIGN KEY (`project_id`)\r\n",
      "    REFERENCES `ghtorrent`.`projects` (`id`))\r\n",
      "ENGINE = InnoDB\r\n",
      "DEFAULT CHARACTER SET = utf8;\r\n",
      "\r\n",
      "-- -----------------------------------------------------\r\n",
      "-- Table `ghtorrent`.`project_topics`\r\n",
      "-- -----------------------------------------------------\r\n",
      "DROP TABLE IF EXISTS `ghtorrent`.`project_topics` ;\r\n",
      "\r\n",
      "CREATE TABLE IF NOT EXISTS `ghtorrent`.`project_topics` (\r\n",
      "  `project_id` INT(11) NOT NULL COMMENT '',\r\n",
      "  `topic_name` VARCHAR(255) COMMENT '',\r\n",
      "  `created_at` TIMESTAMP NOT NULL DEFAULT CURRENT_TIMESTAMP COMMENT '',\r\n",
      "  `deleted` TINYINT(1) NOT NULL DEFAULT '0' COMMENT '',\r\n",
      "  PRIMARY KEY (`project_id`, `topic_name`)  COMMENT '',\r\n",
      "  CONSTRAINT `project_topics_ibfk_1`\r\n",
      "    FOREIGN KEY (`project_id`)\r\n",
      "    REFERENCES `ghtorrent`.`projects` (`id`))\r\n",
      "ENGINE = InnoDB\r\n",
      "DEFAULT CHARACTER SET = utf8;\r\n",
      "\r\n",
      "-- -----------------------------------------------------\r\n",
      "-- Table `ghtorrent`.`pull_request_comments`\r\n",
      "-- -----------------------------------------------------\r\n",
      "DROP TABLE IF EXISTS `ghtorrent`.`pull_request_comments` ;\r\n",
      "\r\n",
      "CREATE TABLE IF NOT EXISTS `ghtorrent`.`pull_request_comments` (\r\n",
      "  `pull_request_id` INT(11) NOT NULL COMMENT '',\r\n",
      "  `user_id` INT(11) NOT NULL COMMENT '',\r\n",
      "  `comment_id` MEDIUMTEXT NOT NULL COMMENT '',\r\n",
      "  `position` INT(11) NULL DEFAULT NULL COMMENT '',\r\n",
      "  `body` VARCHAR(256) NULL DEFAULT NULL COMMENT '',\r\n",
      "  `commit_id` INT(11) NOT NULL COMMENT '',\r\n",
      "  `created_at` TIMESTAMP NOT NULL DEFAULT CURRENT_TIMESTAMP COMMENT '',\r\n",
      "  CONSTRAINT `pull_request_comments_ibfk_1`\r\n",
      "    FOREIGN KEY (`pull_request_id`)\r\n",
      "    REFERENCES `ghtorrent`.`pull_requests` (`id`),\r\n",
      "  CONSTRAINT `pull_request_comments_ibfk_2`\r\n",
      "    FOREIGN KEY (`user_id`)\r\n",
      "    REFERENCES `ghtorrent`.`users` (`id`),\r\n",
      "  CONSTRAINT `pull_request_comments_ibfk_3`\r\n",
      "    FOREIGN KEY (`commit_id`)\r\n",
      "    REFERENCES `ghtorrent`.`commits` (`id`))\r\n",
      "ENGINE = InnoDB\r\n",
      "DEFAULT CHARACTER SET = utf8;\r\n",
      "\r\n",
      "-- -----------------------------------------------------\r\n",
      "-- Table `ghtorrent`.`pull_request_commits`\r\n",
      "-- -----------------------------------------------------\r\n",
      "DROP TABLE IF EXISTS `ghtorrent`.`pull_request_commits` ;\r\n",
      "\r\n",
      "CREATE TABLE IF NOT EXISTS `ghtorrent`.`pull_request_commits` (\r\n",
      "  `pull_request_id` INT(11) NOT NULL COMMENT '',\r\n",
      "  `commit_id` INT(11) NOT NULL COMMENT '',\r\n",
      "  PRIMARY KEY (`pull_request_id`, `commit_id`)  COMMENT '',\r\n",
      "  CONSTRAINT `pull_request_commits_ibfk_1`\r\n",
      "    FOREIGN KEY (`pull_request_id`)\r\n",
      "    REFERENCES `ghtorrent`.`pull_requests` (`id`),\r\n",
      "  CONSTRAINT `pull_request_commits_ibfk_2`\r\n",
      "    FOREIGN KEY (`commit_id`)\r\n",
      "    REFERENCES `ghtorrent`.`commits` (`id`))\r\n",
      "ENGINE = InnoDB\r\n",
      "DEFAULT CHARACTER SET = utf8;\r\n",
      "\r\n",
      "-- -----------------------------------------------------\r\n",
      "-- Table `ghtorrent`.`pull_request_history`\r\n",
      "-- -----------------------------------------------------\r\n",
      "DROP TABLE IF EXISTS `ghtorrent`.`pull_request_history` ;\r\n",
      "\r\n",
      "CREATE TABLE IF NOT EXISTS `ghtorrent`.`pull_request_history` (\r\n",
      "  `id` INT(11) NOT NULL AUTO_INCREMENT COMMENT '',\r\n",
      "  `pull_request_id` INT(11) NOT NULL COMMENT '',\r\n",
      "  `created_at` TIMESTAMP NOT NULL DEFAULT CURRENT_TIMESTAMP COMMENT '',\r\n",
      "  `action` VARCHAR(255) NOT NULL COMMENT '',\r\n",
      "  `actor_id` INT(11) NULL DEFAULT NULL COMMENT '',\r\n",
      "  PRIMARY KEY (`id`)  COMMENT '',\r\n",
      "  CONSTRAINT `pull_request_history_ibfk_1`\r\n",
      "    FOREIGN KEY (`pull_request_id`)\r\n",
      "    REFERENCES `ghtorrent`.`pull_requests` (`id`),\r\n",
      "  CONSTRAINT `pull_request_history_ibfk_2`\r\n",
      "    FOREIGN KEY (`actor_id`)\r\n",
      "    REFERENCES `ghtorrent`.`users` (`id`))\r\n",
      "ENGINE = InnoDB\r\n",
      "DEFAULT CHARACTER SET = utf8;\r\n",
      "\r\n",
      "-- -----------------------------------------------------\r\n",
      "-- Table `ghtorrent`.`repo_milestones`\r\n",
      "-- -----------------------------------------------------\r\n",
      "DROP TABLE IF EXISTS `ghtorrent`.`repo_milestones` ;\r\n",
      "\r\n",
      "CREATE TABLE IF NOT EXISTS `ghtorrent`.`repo_milestones` (\r\n",
      "  `id` INT(11) NOT NULL AUTO_INCREMENT COMMENT '',\r\n",
      "  `repo_id` INT(11) NULL DEFAULT NULL COMMENT '',\r\n",
      "  `name` VARCHAR(24) NOT NULL COMMENT '',\r\n",
      "  PRIMARY KEY (`id`)  COMMENT '',\r\n",
      "  CONSTRAINT `repo_milestones_ibfk_1`\r\n",
      "    FOREIGN KEY (`repo_id`)\r\n",
      "    REFERENCES `ghtorrent`.`projects` (`id`))\r\n",
      "ENGINE = InnoDB\r\n",
      "DEFAULT CHARACTER SET = utf8;\r\n",
      "\r\n",
      "-- -----------------------------------------------------\r\n",
      "-- Table `ghtorrent`.`schema_info`\r\n",
      "-- -----------------------------------------------------\r\n",
      "DROP TABLE IF EXISTS `ghtorrent`.`schema_info` ;\r\n",
      "\r\n",
      "CREATE TABLE IF NOT EXISTS `ghtorrent`.`schema_info` (\r\n",
      "  `version` INT(11) NOT NULL DEFAULT '0' COMMENT '')\r\n",
      "ENGINE = MyISAM\r\n",
      "DEFAULT CHARACTER SET = utf8;\r\n",
      "\r\n",
      "-- -----------------------------------------------------\r\n",
      "-- Table `ghtorrent`.`watchers`\r\n",
      "-- -----------------------------------------------------\r\n",
      "DROP TABLE IF EXISTS `ghtorrent`.`watchers` ;\r\n",
      "\r\n",
      "CREATE TABLE IF NOT EXISTS `ghtorrent`.`watchers` (\r\n",
      "  `repo_id` INT(11) NOT NULL COMMENT '',\r\n",
      "  `user_id` INT(11) NOT NULL COMMENT '',\r\n",
      "  `created_at` TIMESTAMP NOT NULL DEFAULT CURRENT_TIMESTAMP COMMENT '',\r\n",
      "  PRIMARY KEY (`repo_id`, `user_id`)  COMMENT '',\r\n",
      "  CONSTRAINT `watchers_ibfk_1`\r\n",
      "    FOREIGN KEY (`repo_id`)\r\n",
      "    REFERENCES `ghtorrent`.`projects` (`id`),\r\n",
      "  CONSTRAINT `watchers_ibfk_2`\r\n",
      "    FOREIGN KEY (`user_id`)\r\n",
      "    REFERENCES `ghtorrent`.`users` (`id`))\r\n",
      "ENGINE = InnoDB\r\n",
      "DEFAULT CHARACTER SET = utf8;\r\n",
      "\r\n",
      "SET SQL_MODE=@OLD_SQL_MODE;\r\n",
      "SET FOREIGN_KEY_CHECKS=@OLD_FOREIGN_KEY_CHECKS;\r\n",
      "SET UNIQUE_CHECKS=@OLD_UNIQUE_CHECKS;\r\n"
     ]
    }
   ],
   "source": [
    "!cat ./data/mysql-2019-03-01/schema.sql"
   ]
  },
  {
   "cell_type": "code",
   "execution_count": 5,
   "metadata": {
    "ExecuteTime": {
     "end_time": "2019-05-01T23:53:46.222783Z",
     "start_time": "2019-05-01T23:53:46.204254Z"
    }
   },
   "outputs": [],
   "source": [
    "def convert_dt(sdt):\n",
    "    try:\n",
    "        return pd.datetime.strptime(sdt, '%Y-%m-%d %H:%M:%S')\n",
    "    except Exception as e:\n",
    "#         print(e)\n",
    "        pass"
   ]
  },
  {
   "cell_type": "markdown",
   "metadata": {
    "heading_collapsed": true
   },
   "source": [
    "## followers all"
   ]
  },
  {
   "cell_type": "code",
   "execution_count": 6,
   "metadata": {
    "ExecuteTime": {
     "end_time": "2019-04-30T22:10:52.195292Z",
     "start_time": "2019-04-30T22:10:32.930869Z"
    },
    "hidden": true
   },
   "outputs": [
    {
     "data": {
      "text/plain": [
       "(29809738, 3)"
      ]
     },
     "execution_count": 6,
     "metadata": {},
     "output_type": "execute_result"
    }
   ],
   "source": [
    "followers_df = pd.read_csv('./data/mysql-2019-03-01/followers.csv',\n",
    "                           header=None,\n",
    "                           names=['follower_id', 'user_id', 'created_at'],\n",
    "                           parse_dates=[2])\n",
    "followers_df.shape"
   ]
  },
  {
   "cell_type": "code",
   "execution_count": 7,
   "metadata": {
    "ExecuteTime": {
     "end_time": "2019-04-30T22:10:52.447414Z",
     "start_time": "2019-04-30T22:10:52.427786Z"
    },
    "hidden": true
   },
   "outputs": [
    {
     "data": {
      "text/plain": [
       "follower_id             int64\n",
       "user_id                 int64\n",
       "created_at     datetime64[ns]\n",
       "dtype: object"
      ]
     },
     "execution_count": 7,
     "metadata": {},
     "output_type": "execute_result"
    }
   ],
   "source": [
    "followers_df.dtypes"
   ]
  },
  {
   "cell_type": "code",
   "execution_count": 8,
   "metadata": {
    "ExecuteTime": {
     "end_time": "2019-04-30T22:10:54.189851Z",
     "start_time": "2019-04-30T22:10:52.678743Z"
    },
    "hidden": true
   },
   "outputs": [
    {
     "data": {
      "text/html": [
       "<div>\n",
       "<style scoped>\n",
       "    .dataframe tbody tr th:only-of-type {\n",
       "        vertical-align: middle;\n",
       "    }\n",
       "\n",
       "    .dataframe tbody tr th {\n",
       "        vertical-align: top;\n",
       "    }\n",
       "\n",
       "    .dataframe thead th {\n",
       "        text-align: right;\n",
       "    }\n",
       "</style>\n",
       "<table border=\"1\" class=\"dataframe\">\n",
       "  <thead>\n",
       "    <tr style=\"text-align: right;\">\n",
       "      <th></th>\n",
       "      <th>follower_id</th>\n",
       "      <th>user_id</th>\n",
       "      <th>created_at</th>\n",
       "    </tr>\n",
       "  </thead>\n",
       "  <tbody>\n",
       "    <tr>\n",
       "      <th>623626</th>\n",
       "      <td>16486</td>\n",
       "      <td>331661</td>\n",
       "      <td>2013-06-27 03:08:46</td>\n",
       "    </tr>\n",
       "    <tr>\n",
       "      <th>11383304</th>\n",
       "      <td>3148103</td>\n",
       "      <td>554254</td>\n",
       "      <td>2013-09-13 22:47:49</td>\n",
       "    </tr>\n",
       "    <tr>\n",
       "      <th>24129648</th>\n",
       "      <td>31566290</td>\n",
       "      <td>4504583</td>\n",
       "      <td>2015-03-22 04:57:57</td>\n",
       "    </tr>\n",
       "    <tr>\n",
       "      <th>4500251</th>\n",
       "      <td>312720</td>\n",
       "      <td>3834473</td>\n",
       "      <td>2014-04-26 15:09:56</td>\n",
       "    </tr>\n",
       "    <tr>\n",
       "      <th>6634052</th>\n",
       "      <td>1137746</td>\n",
       "      <td>418425</td>\n",
       "      <td>2013-01-29 13:47:14</td>\n",
       "    </tr>\n",
       "  </tbody>\n",
       "</table>\n",
       "</div>"
      ],
      "text/plain": [
       "          follower_id  user_id          created_at\n",
       "623626          16486   331661 2013-06-27 03:08:46\n",
       "11383304      3148103   554254 2013-09-13 22:47:49\n",
       "24129648     31566290  4504583 2015-03-22 04:57:57\n",
       "4500251        312720  3834473 2014-04-26 15:09:56\n",
       "6634052       1137746   418425 2013-01-29 13:47:14"
      ]
     },
     "execution_count": 8,
     "metadata": {},
     "output_type": "execute_result"
    }
   ],
   "source": [
    "followers_df.sample(5)"
   ]
  },
  {
   "cell_type": "code",
   "execution_count": 9,
   "metadata": {
    "ExecuteTime": {
     "end_time": "2019-04-30T22:10:57.576908Z",
     "start_time": "2019-04-30T22:10:54.429972Z"
    },
    "hidden": true
   },
   "outputs": [
    {
     "data": {
      "text/html": [
       "<div>\n",
       "<style scoped>\n",
       "    .dataframe tbody tr th:only-of-type {\n",
       "        vertical-align: middle;\n",
       "    }\n",
       "\n",
       "    .dataframe tbody tr th {\n",
       "        vertical-align: top;\n",
       "    }\n",
       "\n",
       "    .dataframe thead th {\n",
       "        text-align: right;\n",
       "    }\n",
       "</style>\n",
       "<table border=\"1\" class=\"dataframe\">\n",
       "  <thead>\n",
       "    <tr style=\"text-align: right;\">\n",
       "      <th></th>\n",
       "      <th>follower_id</th>\n",
       "      <th>user_id</th>\n",
       "    </tr>\n",
       "  </thead>\n",
       "  <tbody>\n",
       "    <tr>\n",
       "      <th>count</th>\n",
       "      <td>2.980974e+07</td>\n",
       "      <td>2.980974e+07</td>\n",
       "    </tr>\n",
       "    <tr>\n",
       "      <th>mean</th>\n",
       "      <td>1.181476e+07</td>\n",
       "      <td>6.199693e+06</td>\n",
       "    </tr>\n",
       "    <tr>\n",
       "      <th>std</th>\n",
       "      <td>1.392206e+07</td>\n",
       "      <td>1.040068e+07</td>\n",
       "    </tr>\n",
       "    <tr>\n",
       "      <th>min</th>\n",
       "      <td>1.000000e+00</td>\n",
       "      <td>1.000000e+00</td>\n",
       "    </tr>\n",
       "    <tr>\n",
       "      <th>25%</th>\n",
       "      <td>1.393534e+06</td>\n",
       "      <td>1.555170e+05</td>\n",
       "    </tr>\n",
       "    <tr>\n",
       "      <th>50%</th>\n",
       "      <td>6.012236e+06</td>\n",
       "      <td>1.710573e+06</td>\n",
       "    </tr>\n",
       "    <tr>\n",
       "      <th>75%</th>\n",
       "      <td>1.333071e+07</td>\n",
       "      <td>7.163076e+06</td>\n",
       "    </tr>\n",
       "    <tr>\n",
       "      <th>max</th>\n",
       "      <td>4.649819e+07</td>\n",
       "      <td>4.649817e+07</td>\n",
       "    </tr>\n",
       "  </tbody>\n",
       "</table>\n",
       "</div>"
      ],
      "text/plain": [
       "        follower_id       user_id\n",
       "count  2.980974e+07  2.980974e+07\n",
       "mean   1.181476e+07  6.199693e+06\n",
       "std    1.392206e+07  1.040068e+07\n",
       "min    1.000000e+00  1.000000e+00\n",
       "25%    1.393534e+06  1.555170e+05\n",
       "50%    6.012236e+06  1.710573e+06\n",
       "75%    1.333071e+07  7.163076e+06\n",
       "max    4.649819e+07  4.649817e+07"
      ]
     },
     "execution_count": 9,
     "metadata": {},
     "output_type": "execute_result"
    }
   ],
   "source": [
    "followers_df.describe()"
   ]
  },
  {
   "cell_type": "code",
   "execution_count": 17,
   "metadata": {
    "ExecuteTime": {
     "end_time": "2019-04-30T22:19:02.547899Z",
     "start_time": "2019-04-30T22:19:02.467801Z"
    },
    "hidden": true
   },
   "outputs": [],
   "source": [
    "for i in ['follower_id', 'user_id', 'created_at']:\n",
    "    mc['github']['followers_all'].create_index(i)"
   ]
  },
  {
   "cell_type": "code",
   "execution_count": 33,
   "metadata": {
    "ExecuteTime": {
     "end_time": "2019-05-01T00:48:01.269880Z",
     "start_time": "2019-04-30T23:40:46.926917Z"
    },
    "hidden": true
   },
   "outputs": [
    {
     "data": {
      "application/vnd.jupyter.widget-view+json": {
       "model_id": "f6fe7a6f2ce44fe28c6605d7612447dd",
       "version_major": 2,
       "version_minor": 0
      },
      "text/plain": [
       "HBox(children=(IntProgress(value=0, max=29809738), HTML(value='')))"
      ]
     },
     "metadata": {},
     "output_type": "display_data"
    },
    {
     "data": {
      "text/plain": [
       "29809738"
      ]
     },
     "execution_count": 33,
     "metadata": {},
     "output_type": "execute_result"
    }
   ],
   "source": [
    "to_insert = []\n",
    "\n",
    "for uid, row in tn(followers_df.iterrows(), total=followers_df.shape[0]):\n",
    "    to_insert.append(row.to_dict())\n",
    "    if len(to_insert) >= 10_000:\n",
    "        mc['github']['followers_all'].insert_many(to_insert)\n",
    "        to_insert = []\n",
    "if len(to_insert):\n",
    "    mc['github']['followers_all'].insert_many(to_insert)\n",
    "mc['github']['followers_all'].estimated_document_count()"
   ]
  },
  {
   "cell_type": "markdown",
   "metadata": {
    "heading_collapsed": true
   },
   "source": [
    "## following"
   ]
  },
  {
   "cell_type": "code",
   "execution_count": 10,
   "metadata": {
    "ExecuteTime": {
     "end_time": "2019-04-30T22:14:55.838644Z",
     "start_time": "2019-04-30T22:10:57.811937Z"
    },
    "hidden": true
   },
   "outputs": [
    {
     "data": {
      "text/plain": [
       "(3833652,)"
      ]
     },
     "execution_count": 10,
     "metadata": {},
     "output_type": "execute_result"
    }
   ],
   "source": [
    "following_s = followers_df.groupby('follower_id')['user_id'].apply(list)\n",
    "following_s.shape"
   ]
  },
  {
   "cell_type": "code",
   "execution_count": 12,
   "metadata": {
    "ExecuteTime": {
     "end_time": "2019-04-30T22:14:56.606741Z",
     "start_time": "2019-04-30T22:14:56.461543Z"
    },
    "hidden": true
   },
   "outputs": [
    {
     "data": {
      "text/plain": [
       "follower_id\n",
       "1492978     [8150, 59801, 75710, 117467, 1221770, 5664798,...\n",
       "1668790                                              [792759]\n",
       "10133110                                            [1824559]\n",
       "30949112                                           [36256632]\n",
       "34440338                                           [32094962]\n",
       "Name: user_id, dtype: object"
      ]
     },
     "execution_count": 12,
     "metadata": {},
     "output_type": "execute_result"
    }
   ],
   "source": [
    "following_s.sample(5)"
   ]
  },
  {
   "cell_type": "code",
   "execution_count": 13,
   "metadata": {
    "ExecuteTime": {
     "end_time": "2019-04-30T22:14:57.648063Z",
     "start_time": "2019-04-30T22:14:56.920186Z"
    },
    "hidden": true
   },
   "outputs": [
    {
     "data": {
      "text/plain": [
       "count    3.833652e+06\n",
       "mean     7.775807e+00\n",
       "std      3.151196e+02\n",
       "min      1.000000e+00\n",
       "25%      1.000000e+00\n",
       "50%      2.000000e+00\n",
       "75%      5.000000e+00\n",
       "max      2.938340e+05\n",
       "Name: user_id, dtype: float64"
      ]
     },
     "execution_count": 13,
     "metadata": {},
     "output_type": "execute_result"
    }
   ],
   "source": [
    "following_s.map(len).describe()"
   ]
  },
  {
   "cell_type": "code",
   "execution_count": 14,
   "metadata": {
    "ExecuteTime": {
     "end_time": "2019-04-30T22:14:57.978501Z",
     "start_time": "2019-04-30T22:14:57.940015Z"
    },
    "hidden": true
   },
   "outputs": [],
   "source": [
    "for i in ['following_ids', 'following_count']:\n",
    "    mc['github']['following'].create_index(i)"
   ]
  },
  {
   "cell_type": "code",
   "execution_count": 15,
   "metadata": {
    "ExecuteTime": {
     "end_time": "2019-04-30T22:17:48.542126Z",
     "start_time": "2019-04-30T22:14:58.273758Z"
    },
    "hidden": true
   },
   "outputs": [
    {
     "data": {
      "application/vnd.jupyter.widget-view+json": {
       "model_id": "61fdf0cbf018459aa3d58f1027b0a515",
       "version_major": 2,
       "version_minor": 0
      },
      "text/plain": [
       "HBox(children=(IntProgress(value=0, max=3833652), HTML(value='')))"
      ]
     },
     "metadata": {},
     "output_type": "display_data"
    },
    {
     "name": "stdout",
     "output_type": "stream",
     "text": [
      "\n"
     ]
    },
    {
     "data": {
      "text/plain": [
       "3833652"
      ]
     },
     "execution_count": 15,
     "metadata": {},
     "output_type": "execute_result"
    }
   ],
   "source": [
    "to_insert = []\n",
    "\n",
    "for uid, fids in tn(following_s.iteritems(), total=following_s.shape[0]):\n",
    "    to_insert.append({'_id': uid, 'following_ids': fids, 'following_count': len(fids)})\n",
    "    if len(to_insert) >= 10_000:\n",
    "        mc['github']['following'].insert_many(to_insert)\n",
    "        to_insert = []\n",
    "if len(to_insert):\n",
    "    mc['github']['following'].insert_many(to_insert)\n",
    "mc['github']['following'].estimated_document_count()"
   ]
  },
  {
   "cell_type": "markdown",
   "metadata": {
    "heading_collapsed": true
   },
   "source": [
    "## followers"
   ]
  },
  {
   "cell_type": "code",
   "execution_count": 19,
   "metadata": {
    "ExecuteTime": {
     "end_time": "2019-04-30T22:24:33.139724Z",
     "start_time": "2019-04-30T22:20:34.712624Z"
    },
    "hidden": true
   },
   "outputs": [
    {
     "data": {
      "text/plain": [
       "(3793200,)"
      ]
     },
     "execution_count": 19,
     "metadata": {},
     "output_type": "execute_result"
    }
   ],
   "source": [
    "followers_s = followers_df.groupby('user_id')['follower_id'].apply(list)\n",
    "followers_s.shape"
   ]
  },
  {
   "cell_type": "code",
   "execution_count": 20,
   "metadata": {
    "ExecuteTime": {
     "end_time": "2019-04-30T22:24:33.669188Z",
     "start_time": "2019-04-30T22:24:33.527629Z"
    },
    "hidden": true
   },
   "outputs": [
    {
     "data": {
      "text/plain": [
       "user_id\n",
       "14152966                                           [13878828]\n",
       "266586      [25954, 46270, 108153, 131853, 278815, 715651,...\n",
       "7151169                                    [3688872, 4712463]\n",
       "2562295                                     [184862, 1998374]\n",
       "21617645                                           [10095939]\n",
       "Name: follower_id, dtype: object"
      ]
     },
     "execution_count": 20,
     "metadata": {},
     "output_type": "execute_result"
    }
   ],
   "source": [
    "followers_s.sample(5)"
   ]
  },
  {
   "cell_type": "code",
   "execution_count": 21,
   "metadata": {
    "ExecuteTime": {
     "end_time": "2019-04-30T22:24:34.758423Z",
     "start_time": "2019-04-30T22:24:34.051607Z"
    },
    "hidden": true
   },
   "outputs": [
    {
     "data": {
      "text/plain": [
       "count    3.793200e+06\n",
       "mean     7.858731e+00\n",
       "std      1.167798e+02\n",
       "min      1.000000e+00\n",
       "25%      1.000000e+00\n",
       "50%      2.000000e+00\n",
       "75%      4.000000e+00\n",
       "max      9.525800e+04\n",
       "Name: follower_id, dtype: float64"
      ]
     },
     "execution_count": 21,
     "metadata": {},
     "output_type": "execute_result"
    }
   ],
   "source": [
    "followers_s.map(len).describe()"
   ]
  },
  {
   "cell_type": "code",
   "execution_count": 22,
   "metadata": {
    "ExecuteTime": {
     "end_time": "2019-04-30T22:24:35.177200Z",
     "start_time": "2019-04-30T22:24:35.135060Z"
    },
    "hidden": true
   },
   "outputs": [],
   "source": [
    "for i in ['followers_ids', 'followers_count']:\n",
    "    mc['github']['followers'].create_index(i)"
   ]
  },
  {
   "cell_type": "code",
   "execution_count": 23,
   "metadata": {
    "ExecuteTime": {
     "end_time": "2019-04-30T23:33:29.089552Z",
     "start_time": "2019-04-30T22:33:14.419839Z"
    },
    "hidden": true
   },
   "outputs": [
    {
     "data": {
      "application/vnd.jupyter.widget-view+json": {
       "model_id": "57cf0c7f1fa9460490e786d744d15267",
       "version_major": 2,
       "version_minor": 0
      },
      "text/plain": [
       "HBox(children=(IntProgress(value=0, max=3793200), HTML(value='')))"
      ]
     },
     "metadata": {},
     "output_type": "display_data"
    },
    {
     "data": {
      "text/plain": [
       "3793200"
      ]
     },
     "execution_count": 23,
     "metadata": {},
     "output_type": "execute_result"
    }
   ],
   "source": [
    "to_insert = []\n",
    "\n",
    "for uid, fids in tn(followers_s.iteritems(), total=followers_s.shape[0]):\n",
    "    to_insert.append({'_id': uid, 'followers_ids': fids, 'followers_count': len(fids)})\n",
    "    if len(to_insert) >= 10_000:\n",
    "        mc['github']['followers'].insert_many(to_insert)\n",
    "        to_insert = []\n",
    "if len(to_insert):\n",
    "    mc['github']['followers'].insert_many(to_insert)\n",
    "mc['github']['followers'].estimated_document_count()"
   ]
  },
  {
   "cell_type": "markdown",
   "metadata": {
    "heading_collapsed": true
   },
   "source": [
    "## watchers all"
   ]
  },
  {
   "cell_type": "code",
   "execution_count": 6,
   "metadata": {
    "ExecuteTime": {
     "end_time": "2019-05-01T10:39:25.871440Z",
     "start_time": "2019-05-01T10:37:28.778839Z"
    },
    "hidden": true
   },
   "outputs": [
    {
     "data": {
      "text/plain": [
       "(138749808, 3)"
      ]
     },
     "execution_count": 6,
     "metadata": {},
     "output_type": "execute_result"
    }
   ],
   "source": [
    "watchers_df = pd.read_csv('./data/mysql-2019-03-01/watchers.csv',\n",
    "                           header=None,\n",
    "                           names=['repo_id', 'user_id', 'created_at'],\n",
    "                           parse_dates=[2])\n",
    "watchers_df.shape"
   ]
  },
  {
   "cell_type": "code",
   "execution_count": 7,
   "metadata": {
    "ExecuteTime": {
     "end_time": "2019-05-01T10:40:52.636709Z",
     "start_time": "2019-05-01T10:40:52.610287Z"
    },
    "hidden": true
   },
   "outputs": [
    {
     "data": {
      "text/plain": [
       "repo_id                int64\n",
       "user_id                int64\n",
       "created_at    datetime64[ns]\n",
       "dtype: object"
      ]
     },
     "execution_count": 7,
     "metadata": {},
     "output_type": "execute_result"
    }
   ],
   "source": [
    "watchers_df.dtypes"
   ]
  },
  {
   "cell_type": "code",
   "execution_count": 8,
   "metadata": {
    "ExecuteTime": {
     "end_time": "2019-05-01T10:41:01.840086Z",
     "start_time": "2019-05-01T10:40:54.285177Z"
    },
    "hidden": true
   },
   "outputs": [
    {
     "data": {
      "text/html": [
       "<div>\n",
       "<style scoped>\n",
       "    .dataframe tbody tr th:only-of-type {\n",
       "        vertical-align: middle;\n",
       "    }\n",
       "\n",
       "    .dataframe tbody tr th {\n",
       "        vertical-align: top;\n",
       "    }\n",
       "\n",
       "    .dataframe thead th {\n",
       "        text-align: right;\n",
       "    }\n",
       "</style>\n",
       "<table border=\"1\" class=\"dataframe\">\n",
       "  <thead>\n",
       "    <tr style=\"text-align: right;\">\n",
       "      <th></th>\n",
       "      <th>repo_id</th>\n",
       "      <th>user_id</th>\n",
       "      <th>created_at</th>\n",
       "    </tr>\n",
       "  </thead>\n",
       "  <tbody>\n",
       "    <tr>\n",
       "      <th>33947312</th>\n",
       "      <td>6338879</td>\n",
       "      <td>1061441</td>\n",
       "      <td>2015-08-20 06:27:26</td>\n",
       "    </tr>\n",
       "    <tr>\n",
       "      <th>96196833</th>\n",
       "      <td>43064597</td>\n",
       "      <td>63824</td>\n",
       "      <td>2017-04-12 12:32:26</td>\n",
       "    </tr>\n",
       "    <tr>\n",
       "      <th>127631316</th>\n",
       "      <td>89125366</td>\n",
       "      <td>4575050</td>\n",
       "      <td>2018-12-08 12:40:12</td>\n",
       "    </tr>\n",
       "    <tr>\n",
       "      <th>111082730</th>\n",
       "      <td>61491827</td>\n",
       "      <td>8744363</td>\n",
       "      <td>2018-01-28 22:23:13</td>\n",
       "    </tr>\n",
       "    <tr>\n",
       "      <th>34751812</th>\n",
       "      <td>6616597</td>\n",
       "      <td>675795</td>\n",
       "      <td>2016-12-03 16:50:54</td>\n",
       "    </tr>\n",
       "  </tbody>\n",
       "</table>\n",
       "</div>"
      ],
      "text/plain": [
       "            repo_id  user_id          created_at\n",
       "33947312    6338879  1061441 2015-08-20 06:27:26\n",
       "96196833   43064597    63824 2017-04-12 12:32:26\n",
       "127631316  89125366  4575050 2018-12-08 12:40:12\n",
       "111082730  61491827  8744363 2018-01-28 22:23:13\n",
       "34751812    6616597   675795 2016-12-03 16:50:54"
      ]
     },
     "execution_count": 8,
     "metadata": {},
     "output_type": "execute_result"
    }
   ],
   "source": [
    "watchers_df.sample(5)"
   ]
  },
  {
   "cell_type": "code",
   "execution_count": 9,
   "metadata": {
    "ExecuteTime": {
     "end_time": "2019-05-01T10:41:15.598080Z",
     "start_time": "2019-05-01T10:41:05.116305Z"
    },
    "hidden": true
   },
   "outputs": [
    {
     "data": {
      "text/html": [
       "<div>\n",
       "<style scoped>\n",
       "    .dataframe tbody tr th:only-of-type {\n",
       "        vertical-align: middle;\n",
       "    }\n",
       "\n",
       "    .dataframe tbody tr th {\n",
       "        vertical-align: top;\n",
       "    }\n",
       "\n",
       "    .dataframe thead th {\n",
       "        text-align: right;\n",
       "    }\n",
       "</style>\n",
       "<table border=\"1\" class=\"dataframe\">\n",
       "  <thead>\n",
       "    <tr style=\"text-align: right;\">\n",
       "      <th></th>\n",
       "      <th>repo_id</th>\n",
       "      <th>user_id</th>\n",
       "    </tr>\n",
       "  </thead>\n",
       "  <tbody>\n",
       "    <tr>\n",
       "      <th>count</th>\n",
       "      <td>1.387498e+08</td>\n",
       "      <td>1.387498e+08</td>\n",
       "    </tr>\n",
       "    <tr>\n",
       "      <th>mean</th>\n",
       "      <td>3.268348e+07</td>\n",
       "      <td>1.012425e+07</td>\n",
       "    </tr>\n",
       "    <tr>\n",
       "      <th>std</th>\n",
       "      <td>3.201465e+07</td>\n",
       "      <td>1.347603e+07</td>\n",
       "    </tr>\n",
       "    <tr>\n",
       "      <th>min</th>\n",
       "      <td>1.000000e+00</td>\n",
       "      <td>1.000000e+00</td>\n",
       "    </tr>\n",
       "    <tr>\n",
       "      <th>25%</th>\n",
       "      <td>6.602078e+06</td>\n",
       "      <td>8.030100e+05</td>\n",
       "    </tr>\n",
       "    <tr>\n",
       "      <th>50%</th>\n",
       "      <td>2.197623e+07</td>\n",
       "      <td>3.828345e+06</td>\n",
       "    </tr>\n",
       "    <tr>\n",
       "      <th>75%</th>\n",
       "      <td>5.271832e+07</td>\n",
       "      <td>1.128846e+07</td>\n",
       "    </tr>\n",
       "    <tr>\n",
       "      <th>max</th>\n",
       "      <td>1.276899e+08</td>\n",
       "      <td>4.973010e+07</td>\n",
       "    </tr>\n",
       "  </tbody>\n",
       "</table>\n",
       "</div>"
      ],
      "text/plain": [
       "            repo_id       user_id\n",
       "count  1.387498e+08  1.387498e+08\n",
       "mean   3.268348e+07  1.012425e+07\n",
       "std    3.201465e+07  1.347603e+07\n",
       "min    1.000000e+00  1.000000e+00\n",
       "25%    6.602078e+06  8.030100e+05\n",
       "50%    2.197623e+07  3.828345e+06\n",
       "75%    5.271832e+07  1.128846e+07\n",
       "max    1.276899e+08  4.973010e+07"
      ]
     },
     "execution_count": 9,
     "metadata": {},
     "output_type": "execute_result"
    }
   ],
   "source": [
    "watchers_df.describe()"
   ]
  },
  {
   "cell_type": "code",
   "execution_count": 11,
   "metadata": {
    "ExecuteTime": {
     "end_time": "2019-05-01T10:28:26.842628Z",
     "start_time": "2019-05-01T10:28:26.764921Z"
    },
    "hidden": true
   },
   "outputs": [],
   "source": [
    "for i in ['repo_id', 'user_id', 'created_at']:\n",
    "    mc['github']['watchers_all'].create_index(i)"
   ]
  },
  {
   "cell_type": "code",
   "execution_count": 12,
   "metadata": {
    "ExecuteTime": {
     "end_time": "2019-05-01T10:33:34.238816Z",
     "start_time": "2019-05-01T10:28:30.742562Z"
    },
    "collapsed": true,
    "hidden": true
   },
   "outputs": [
    {
     "data": {
      "application/vnd.jupyter.widget-view+json": {
       "model_id": "e06e1cd25e4a43f396fb8758a09d379b",
       "version_major": 2,
       "version_minor": 0
      },
      "text/plain": [
       "HBox(children=(IntProgress(value=0, max=138749808), HTML(value='')))"
      ]
     },
     "metadata": {},
     "output_type": "display_data"
    },
    {
     "ename": "KeyboardInterrupt",
     "evalue": "",
     "output_type": "error",
     "traceback": [
      "\u001b[0;31m\u001b[0m",
      "\u001b[0;31mKeyboardInterrupt\u001b[0mTraceback (most recent call last)",
      "\u001b[0;32m<ipython-input-12-663d3c76406f>\u001b[0m in \u001b[0;36m<module>\u001b[0;34m\u001b[0m\n\u001b[1;32m      4\u001b[0m     \u001b[0mto_insert\u001b[0m\u001b[0;34m.\u001b[0m\u001b[0mappend\u001b[0m\u001b[0;34m(\u001b[0m\u001b[0mrow\u001b[0m\u001b[0;34m.\u001b[0m\u001b[0mto_dict\u001b[0m\u001b[0;34m(\u001b[0m\u001b[0;34m)\u001b[0m\u001b[0;34m)\u001b[0m\u001b[0;34m\u001b[0m\u001b[0;34m\u001b[0m\u001b[0m\n\u001b[1;32m      5\u001b[0m     \u001b[0;32mif\u001b[0m \u001b[0mlen\u001b[0m\u001b[0;34m(\u001b[0m\u001b[0mto_insert\u001b[0m\u001b[0;34m)\u001b[0m \u001b[0;34m>=\u001b[0m \u001b[0;36m10_000\u001b[0m\u001b[0;34m:\u001b[0m\u001b[0;34m\u001b[0m\u001b[0;34m\u001b[0m\u001b[0m\n\u001b[0;32m----> 6\u001b[0;31m         \u001b[0mmc\u001b[0m\u001b[0;34m[\u001b[0m\u001b[0;34m'github'\u001b[0m\u001b[0;34m]\u001b[0m\u001b[0;34m[\u001b[0m\u001b[0;34m'watchers_all'\u001b[0m\u001b[0;34m]\u001b[0m\u001b[0;34m.\u001b[0m\u001b[0minsert_many\u001b[0m\u001b[0;34m(\u001b[0m\u001b[0mto_insert\u001b[0m\u001b[0;34m)\u001b[0m\u001b[0;34m\u001b[0m\u001b[0;34m\u001b[0m\u001b[0m\n\u001b[0m\u001b[1;32m      7\u001b[0m         \u001b[0mto_insert\u001b[0m \u001b[0;34m=\u001b[0m \u001b[0;34m[\u001b[0m\u001b[0;34m]\u001b[0m\u001b[0;34m\u001b[0m\u001b[0;34m\u001b[0m\u001b[0m\n\u001b[1;32m      8\u001b[0m \u001b[0;32mif\u001b[0m \u001b[0mlen\u001b[0m\u001b[0;34m(\u001b[0m\u001b[0mto_insert\u001b[0m\u001b[0;34m)\u001b[0m\u001b[0;34m:\u001b[0m\u001b[0;34m\u001b[0m\u001b[0;34m\u001b[0m\u001b[0m\n",
      "\u001b[0;32m/opt/conda/lib/python3.7/site-packages/pymongo/collection.py\u001b[0m in \u001b[0;36minsert_many\u001b[0;34m(self, documents, ordered, bypass_document_validation, session)\u001b[0m\n\u001b[1;32m    750\u001b[0m         \u001b[0mwrite_concern\u001b[0m \u001b[0;34m=\u001b[0m \u001b[0mself\u001b[0m\u001b[0;34m.\u001b[0m\u001b[0m_write_concern_for\u001b[0m\u001b[0;34m(\u001b[0m\u001b[0msession\u001b[0m\u001b[0;34m)\u001b[0m\u001b[0;34m\u001b[0m\u001b[0;34m\u001b[0m\u001b[0m\n\u001b[1;32m    751\u001b[0m         \u001b[0mblk\u001b[0m \u001b[0;34m=\u001b[0m \u001b[0m_Bulk\u001b[0m\u001b[0;34m(\u001b[0m\u001b[0mself\u001b[0m\u001b[0;34m,\u001b[0m \u001b[0mordered\u001b[0m\u001b[0;34m,\u001b[0m \u001b[0mbypass_document_validation\u001b[0m\u001b[0;34m)\u001b[0m\u001b[0;34m\u001b[0m\u001b[0;34m\u001b[0m\u001b[0m\n\u001b[0;32m--> 752\u001b[0;31m         \u001b[0mblk\u001b[0m\u001b[0;34m.\u001b[0m\u001b[0mops\u001b[0m \u001b[0;34m=\u001b[0m \u001b[0;34m[\u001b[0m\u001b[0mdoc\u001b[0m \u001b[0;32mfor\u001b[0m \u001b[0mdoc\u001b[0m \u001b[0;32min\u001b[0m \u001b[0mgen\u001b[0m\u001b[0;34m(\u001b[0m\u001b[0;34m)\u001b[0m\u001b[0;34m]\u001b[0m\u001b[0;34m\u001b[0m\u001b[0;34m\u001b[0m\u001b[0m\n\u001b[0m\u001b[1;32m    753\u001b[0m         \u001b[0mblk\u001b[0m\u001b[0;34m.\u001b[0m\u001b[0mexecute\u001b[0m\u001b[0;34m(\u001b[0m\u001b[0mwrite_concern\u001b[0m\u001b[0;34m,\u001b[0m \u001b[0msession\u001b[0m\u001b[0;34m=\u001b[0m\u001b[0msession\u001b[0m\u001b[0;34m)\u001b[0m\u001b[0;34m\u001b[0m\u001b[0;34m\u001b[0m\u001b[0m\n\u001b[1;32m    754\u001b[0m         \u001b[0;32mreturn\u001b[0m \u001b[0mInsertManyResult\u001b[0m\u001b[0;34m(\u001b[0m\u001b[0minserted_ids\u001b[0m\u001b[0;34m,\u001b[0m \u001b[0mwrite_concern\u001b[0m\u001b[0;34m.\u001b[0m\u001b[0macknowledged\u001b[0m\u001b[0;34m)\u001b[0m\u001b[0;34m\u001b[0m\u001b[0;34m\u001b[0m\u001b[0m\n",
      "\u001b[0;32m/opt/conda/lib/python3.7/site-packages/pymongo/collection.py\u001b[0m in \u001b[0;36m<listcomp>\u001b[0;34m(.0)\u001b[0m\n\u001b[1;32m    750\u001b[0m         \u001b[0mwrite_concern\u001b[0m \u001b[0;34m=\u001b[0m \u001b[0mself\u001b[0m\u001b[0;34m.\u001b[0m\u001b[0m_write_concern_for\u001b[0m\u001b[0;34m(\u001b[0m\u001b[0msession\u001b[0m\u001b[0;34m)\u001b[0m\u001b[0;34m\u001b[0m\u001b[0;34m\u001b[0m\u001b[0m\n\u001b[1;32m    751\u001b[0m         \u001b[0mblk\u001b[0m \u001b[0;34m=\u001b[0m \u001b[0m_Bulk\u001b[0m\u001b[0;34m(\u001b[0m\u001b[0mself\u001b[0m\u001b[0;34m,\u001b[0m \u001b[0mordered\u001b[0m\u001b[0;34m,\u001b[0m \u001b[0mbypass_document_validation\u001b[0m\u001b[0;34m)\u001b[0m\u001b[0;34m\u001b[0m\u001b[0;34m\u001b[0m\u001b[0m\n\u001b[0;32m--> 752\u001b[0;31m         \u001b[0mblk\u001b[0m\u001b[0;34m.\u001b[0m\u001b[0mops\u001b[0m \u001b[0;34m=\u001b[0m \u001b[0;34m[\u001b[0m\u001b[0mdoc\u001b[0m \u001b[0;32mfor\u001b[0m \u001b[0mdoc\u001b[0m \u001b[0;32min\u001b[0m \u001b[0mgen\u001b[0m\u001b[0;34m(\u001b[0m\u001b[0;34m)\u001b[0m\u001b[0;34m]\u001b[0m\u001b[0;34m\u001b[0m\u001b[0;34m\u001b[0m\u001b[0m\n\u001b[0m\u001b[1;32m    753\u001b[0m         \u001b[0mblk\u001b[0m\u001b[0;34m.\u001b[0m\u001b[0mexecute\u001b[0m\u001b[0;34m(\u001b[0m\u001b[0mwrite_concern\u001b[0m\u001b[0;34m,\u001b[0m \u001b[0msession\u001b[0m\u001b[0;34m=\u001b[0m\u001b[0msession\u001b[0m\u001b[0;34m)\u001b[0m\u001b[0;34m\u001b[0m\u001b[0;34m\u001b[0m\u001b[0m\n\u001b[1;32m    754\u001b[0m         \u001b[0;32mreturn\u001b[0m \u001b[0mInsertManyResult\u001b[0m\u001b[0;34m(\u001b[0m\u001b[0minserted_ids\u001b[0m\u001b[0;34m,\u001b[0m \u001b[0mwrite_concern\u001b[0m\u001b[0;34m.\u001b[0m\u001b[0macknowledged\u001b[0m\u001b[0;34m)\u001b[0m\u001b[0;34m\u001b[0m\u001b[0;34m\u001b[0m\u001b[0m\n",
      "\u001b[0;32m/opt/conda/lib/python3.7/site-packages/pymongo/collection.py\u001b[0m in \u001b[0;36mgen\u001b[0;34m()\u001b[0m\n\u001b[1;32m    744\u001b[0m                 \u001b[0;32mif\u001b[0m \u001b[0;32mnot\u001b[0m \u001b[0misinstance\u001b[0m\u001b[0;34m(\u001b[0m\u001b[0mdocument\u001b[0m\u001b[0;34m,\u001b[0m \u001b[0mRawBSONDocument\u001b[0m\u001b[0;34m)\u001b[0m\u001b[0;34m:\u001b[0m\u001b[0;34m\u001b[0m\u001b[0;34m\u001b[0m\u001b[0m\n\u001b[1;32m    745\u001b[0m                     \u001b[0;32mif\u001b[0m \u001b[0;34m\"_id\"\u001b[0m \u001b[0;32mnot\u001b[0m \u001b[0;32min\u001b[0m \u001b[0mdocument\u001b[0m\u001b[0;34m:\u001b[0m\u001b[0;34m\u001b[0m\u001b[0;34m\u001b[0m\u001b[0m\n\u001b[0;32m--> 746\u001b[0;31m                         \u001b[0mdocument\u001b[0m\u001b[0;34m[\u001b[0m\u001b[0;34m\"_id\"\u001b[0m\u001b[0;34m]\u001b[0m \u001b[0;34m=\u001b[0m \u001b[0mObjectId\u001b[0m\u001b[0;34m(\u001b[0m\u001b[0;34m)\u001b[0m\u001b[0;34m\u001b[0m\u001b[0;34m\u001b[0m\u001b[0m\n\u001b[0m\u001b[1;32m    747\u001b[0m                     \u001b[0minserted_ids\u001b[0m\u001b[0;34m.\u001b[0m\u001b[0mappend\u001b[0m\u001b[0;34m(\u001b[0m\u001b[0mdocument\u001b[0m\u001b[0;34m[\u001b[0m\u001b[0;34m\"_id\"\u001b[0m\u001b[0;34m]\u001b[0m\u001b[0;34m)\u001b[0m\u001b[0;34m\u001b[0m\u001b[0;34m\u001b[0m\u001b[0m\n\u001b[1;32m    748\u001b[0m                 \u001b[0;32myield\u001b[0m \u001b[0;34m(\u001b[0m\u001b[0mmessage\u001b[0m\u001b[0;34m.\u001b[0m\u001b[0m_INSERT\u001b[0m\u001b[0;34m,\u001b[0m \u001b[0mdocument\u001b[0m\u001b[0;34m)\u001b[0m\u001b[0;34m\u001b[0m\u001b[0;34m\u001b[0m\u001b[0m\n",
      "\u001b[0;32m/opt/conda/lib/python3.7/site-packages/bson/objectid.py\u001b[0m in \u001b[0;36m__init__\u001b[0;34m(self, oid)\u001b[0m\n\u001b[1;32m    119\u001b[0m         \"\"\"\n\u001b[1;32m    120\u001b[0m         \u001b[0;32mif\u001b[0m \u001b[0moid\u001b[0m \u001b[0;32mis\u001b[0m \u001b[0;32mNone\u001b[0m\u001b[0;34m:\u001b[0m\u001b[0;34m\u001b[0m\u001b[0;34m\u001b[0m\u001b[0m\n\u001b[0;32m--> 121\u001b[0;31m             \u001b[0mself\u001b[0m\u001b[0;34m.\u001b[0m\u001b[0m__generate\u001b[0m\u001b[0;34m(\u001b[0m\u001b[0;34m)\u001b[0m\u001b[0;34m\u001b[0m\u001b[0;34m\u001b[0m\u001b[0m\n\u001b[0m\u001b[1;32m    122\u001b[0m         \u001b[0;32melif\u001b[0m \u001b[0misinstance\u001b[0m\u001b[0;34m(\u001b[0m\u001b[0moid\u001b[0m\u001b[0;34m,\u001b[0m \u001b[0mbytes\u001b[0m\u001b[0;34m)\u001b[0m \u001b[0;32mand\u001b[0m \u001b[0mlen\u001b[0m\u001b[0;34m(\u001b[0m\u001b[0moid\u001b[0m\u001b[0;34m)\u001b[0m \u001b[0;34m==\u001b[0m \u001b[0;36m12\u001b[0m\u001b[0;34m:\u001b[0m\u001b[0;34m\u001b[0m\u001b[0;34m\u001b[0m\u001b[0m\n\u001b[1;32m    123\u001b[0m             \u001b[0mself\u001b[0m\u001b[0;34m.\u001b[0m\u001b[0m__id\u001b[0m \u001b[0;34m=\u001b[0m \u001b[0moid\u001b[0m\u001b[0;34m\u001b[0m\u001b[0;34m\u001b[0m\u001b[0m\n",
      "\u001b[0;32m/opt/conda/lib/python3.7/site-packages/bson/objectid.py\u001b[0m in \u001b[0;36m__generate\u001b[0;34m(self)\u001b[0m\n\u001b[1;32m    189\u001b[0m \u001b[0;34m\u001b[0m\u001b[0m\n\u001b[1;32m    190\u001b[0m         \u001b[0;31m# 2 bytes pid\u001b[0m\u001b[0;34m\u001b[0m\u001b[0;34m\u001b[0m\u001b[0;34m\u001b[0m\u001b[0m\n\u001b[0;32m--> 191\u001b[0;31m         \u001b[0moid\u001b[0m \u001b[0;34m+=\u001b[0m \u001b[0mstruct\u001b[0m\u001b[0;34m.\u001b[0m\u001b[0mpack\u001b[0m\u001b[0;34m(\u001b[0m\u001b[0;34m\">H\"\u001b[0m\u001b[0;34m,\u001b[0m \u001b[0mos\u001b[0m\u001b[0;34m.\u001b[0m\u001b[0mgetpid\u001b[0m\u001b[0;34m(\u001b[0m\u001b[0;34m)\u001b[0m \u001b[0;34m%\u001b[0m \u001b[0;36m0xFFFF\u001b[0m\u001b[0;34m)\u001b[0m\u001b[0;34m\u001b[0m\u001b[0;34m\u001b[0m\u001b[0m\n\u001b[0m\u001b[1;32m    192\u001b[0m \u001b[0;34m\u001b[0m\u001b[0m\n\u001b[1;32m    193\u001b[0m         \u001b[0;31m# 3 bytes inc\u001b[0m\u001b[0;34m\u001b[0m\u001b[0;34m\u001b[0m\u001b[0;34m\u001b[0m\u001b[0m\n",
      "\u001b[0;31mKeyboardInterrupt\u001b[0m: "
     ]
    }
   ],
   "source": [
    "to_insert = []\n",
    "\n",
    "for _, row in tn(watchers_df.iterrows(), total=watchers_df.shape[0]):\n",
    "    to_insert.append(row.to_dict())\n",
    "    if len(to_insert) >= 10_000:\n",
    "        mc['github']['watchers_all'].insert_many(to_insert)\n",
    "        to_insert = []\n",
    "if len(to_insert):\n",
    "    mc['github']['watchers_all'].insert_many(to_insert)\n",
    "mc['github']['watchers_all'].estimated_document_count()"
   ]
  },
  {
   "cell_type": "markdown",
   "metadata": {
    "heading_collapsed": true
   },
   "source": [
    "## repos by watchers"
   ]
  },
  {
   "cell_type": "code",
   "execution_count": null,
   "metadata": {
    "ExecuteTime": {
     "start_time": "2019-05-01T10:44:50.212Z"
    },
    "hidden": true
   },
   "outputs": [],
   "source": [
    "try:\n",
    "    repos_s = watchers_df.groupby('user_id')['repo_id'].apply(list)\n",
    "    m = f'[repos_s]: done {repos_s.shape[0]} users'\n",
    "    tgn(m)\n",
    "    print(m)\n",
    "except Exception as e:\n",
    "    m = f'[repos_s]: error - e'\n",
    "    tgn(m)\n",
    "    print(m)"
   ]
  },
  {
   "cell_type": "code",
   "execution_count": 12,
   "metadata": {
    "ExecuteTime": {
     "end_time": "2019-05-01T10:54:19.832344Z",
     "start_time": "2019-05-01T10:54:19.581719Z"
    },
    "hidden": true
   },
   "outputs": [
    {
     "data": {
      "text/plain": [
       "user_id\n",
       "1427293     [1991708, 4066596, 9409527, 9533033, 14095875,...\n",
       "2334607                      [13399, 23605, 1374453, 5641137]\n",
       "3159447     [37, 1018, 1566, 3143, 7294, 12553, 21354, 277...\n",
       "43837840                                 [60603847, 99422800]\n",
       "43739264                                           [14359654]\n",
       "Name: repo_id, dtype: object"
      ]
     },
     "execution_count": 12,
     "metadata": {},
     "output_type": "execute_result"
    }
   ],
   "source": [
    "repos_s.sample(5)"
   ]
  },
  {
   "cell_type": "code",
   "execution_count": 13,
   "metadata": {
    "ExecuteTime": {
     "end_time": "2019-05-01T10:54:39.966859Z",
     "start_time": "2019-05-01T10:54:38.871827Z"
    },
    "hidden": true
   },
   "outputs": [
    {
     "data": {
      "text/plain": [
       "count    6.012456e+06\n",
       "mean     2.307706e+01\n",
       "std      1.647244e+02\n",
       "min      1.000000e+00\n",
       "25%      1.000000e+00\n",
       "50%      2.000000e+00\n",
       "75%      9.000000e+00\n",
       "max      2.252900e+05\n",
       "Name: repo_id, dtype: float64"
      ]
     },
     "execution_count": 13,
     "metadata": {},
     "output_type": "execute_result"
    }
   ],
   "source": [
    "repos_s.map(len).describe()"
   ]
  },
  {
   "cell_type": "code",
   "execution_count": 14,
   "metadata": {
    "ExecuteTime": {
     "end_time": "2019-05-01T10:55:12.079401Z",
     "start_time": "2019-05-01T10:55:12.027638Z"
    },
    "hidden": true
   },
   "outputs": [],
   "source": [
    "for i in ['repos_ids', 'repos_count']:\n",
    "    mc['github']['users_watches'].create_index(i)"
   ]
  },
  {
   "cell_type": "code",
   "execution_count": 15,
   "metadata": {
    "ExecuteTime": {
     "end_time": "2019-05-01T11:33:04.888757Z",
     "start_time": "2019-05-01T10:55:19.436594Z"
    },
    "hidden": true
   },
   "outputs": [
    {
     "data": {
      "application/vnd.jupyter.widget-view+json": {
       "model_id": "58974101c305466ab7c2d246146fa3d7",
       "version_major": 2,
       "version_minor": 0
      },
      "text/plain": [
       "HBox(children=(IntProgress(value=0, max=6012456), HTML(value='')))"
      ]
     },
     "metadata": {},
     "output_type": "display_data"
    },
    {
     "name": "stdout",
     "output_type": "stream",
     "text": [
      "\n"
     ]
    },
    {
     "data": {
      "text/plain": [
       "6012456"
      ]
     },
     "execution_count": 15,
     "metadata": {},
     "output_type": "execute_result"
    }
   ],
   "source": [
    "to_insert = []\n",
    "\n",
    "for uid, rids in tn(repos_s.iteritems(), total=repos_s.shape[0]):\n",
    "    to_insert.append({'_id': uid, 'repos_ids': rids, 'repos_count': len(rids)})\n",
    "    if len(to_insert) >= 10_000:\n",
    "        mc['github']['users_watches'].insert_many(to_insert)\n",
    "        to_insert = []\n",
    "if len(to_insert):\n",
    "    mc['github']['users_watches'].insert_many(to_insert)\n",
    "mc['github']['users_watches'].estimated_document_count()"
   ]
  },
  {
   "cell_type": "markdown",
   "metadata": {
    "heading_collapsed": true
   },
   "source": [
    "## users"
   ]
  },
  {
   "cell_type": "code",
   "execution_count": 24,
   "metadata": {
    "ExecuteTime": {
     "end_time": "2019-04-30T22:27:30.146338Z",
     "start_time": "2019-04-30T22:27:30.124907Z"
    },
    "hidden": true
   },
   "outputs": [],
   "source": [
    "def convert_dt(sdt):\n",
    "    try:\n",
    "        return pd.datetime.strptime(sdt, '%Y-%m-%d %H:%M:%S')\n",
    "    except Exception as e:\n",
    "        print(e)"
   ]
  },
  {
   "cell_type": "code",
   "execution_count": 25,
   "metadata": {
    "ExecuteTime": {
     "end_time": "2019-04-30T22:33:06.962712Z",
     "start_time": "2019-04-30T22:27:30.598785Z"
    },
    "hidden": true
   },
   "outputs": [
    {
     "name": "stdout",
     "output_type": "stream",
     "text": [
      "(30600304, 12)\n",
      "time data ',2012-05-01 17:04:57\"' does not match format '%Y-%m-%d %H:%M:%S'\n",
      "time data '  OKFN Russia\"' does not match format '%Y-%m-%d %H:%M:%S'\n",
      "time data ' Joomla! VEL Team\"' does not match format '%Y-%m-%d %H:%M:%S'\n",
      "time data ' \\\\\"Slave Center\\\\\"\"' does not match format '%Y-%m-%d %H:%M:%S'\n",
      "time data ' Крыша' does not match format '%Y-%m-%d %H:%M:%S'\n",
      "time data ' Inc.\"' does not match format '%Y-%m-%d %H:%M:%S'\n",
      "time data ' Microsoft Corp.\"' does not match format '%Y-%m-%d %H:%M:%S'\n",
      "time data ' Belgrade' does not match format '%Y-%m-%d %H:%M:%S'\n",
      "time data 'USR' does not match format '%Y-%m-%d %H:%M:%S'\n",
      "time data ' the Real Programmers are the ones sitting in the corner  talking  about operating systems security and how to get round it.\\\\\" [http://www.neurophys.wisc.edu/comp/humor1.html]\"' does not match format '%Y-%m-%d %H:%M:%S'\n",
      "time data ' I am not THAT interesting. Or is github trying to trick me into releasing personal information ?\"' does not match format '%Y-%m-%d %H:%M:%S'\n",
      "time data '\\\\\"alex+ Informationsdesign\\\\\"]\"' does not match format '%Y-%m-%d %H:%M:%S'\n",
      "time data ' 北京航空航天大学学生七海游戏文化社\"' does not match format '%Y-%m-%d %H:%M:%S'\n",
      "time data ' Glitch & Kitsch\\\\\"\"' does not match format '%Y-%m-%d %H:%M:%S'\n",
      "time data 'USR' does not match format '%Y-%m-%d %H:%M:%S'\n",
      "time data ' Inc\\\\\"\"' does not match format '%Y-%m-%d %H:%M:%S'\n",
      "time data ' reserving redirected namespace\"' does not match format '%Y-%m-%d %H:%M:%S'\n",
      "time data ' I was making a tune\\\\\" ♪  #QuoteOfTheDay\"' does not match format '%Y-%m-%d %H:%M:%S'\n",
      "time data ' you know?\\\\\"\"' does not match format '%Y-%m-%d %H:%M:%S'\n",
      "time data ' Italy)\"' does not match format '%Y-%m-%d %H:%M:%S'\n",
      "time data ' evidently' does not match format '%Y-%m-%d %H:%M:%S'\n",
      "time data 'USR' does not match format '%Y-%m-%d %H:%M:%S'\n",
      "time data '\\\\\"international stander industry on githubplateform.\"' does not match format '%Y-%m-%d %H:%M:%S'\n",
      "time data ' Istituto di Ricerca per la Protezione Idrogeologica (CNR-IRPI) \"' does not match format '%Y-%m-%d %H:%M:%S'\n",
      "time data ' lol\\\\\"\"' does not match format '%Y-%m-%d %H:%M:%S'\n",
      "time data ' anytime' does not match format '%Y-%m-%d %H:%M:%S'\n",
      "time data ' because programming is fun\\\\\" - Co.ltd.\"' does not match format '%Y-%m-%d %H:%M:%S'\n",
      "time data ' but evil bacon is... my destiny\\\\\"\"' does not match format '%Y-%m-%d %H:%M:%S'\n",
      "time data ' <a href=\\\\\"http://cantuanphat.com/\\\\\">cân điện tử</a>' does not match format '%Y-%m-%d %H:%M:%S'\n",
      "time data ' LV Prasad Eye Institute\"' does not match format '%Y-%m-%d %H:%M:%S'\n",
      "time data '  \\\\\"ETIS\\\\\"\"' does not match format '%Y-%m-%d %H:%M:%S'\n",
      "time data ' JSC\"' does not match format '%Y-%m-%d %H:%M:%S'\n",
      "time data ' WEB and Mobile Solution & Services Co' does not match format '%Y-%m-%d %H:%M:%S'\n",
      "time data ' FICT\"' does not match format '%Y-%m-%d %H:%M:%S'\n",
      "time data ' FICT\"' does not match format '%Y-%m-%d %H:%M:%S'\n",
      "time data ' University of Sheffield \"' does not match format '%Y-%m-%d %H:%M:%S'\n",
      "time data ' manager\"' does not match format '%Y-%m-%d %H:%M:%S'\n",
      "time data 'USR' does not match format '%Y-%m-%d %H:%M:%S'\n",
      "time data 'Ltd.\"' does not match format '%Y-%m-%d %H:%M:%S'\n",
      "time data ' FICT\"' does not match format '%Y-%m-%d %H:%M:%S'\n",
      "time data ' Romanian Academy\"' does not match format '%Y-%m-%d %H:%M:%S'\n",
      "time data '/\\\\\")J\"' does not match format '%Y-%m-%d %H:%M:%S'\n",
      "time data 'inc\"' does not match format '%Y-%m-%d %H:%M:%S'\n",
      "time data 'USR' does not match format '%Y-%m-%d %H:%M:%S'\n",
      "time data ' \\\\\"Cloone\\\\\"' does not match format '%Y-%m-%d %H:%M:%S'\n",
      "time data 'USR' does not match format '%Y-%m-%d %H:%M:%S'\n",
      "time data '83' does not match format '%Y-%m-%d %H:%M:%S'\n",
      "time data 'USR' does not match format '%Y-%m-%d %H:%M:%S'\n",
      "time data ' Zrenjanin\"' does not match format '%Y-%m-%d %H:%M:%S'\n",
      "time data ' University of São Paulo (ESALQ/USP) \"' does not match format '%Y-%m-%d %H:%M:%S'\n",
      "time data ' also @StormBit tech\"' does not match format '%Y-%m-%d %H:%M:%S'\n",
      "time data ' Myself' does not match format '%Y-%m-%d %H:%M:%S'\n",
      "time data ' \\\\\"Serafim production Foundation®\\\\\"\"' does not match format '%Y-%m-%d %H:%M:%S'\n",
      "time data '\\\\\" The United States Marine Drum & Bugle Corps\"' does not match format '%Y-%m-%d %H:%M:%S'\n",
      "time data ' РГРТУ\"' does not match format '%Y-%m-%d %H:%M:%S'\n"
     ]
    },
    {
     "data": {
      "text/plain": [
       "(30600249, 12)"
      ]
     },
     "execution_count": 25,
     "metadata": {},
     "output_type": "execute_result"
    }
   ],
   "source": [
    "users_df = pd.read_csv('./data/mysql-2019-03-01/users.csv',\n",
    "                       header=None,\n",
    "                       names=['id', 'login', 'company', 'created_at', 'type', 'fake', 'deleted', 'long', 'lat',\n",
    "                              'country_code', 'state', 'city', 'location'],\n",
    "#                        parse_dates=[3],\n",
    "#                        quoting=1,\n",
    "#                        quotechar='\"',\n",
    "#                        encoding='utf-8',\n",
    "                       low_memory=False,\n",
    "                       error_bad_lines=False).replace({'\\\\N': None}).set_index('id')\n",
    "print(users_df.shape)\n",
    "users_df['created_at'] = users_df['created_at'].map(convert_dt)\n",
    "users_df = users_df[~users_df['created_at'].isna()]\n",
    "users_df['fake'] = users_df['fake'].replace({1: True, 0: False, '1': True, '0': False}).astype(bool)\n",
    "users_df['deleted'] = users_df['deleted'].replace({1: True, 0: False, '1': True, '0': False}).astype(bool)\n",
    "users_df['long'] = users_df['long'].astype(float)\n",
    "users_df['lat'] = users_df['lat'].astype(float)\n",
    "users_df.shape"
   ]
  },
  {
   "cell_type": "code",
   "execution_count": 26,
   "metadata": {
    "ExecuteTime": {
     "end_time": "2019-04-30T22:33:07.486941Z",
     "start_time": "2019-04-30T22:33:07.467003Z"
    },
    "hidden": true
   },
   "outputs": [
    {
     "data": {
      "text/plain": [
       "login                   object\n",
       "company                 object\n",
       "created_at      datetime64[ns]\n",
       "type                    object\n",
       "fake                      bool\n",
       "deleted                   bool\n",
       "long                   float64\n",
       "lat                    float64\n",
       "country_code            object\n",
       "state                   object\n",
       "city                    object\n",
       "location                object\n",
       "dtype: object"
      ]
     },
     "execution_count": 26,
     "metadata": {},
     "output_type": "execute_result"
    }
   ],
   "source": [
    "users_df.dtypes"
   ]
  },
  {
   "cell_type": "code",
   "execution_count": 27,
   "metadata": {
    "ExecuteTime": {
     "end_time": "2019-04-30T22:33:09.873528Z",
     "start_time": "2019-04-30T22:33:07.986682Z"
    },
    "hidden": true
   },
   "outputs": [
    {
     "data": {
      "text/html": [
       "<div>\n",
       "<style scoped>\n",
       "    .dataframe tbody tr th:only-of-type {\n",
       "        vertical-align: middle;\n",
       "    }\n",
       "\n",
       "    .dataframe tbody tr th {\n",
       "        vertical-align: top;\n",
       "    }\n",
       "\n",
       "    .dataframe thead th {\n",
       "        text-align: right;\n",
       "    }\n",
       "</style>\n",
       "<table border=\"1\" class=\"dataframe\">\n",
       "  <thead>\n",
       "    <tr style=\"text-align: right;\">\n",
       "      <th></th>\n",
       "      <th>login</th>\n",
       "      <th>company</th>\n",
       "      <th>created_at</th>\n",
       "      <th>type</th>\n",
       "      <th>fake</th>\n",
       "      <th>deleted</th>\n",
       "      <th>long</th>\n",
       "      <th>lat</th>\n",
       "      <th>country_code</th>\n",
       "      <th>state</th>\n",
       "      <th>city</th>\n",
       "      <th>location</th>\n",
       "    </tr>\n",
       "    <tr>\n",
       "      <th>id</th>\n",
       "      <th></th>\n",
       "      <th></th>\n",
       "      <th></th>\n",
       "      <th></th>\n",
       "      <th></th>\n",
       "      <th></th>\n",
       "      <th></th>\n",
       "      <th></th>\n",
       "      <th></th>\n",
       "      <th></th>\n",
       "      <th></th>\n",
       "      <th></th>\n",
       "    </tr>\n",
       "  </thead>\n",
       "  <tbody>\n",
       "    <tr>\n",
       "      <th>5863168</th>\n",
       "      <td>AukseJ</td>\n",
       "      <td>None</td>\n",
       "      <td>2014-10-24 07:39:03</td>\n",
       "      <td>USR</td>\n",
       "      <td>False</td>\n",
       "      <td>False</td>\n",
       "      <td>0.0000</td>\n",
       "      <td>0.000000</td>\n",
       "      <td>None</td>\n",
       "      <td>None</td>\n",
       "      <td>None</td>\n",
       "      <td>None</td>\n",
       "    </tr>\n",
       "    <tr>\n",
       "      <th>923394</th>\n",
       "      <td>Suoshi</td>\n",
       "      <td>None</td>\n",
       "      <td>2012-06-17 07:26:28</td>\n",
       "      <td>USR</td>\n",
       "      <td>False</td>\n",
       "      <td>False</td>\n",
       "      <td>0.0000</td>\n",
       "      <td>0.000000</td>\n",
       "      <td>None</td>\n",
       "      <td>None</td>\n",
       "      <td>None</td>\n",
       "      <td>None</td>\n",
       "    </tr>\n",
       "    <tr>\n",
       "      <th>1019432</th>\n",
       "      <td>SDTFMWTY</td>\n",
       "      <td>None</td>\n",
       "      <td>2012-11-21 12:33:54</td>\n",
       "      <td>USR</td>\n",
       "      <td>True</td>\n",
       "      <td>False</td>\n",
       "      <td>NaN</td>\n",
       "      <td>NaN</td>\n",
       "      <td>None</td>\n",
       "      <td>None</td>\n",
       "      <td>None</td>\n",
       "      <td>None</td>\n",
       "    </tr>\n",
       "    <tr>\n",
       "      <th>1333349</th>\n",
       "      <td>Eurovator</td>\n",
       "      <td>None</td>\n",
       "      <td>2011-06-30 06:13:42</td>\n",
       "      <td>ORG</td>\n",
       "      <td>False</td>\n",
       "      <td>False</td>\n",
       "      <td>18.0326</td>\n",
       "      <td>59.352501</td>\n",
       "      <td>se</td>\n",
       "      <td>Stockholm County</td>\n",
       "      <td>Stockholm</td>\n",
       "      <td>Stockholm</td>\n",
       "    </tr>\n",
       "    <tr>\n",
       "      <th>42300826</th>\n",
       "      <td>RFSMAXBP</td>\n",
       "      <td>None</td>\n",
       "      <td>2018-03-22 13:43:54</td>\n",
       "      <td>USR</td>\n",
       "      <td>True</td>\n",
       "      <td>False</td>\n",
       "      <td>NaN</td>\n",
       "      <td>NaN</td>\n",
       "      <td>None</td>\n",
       "      <td>None</td>\n",
       "      <td>None</td>\n",
       "      <td>None</td>\n",
       "    </tr>\n",
       "  </tbody>\n",
       "</table>\n",
       "</div>"
      ],
      "text/plain": [
       "              login company          created_at type   fake  deleted     long  \\\n",
       "id                                                                              \n",
       "5863168      AukseJ    None 2014-10-24 07:39:03  USR  False    False   0.0000   \n",
       "923394       Suoshi    None 2012-06-17 07:26:28  USR  False    False   0.0000   \n",
       "1019432    SDTFMWTY    None 2012-11-21 12:33:54  USR   True    False      NaN   \n",
       "1333349   Eurovator    None 2011-06-30 06:13:42  ORG  False    False  18.0326   \n",
       "42300826   RFSMAXBP    None 2018-03-22 13:43:54  USR   True    False      NaN   \n",
       "\n",
       "                lat country_code             state       city   location  \n",
       "id                                                                        \n",
       "5863168    0.000000         None              None       None       None  \n",
       "923394     0.000000         None              None       None       None  \n",
       "1019432         NaN         None              None       None       None  \n",
       "1333349   59.352501           se  Stockholm County  Stockholm  Stockholm  \n",
       "42300826        NaN         None              None       None       None  "
      ]
     },
     "execution_count": 27,
     "metadata": {},
     "output_type": "execute_result"
    }
   ],
   "source": [
    "users_df.sample(5)"
   ]
  },
  {
   "cell_type": "code",
   "execution_count": 28,
   "metadata": {
    "ExecuteTime": {
     "end_time": "2019-04-30T22:33:13.385909Z",
     "start_time": "2019-04-30T22:33:10.377394Z"
    },
    "hidden": true
   },
   "outputs": [
    {
     "data": {
      "text/html": [
       "<div>\n",
       "<style scoped>\n",
       "    .dataframe tbody tr th:only-of-type {\n",
       "        vertical-align: middle;\n",
       "    }\n",
       "\n",
       "    .dataframe tbody tr th {\n",
       "        vertical-align: top;\n",
       "    }\n",
       "\n",
       "    .dataframe thead th {\n",
       "        text-align: right;\n",
       "    }\n",
       "</style>\n",
       "<table border=\"1\" class=\"dataframe\">\n",
       "  <thead>\n",
       "    <tr style=\"text-align: right;\">\n",
       "      <th></th>\n",
       "      <th>long</th>\n",
       "      <th>lat</th>\n",
       "    </tr>\n",
       "  </thead>\n",
       "  <tbody>\n",
       "    <tr>\n",
       "      <th>count</th>\n",
       "      <td>1.715202e+07</td>\n",
       "      <td>1.715202e+07</td>\n",
       "    </tr>\n",
       "    <tr>\n",
       "      <th>mean</th>\n",
       "      <td>-5.783850e-01</td>\n",
       "      <td>4.722817e+00</td>\n",
       "    </tr>\n",
       "    <tr>\n",
       "      <th>std</th>\n",
       "      <td>3.061493e+01</td>\n",
       "      <td>1.429124e+01</td>\n",
       "    </tr>\n",
       "    <tr>\n",
       "      <th>min</th>\n",
       "      <td>-1.799886e+02</td>\n",
       "      <td>-8.500000e+01</td>\n",
       "    </tr>\n",
       "    <tr>\n",
       "      <th>25%</th>\n",
       "      <td>0.000000e+00</td>\n",
       "      <td>0.000000e+00</td>\n",
       "    </tr>\n",
       "    <tr>\n",
       "      <th>50%</th>\n",
       "      <td>0.000000e+00</td>\n",
       "      <td>0.000000e+00</td>\n",
       "    </tr>\n",
       "    <tr>\n",
       "      <th>75%</th>\n",
       "      <td>0.000000e+00</td>\n",
       "      <td>0.000000e+00</td>\n",
       "    </tr>\n",
       "    <tr>\n",
       "      <th>max</th>\n",
       "      <td>1.793745e+02</td>\n",
       "      <td>8.500000e+01</td>\n",
       "    </tr>\n",
       "  </tbody>\n",
       "</table>\n",
       "</div>"
      ],
      "text/plain": [
       "               long           lat\n",
       "count  1.715202e+07  1.715202e+07\n",
       "mean  -5.783850e-01  4.722817e+00\n",
       "std    3.061493e+01  1.429124e+01\n",
       "min   -1.799886e+02 -8.500000e+01\n",
       "25%    0.000000e+00  0.000000e+00\n",
       "50%    0.000000e+00  0.000000e+00\n",
       "75%    0.000000e+00  0.000000e+00\n",
       "max    1.793745e+02  8.500000e+01"
      ]
     },
     "execution_count": 28,
     "metadata": {},
     "output_type": "execute_result"
    }
   ],
   "source": [
    "users_df.describe()"
   ]
  },
  {
   "cell_type": "code",
   "execution_count": 29,
   "metadata": {
    "ExecuteTime": {
     "end_time": "2019-04-30T23:33:29.089552Z",
     "start_time": "2019-04-30T22:33:14.419839Z"
    },
    "hidden": true
   },
   "outputs": [
    {
     "data": {
      "text/plain": [
       "'login_1'"
      ]
     },
     "execution_count": 29,
     "metadata": {},
     "output_type": "execute_result"
    }
   ],
   "source": [
    "mc['github']['users'].create_index('login')"
   ]
  },
  {
   "cell_type": "code",
   "execution_count": 30,
   "metadata": {
    "ExecuteTime": {
     "end_time": "2019-04-30T23:33:29.089552Z",
     "start_time": "2019-04-30T22:33:14.419839Z"
    },
    "hidden": true
   },
   "outputs": [
    {
     "data": {
      "application/vnd.jupyter.widget-view+json": {
       "model_id": "5389693234b74d0d97d9aba1dc6ce5d6",
       "version_major": 2,
       "version_minor": 0
      },
      "text/plain": [
       "HBox(children=(IntProgress(value=0, max=30600249), HTML(value='')))"
      ]
     },
     "metadata": {},
     "output_type": "display_data"
    },
    {
     "data": {
      "text/plain": [
       "30600249"
      ]
     },
     "execution_count": 30,
     "metadata": {},
     "output_type": "execute_result"
    }
   ],
   "source": [
    "to_insert = []\n",
    "\n",
    "for uid, row in tn(users_df.iterrows(), total=users_df.shape[0]):\n",
    "    to_insert.append({'_id': uid, **row.to_dict()})\n",
    "    if len(to_insert) >= 10_000:\n",
    "        mc['github']['users'].insert_many(to_insert)\n",
    "        to_insert = []\n",
    "if len(to_insert):\n",
    "    mc['github']['users'].insert_many(to_insert)\n",
    "mc['github']['users'].estimated_document_count()"
   ]
  },
  {
   "cell_type": "markdown",
   "metadata": {
    "heading_collapsed": true
   },
   "source": [
    "## repos topics"
   ]
  },
  {
   "cell_type": "markdown",
   "metadata": {
    "heading_collapsed": true,
    "hidden": true
   },
   "source": [
    "### research"
   ]
  },
  {
   "cell_type": "code",
   "execution_count": 1,
   "metadata": {
    "ExecuteTime": {
     "end_time": "2019-05-01T22:19:50.136165Z",
     "start_time": "2019-05-01T22:19:49.779997Z"
    },
    "hidden": true
   },
   "outputs": [
    {
     "name": "stdout",
     "output_type": "stream",
     "text": [
      "127690049,\"https://api.github.com/repos/edikryger/test\",49702515,\"test\",\"test1\",\\N,\"2019-02-27 09:42:55\",\\N,0,\"2019-02-27 09:48:03\",\\N\r\n",
      "127690050,\"https://api.github.com/repos/ReznichenkoAlex/test-repo\",49730112,\"test-repo\",\\N,\\N,\"2019-02-27 09:42:52\",\\N,0,\"2019-02-27 09:48:03\",\\N\r\n",
      "127690051,\"https://api.github.com/repos/Aneliukee/Floating-Islands\",49730093,\"Floating-Islands\",\"Multimediju semestro projektas: kompiuterinis žaidimas Floating Islands\",\\N,\"2019-02-27 09:42:51\",127688136,0,\"2019-02-27 09:48:03\",1319296608\r\n",
      "127690052,\"https://api.github.com/repos/TendhyAriyatama/LD01\",49730113,\"LD01\",\"Tugas PS\",\\N,\"2019-02-27 09:42:49\",\\N,0,\"2019-02-27 09:48:04\",\\N\r\n",
      "127690053,\"https://api.github.com/repos/Cat9Yuko/Cat9YuKoPixiv\",47182147,\"Cat9YuKoPixiv\",\\N,\\N,\"2019-02-27 09:42:48\",\\N,0,\"2019-02-27 09:48:05\",\\N\r\n",
      "127690054,\"https://api.github.com/repos/blancabgz/ProyectoAngular_BlancaAbril\",38922404,\"ProyectoAngular_BlancaAbril\",\"Proyecto Angular\",\\N,\"2019-02-27 09:42:51\",\\N,0,\"2019-02-27 09:48:05\",\\N\r\n",
      "127690055,\"https://api.github.com/repos/Tuxedo94/Submodule2\",44215713,\"Submodule2\",\"Fun with submodules.\",\\N,\"2019-02-27 09:42:48\",\\N,0,\"2019-02-27 09:48:05\",\\N\r\n",
      "127690056,\"https://api.github.com/repos/wildevince/Github_workspace\",47255443,\"Github_workspace\",\\N,\"C++\",\"2019-01-31 16:47:50\",\\N,0,\"2019-02-27 09:48:06\",\\N\r\n",
      "127690057,\"https://api.github.com/repos/JettomChen/second\",49678114,\"second\",\"第二个仓库\",\\N,\"2019-02-27 09:42:47\",\\N,0,\"2019-02-27 09:48:06\",\\N\r\n",
      "127690058,\"https://api.github.com/repos/codenutszone/Python-practice-examples\",49729900,\"Python-practice-examples\",\"It contains tricky python programs used for day to day automation and development in work area \",\\N,\"2019-02-27 09:42:48\",\\N,0,\"2019-02-27 09:48:09\",\\N\r\n"
     ]
    }
   ],
   "source": [
    "!tail ./data/mysql-2019-03-01/projects.csv"
   ]
  },
  {
   "cell_type": "code",
   "execution_count": 9,
   "metadata": {
    "ExecuteTime": {
     "end_time": "2019-05-01T14:29:17.044897Z",
     "start_time": "2019-05-01T14:25:12.246390Z"
    },
    "hidden": true
   },
   "outputs": [
    {
     "data": {
      "application/vnd.jupyter.widget-view+json": {
       "model_id": "",
       "version_major": 2,
       "version_minor": 0
      },
      "text/plain": [
       "HBox(children=(IntProgress(value=1, bar_style='info', max=1), HTML(value='')))"
      ]
     },
     "metadata": {},
     "output_type": "display_data"
    },
    {
     "name": "stdout",
     "output_type": "stream",
     "text": [
      "77435575,\"https://api.github.com/repos/Lamzin/math-modeling\",7486329,\"math-modeling\",\\N,\\N,\"2017-10-15 13:25:33\",\\N,0,\"1970-01-02 00:00:00\",\\N\n",
      "\n"
     ]
    }
   ],
   "source": [
    "with open('./data/mysql-2019-03-01/projects.csv') as f:\n",
    "    for l in tn(f):\n",
    "        row = l.split(',')\n",
    "        if row[0] == '77435575':\n",
    "            print(l)\n",
    "            break"
   ]
  },
  {
   "cell_type": "code",
   "execution_count": null,
   "metadata": {
    "hidden": true
   },
   "outputs": [],
   "source": [
    "f.close()"
   ]
  },
  {
   "cell_type": "code",
   "execution_count": 50,
   "metadata": {
    "ExecuteTime": {
     "end_time": "2019-05-01T23:29:50.111216Z",
     "start_time": "2019-05-01T23:29:30.159950Z"
    },
    "hidden": true
   },
   "outputs": [
    {
     "name": "stdout",
     "output_type": "stream",
     "text": [
      "(1000000, 10)\n"
     ]
    },
    {
     "data": {
      "text/plain": [
       "(998456, 10)"
      ]
     },
     "execution_count": 50,
     "metadata": {},
     "output_type": "execute_result"
    }
   ],
   "source": [
    "repos_df = pd.read_csv('./data/mysql-2019-03-01/projects.csv',\n",
    "                       skiprows=0,\n",
    "                       nrows=1_000_000,\n",
    "                       header=None,\n",
    "                       na_values=['\\\\N'],\n",
    "                       names=[\"id\", \"url\", \"owner_id\", \"name\", \"description\", \"language\",\n",
    "                              \"created_at\", \"forked_from\", \"deleted\", \"updated_at\", \"?\"],\n",
    "                       error_bad_lines=False,\n",
    "#                        warn_bad_lines=False,\n",
    "                       low_memory=False,\n",
    "                      ).set_index('id')\n",
    "print(repos_df.shape)\n",
    "repos_df['created_at'] = repos_df['created_at'].map(convert_dt)\n",
    "repos_df = repos_df[~repos_df['created_at'].isna()]\n",
    "repos_df['updated_at'] = repos_df['updated_at'].map(convert_dt)\n",
    "repos_df = repos_df[~repos_df['updated_at'].isna()]\n",
    "repos_df.index = repos_df.index.astype(int)\n",
    "repos_df['url'] = repos_df['url'].astype(str).map(lambda x: x[29:])\n",
    "repos_df['deleted'] = repos_df['deleted'].replace({1: True, 0: False, 1: True, 0: False}).astype(bool)\n",
    "repos_df['owner_id'] = repos_df['owner_id'].astype(int)\n",
    "repos_df['forked_from'] = repos_df['forked_from'].astype(float)\n",
    "repos_df['?'] = repos_df['?'].astype(float)\n",
    "repos_df.shape"
   ]
  },
  {
   "cell_type": "code",
   "execution_count": 51,
   "metadata": {
    "ExecuteTime": {
     "end_time": "2019-05-01T23:29:50.405340Z",
     "start_time": "2019-05-01T23:29:50.385820Z"
    },
    "hidden": true
   },
   "outputs": [
    {
     "data": {
      "text/plain": [
       "url                    object\n",
       "owner_id                int64\n",
       "name                   object\n",
       "description            object\n",
       "language               object\n",
       "created_at     datetime64[ns]\n",
       "forked_from           float64\n",
       "deleted                object\n",
       "updated_at     datetime64[ns]\n",
       "?                      object\n",
       "dtype: object"
      ]
     },
     "execution_count": 51,
     "metadata": {},
     "output_type": "execute_result"
    }
   ],
   "source": [
    "repos_df.dtypes"
   ]
  },
  {
   "cell_type": "code",
   "execution_count": 52,
   "metadata": {
    "ExecuteTime": {
     "end_time": "2019-05-01T23:29:50.712237Z",
     "start_time": "2019-05-01T23:29:50.669807Z"
    },
    "hidden": true
   },
   "outputs": [
    {
     "data": {
      "text/html": [
       "<div>\n",
       "<style scoped>\n",
       "    .dataframe tbody tr th:only-of-type {\n",
       "        vertical-align: middle;\n",
       "    }\n",
       "\n",
       "    .dataframe tbody tr th {\n",
       "        vertical-align: top;\n",
       "    }\n",
       "\n",
       "    .dataframe thead th {\n",
       "        text-align: right;\n",
       "    }\n",
       "</style>\n",
       "<table border=\"1\" class=\"dataframe\">\n",
       "  <thead>\n",
       "    <tr style=\"text-align: right;\">\n",
       "      <th></th>\n",
       "      <th>url</th>\n",
       "      <th>owner_id</th>\n",
       "      <th>name</th>\n",
       "      <th>description</th>\n",
       "      <th>language</th>\n",
       "      <th>created_at</th>\n",
       "      <th>forked_from</th>\n",
       "      <th>deleted</th>\n",
       "      <th>updated_at</th>\n",
       "      <th>?</th>\n",
       "    </tr>\n",
       "    <tr>\n",
       "      <th>id</th>\n",
       "      <th></th>\n",
       "      <th></th>\n",
       "      <th></th>\n",
       "      <th></th>\n",
       "      <th></th>\n",
       "      <th></th>\n",
       "      <th></th>\n",
       "      <th></th>\n",
       "      <th></th>\n",
       "      <th></th>\n",
       "    </tr>\n",
       "  </thead>\n",
       "  <tbody>\n",
       "    <tr>\n",
       "      <th>65188</th>\n",
       "      <td>okertanov/functional</td>\n",
       "      <td>35717</td>\n",
       "      <td>functional</td>\n",
       "      <td>My Functional samples &amp; code snippets</td>\n",
       "      <td>C</td>\n",
       "      <td>2011-03-04 20:29:41</td>\n",
       "      <td>NaN</td>\n",
       "      <td>0</td>\n",
       "      <td>2016-10-13 08:42:12</td>\n",
       "      <td>NaN</td>\n",
       "    </tr>\n",
       "    <tr>\n",
       "      <th>349454</th>\n",
       "      <td>egw/tweepy</td>\n",
       "      <td>176567</td>\n",
       "      <td>tweepy</td>\n",
       "      <td>A Python library for accessing the Twitter API</td>\n",
       "      <td>Python</td>\n",
       "      <td>2012-05-01 02:35:25</td>\n",
       "      <td>6205.0</td>\n",
       "      <td>0</td>\n",
       "      <td>2016-10-19 10:13:51</td>\n",
       "      <td>544357</td>\n",
       "    </tr>\n",
       "    <tr>\n",
       "      <th>497394</th>\n",
       "      <td>travis4all/f_underscore</td>\n",
       "      <td>582667</td>\n",
       "      <td>f_underscore</td>\n",
       "      <td>A library of functions that create and compose...</td>\n",
       "      <td>JavaScript</td>\n",
       "      <td>2012-08-23 11:27:14</td>\n",
       "      <td>497392.0</td>\n",
       "      <td>0</td>\n",
       "      <td>2016-11-25 18:49:43</td>\n",
       "      <td>7363091</td>\n",
       "    </tr>\n",
       "    <tr>\n",
       "      <th>730327</th>\n",
       "      <td>Obijuan/obiscad</td>\n",
       "      <td>542977</td>\n",
       "      <td>obiscad</td>\n",
       "      <td>Obijuan openscad tools</td>\n",
       "      <td>OpenSCAD</td>\n",
       "      <td>2012-09-07 10:36:24</td>\n",
       "      <td>NaN</td>\n",
       "      <td>0</td>\n",
       "      <td>2019-02-25 19:34:28</td>\n",
       "      <td>NaN</td>\n",
       "    </tr>\n",
       "    <tr>\n",
       "      <th>816346</th>\n",
       "      <td>wetstevs/playGit</td>\n",
       "      <td>42023</td>\n",
       "      <td>playGit</td>\n",
       "      <td>A playground for tinkering with Git features.</td>\n",
       "      <td>NaN</td>\n",
       "      <td>2012-09-13 19:40:09</td>\n",
       "      <td>NaN</td>\n",
       "      <td>0</td>\n",
       "      <td>2016-11-26 17:52:36</td>\n",
       "      <td>NaN</td>\n",
       "    </tr>\n",
       "  </tbody>\n",
       "</table>\n",
       "</div>"
      ],
      "text/plain": [
       "                            url  owner_id          name  \\\n",
       "id                                                        \n",
       "65188      okertanov/functional     35717    functional   \n",
       "349454               egw/tweepy    176567        tweepy   \n",
       "497394  travis4all/f_underscore    582667  f_underscore   \n",
       "730327          Obijuan/obiscad    542977       obiscad   \n",
       "816346         wetstevs/playGit     42023       playGit   \n",
       "\n",
       "                                              description    language  \\\n",
       "id                                                                      \n",
       "65188               My Functional samples & code snippets           C   \n",
       "349454     A Python library for accessing the Twitter API      Python   \n",
       "497394  A library of functions that create and compose...  JavaScript   \n",
       "730327                             Obijuan openscad tools    OpenSCAD   \n",
       "816346      A playground for tinkering with Git features.         NaN   \n",
       "\n",
       "                created_at  forked_from deleted          updated_at        ?  \n",
       "id                                                                            \n",
       "65188  2011-03-04 20:29:41          NaN       0 2016-10-13 08:42:12      NaN  \n",
       "349454 2012-05-01 02:35:25       6205.0       0 2016-10-19 10:13:51   544357  \n",
       "497394 2012-08-23 11:27:14     497392.0       0 2016-11-25 18:49:43  7363091  \n",
       "730327 2012-09-07 10:36:24          NaN       0 2019-02-25 19:34:28      NaN  \n",
       "816346 2012-09-13 19:40:09          NaN       0 2016-11-26 17:52:36      NaN  "
      ]
     },
     "execution_count": 52,
     "metadata": {},
     "output_type": "execute_result"
    }
   ],
   "source": [
    "repos_df.sample(5)"
   ]
  },
  {
   "cell_type": "code",
   "execution_count": 35,
   "metadata": {
    "ExecuteTime": {
     "end_time": "2019-05-01T23:26:44.483403Z",
     "start_time": "2019-05-01T23:26:44.359749Z"
    },
    "hidden": true
   },
   "outputs": [
    {
     "data": {
      "text/html": [
       "<div>\n",
       "<style scoped>\n",
       "    .dataframe tbody tr th:only-of-type {\n",
       "        vertical-align: middle;\n",
       "    }\n",
       "\n",
       "    .dataframe tbody tr th {\n",
       "        vertical-align: top;\n",
       "    }\n",
       "\n",
       "    .dataframe thead th {\n",
       "        text-align: right;\n",
       "    }\n",
       "</style>\n",
       "<table border=\"1\" class=\"dataframe\">\n",
       "  <thead>\n",
       "    <tr style=\"text-align: right;\">\n",
       "      <th></th>\n",
       "      <th>owner_id</th>\n",
       "      <th>forked_from</th>\n",
       "    </tr>\n",
       "  </thead>\n",
       "  <tbody>\n",
       "    <tr>\n",
       "      <th>count</th>\n",
       "      <td>998456.000000</td>\n",
       "      <td>4.807500e+05</td>\n",
       "    </tr>\n",
       "    <tr>\n",
       "      <th>mean</th>\n",
       "      <td>283153.938008</td>\n",
       "      <td>2.150832e+06</td>\n",
       "    </tr>\n",
       "    <tr>\n",
       "      <th>std</th>\n",
       "      <td>264088.724772</td>\n",
       "      <td>6.738677e+06</td>\n",
       "    </tr>\n",
       "    <tr>\n",
       "      <th>min</th>\n",
       "      <td>-1.000000</td>\n",
       "      <td>2.000000e+00</td>\n",
       "    </tr>\n",
       "    <tr>\n",
       "      <th>25%</th>\n",
       "      <td>61324.750000</td>\n",
       "      <td>1.699700e+04</td>\n",
       "    </tr>\n",
       "    <tr>\n",
       "      <th>50%</th>\n",
       "      <td>184924.500000</td>\n",
       "      <td>1.285650e+05</td>\n",
       "    </tr>\n",
       "    <tr>\n",
       "      <th>75%</th>\n",
       "      <td>459355.000000</td>\n",
       "      <td>7.142580e+05</td>\n",
       "    </tr>\n",
       "    <tr>\n",
       "      <th>max</th>\n",
       "      <td>908869.000000</td>\n",
       "      <td>5.174382e+07</td>\n",
       "    </tr>\n",
       "  </tbody>\n",
       "</table>\n",
       "</div>"
      ],
      "text/plain": [
       "            owner_id   forked_from\n",
       "count  998456.000000  4.807500e+05\n",
       "mean   283153.938008  2.150832e+06\n",
       "std    264088.724772  6.738677e+06\n",
       "min        -1.000000  2.000000e+00\n",
       "25%     61324.750000  1.699700e+04\n",
       "50%    184924.500000  1.285650e+05\n",
       "75%    459355.000000  7.142580e+05\n",
       "max    908869.000000  5.174382e+07"
      ]
     },
     "execution_count": 35,
     "metadata": {},
     "output_type": "execute_result"
    }
   ],
   "source": [
    "repos_df.describe()"
   ]
  },
  {
   "cell_type": "code",
   "execution_count": 57,
   "metadata": {
    "ExecuteTime": {
     "end_time": "2019-05-01T23:48:21.068314Z",
     "start_time": "2019-05-01T23:48:20.991306Z"
    },
    "hidden": true
   },
   "outputs": [],
   "source": [
    "for i in ['url', 'owner_id', 'name']:\n",
    "    mc['github']['projects'].create_index(i)"
   ]
  },
  {
   "cell_type": "code",
   "execution_count": 30,
   "metadata": {
    "ExecuteTime": {
     "end_time": "2019-04-30T23:33:29.089552Z",
     "start_time": "2019-04-30T22:33:14.419839Z"
    },
    "hidden": true
   },
   "outputs": [
    {
     "data": {
      "application/vnd.jupyter.widget-view+json": {
       "model_id": "5389693234b74d0d97d9aba1dc6ce5d6",
       "version_major": 2,
       "version_minor": 0
      },
      "text/plain": [
       "HBox(children=(IntProgress(value=0, max=30600249), HTML(value='')))"
      ]
     },
     "metadata": {},
     "output_type": "display_data"
    },
    {
     "data": {
      "text/plain": [
       "30600249"
      ]
     },
     "execution_count": 30,
     "metadata": {},
     "output_type": "execute_result"
    }
   ],
   "source": [
    "to_insert = []\n",
    "\n",
    "for rid, row in tn(repos_df.iterrows(), total=repos_df.shape[0]):\n",
    "    to_insert.append({'_id': rid, **row.to_dict()})\n",
    "    if len(to_insert) >= 10_000:\n",
    "        mc['github']['projects'].insert_many(to_insert)\n",
    "        to_insert = []\n",
    "if len(to_insert):\n",
    "    mc['github']['project'].insert_many(to_insert)\n",
    "mc['github']['projects'].estimated_document_count()"
   ]
  },
  {
   "cell_type": "markdown",
   "metadata": {
    "heading_collapsed": true,
    "hidden": true
   },
   "source": [
    "### iters store"
   ]
  },
  {
   "cell_type": "code",
   "execution_count": 8,
   "metadata": {
    "ExecuteTime": {
     "end_time": "2019-05-02T06:00:04.835024Z",
     "start_time": "2019-05-02T01:06:29.030301Z"
    },
    "hidden": true
   },
   "outputs": [
    {
     "name": "stdout",
     "output_type": "stream",
     "text": [
      "3\n"
     ]
    },
    {
     "data": {
      "application/vnd.jupyter.widget-view+json": {
       "model_id": "40901ecff15143999a054051348a1244",
       "version_major": 2,
       "version_minor": 0
      },
      "text/plain": [
       "HBox(children=(IntProgress(value=0, max=9988908), HTML(value='')))"
      ]
     },
     "metadata": {},
     "output_type": "display_data"
    },
    {
     "name": "stdout",
     "output_type": "stream",
     "text": [
      "\n",
      "4\n"
     ]
    },
    {
     "data": {
      "application/vnd.jupyter.widget-view+json": {
       "model_id": "2dace6f0a47c463bb45102f69527d085",
       "version_major": 2,
       "version_minor": 0
      },
      "text/plain": [
       "HBox(children=(IntProgress(value=0, max=9987970), HTML(value='')))"
      ]
     },
     "metadata": {},
     "output_type": "display_data"
    },
    {
     "name": "stdout",
     "output_type": "stream",
     "text": [
      "\n",
      "5\n"
     ]
    },
    {
     "data": {
      "application/vnd.jupyter.widget-view+json": {
       "model_id": "21bc78015e9643ba8f50972523982947",
       "version_major": 2,
       "version_minor": 0
      },
      "text/plain": [
       "HBox(children=(IntProgress(value=0, max=9988647), HTML(value='')))"
      ]
     },
     "metadata": {},
     "output_type": "display_data"
    },
    {
     "name": "stdout",
     "output_type": "stream",
     "text": [
      "\n",
      "6\n"
     ]
    },
    {
     "data": {
      "application/vnd.jupyter.widget-view+json": {
       "model_id": "eeb4287d2cc9401896b86426e8dcb7fe",
       "version_major": 2,
       "version_minor": 0
      },
      "text/plain": [
       "HBox(children=(IntProgress(value=0, max=9988889), HTML(value='')))"
      ]
     },
     "metadata": {},
     "output_type": "display_data"
    },
    {
     "name": "stdout",
     "output_type": "stream",
     "text": [
      "\n",
      "7\n"
     ]
    },
    {
     "data": {
      "application/vnd.jupyter.widget-view+json": {
       "model_id": "306743c7904a4b369103a9e5a2d60a72",
       "version_major": 2,
       "version_minor": 0
      },
      "text/plain": [
       "HBox(children=(IntProgress(value=0, max=9987616), HTML(value='')))"
      ]
     },
     "metadata": {},
     "output_type": "display_data"
    },
    {
     "name": "stdout",
     "output_type": "stream",
     "text": [
      "\n",
      "8\n"
     ]
    },
    {
     "data": {
      "application/vnd.jupyter.widget-view+json": {
       "model_id": "3dd7d75142c442ca92f4ede418d4d665",
       "version_major": 2,
       "version_minor": 0
      },
      "text/plain": [
       "HBox(children=(IntProgress(value=0, max=9986974), HTML(value='')))"
      ]
     },
     "metadata": {},
     "output_type": "display_data"
    },
    {
     "name": "stdout",
     "output_type": "stream",
     "text": [
      "\n",
      "9\n"
     ]
    },
    {
     "data": {
      "application/vnd.jupyter.widget-view+json": {
       "model_id": "27da2fb97bbf471097fc6d81da232586",
       "version_major": 2,
       "version_minor": 0
      },
      "text/plain": [
       "HBox(children=(IntProgress(value=0, max=9987951), HTML(value='')))"
      ]
     },
     "metadata": {},
     "output_type": "display_data"
    },
    {
     "name": "stdout",
     "output_type": "stream",
     "text": [
      "\n",
      "10\n"
     ]
    },
    {
     "data": {
      "application/vnd.jupyter.widget-view+json": {
       "model_id": "b21f92e3dbc2420fb455787be94571ed",
       "version_major": 2,
       "version_minor": 0
      },
      "text/plain": [
       "HBox(children=(IntProgress(value=0, max=9988610), HTML(value='')))"
      ]
     },
     "metadata": {},
     "output_type": "display_data"
    },
    {
     "name": "stdout",
     "output_type": "stream",
     "text": [
      "\n",
      "11\n"
     ]
    },
    {
     "data": {
      "application/vnd.jupyter.widget-view+json": {
       "model_id": "aebe1b8a07354811851c1eaf6a495ed9",
       "version_major": 2,
       "version_minor": 0
      },
      "text/plain": [
       "HBox(children=(IntProgress(value=0, max=6210486), HTML(value='')))"
      ]
     },
     "metadata": {},
     "output_type": "display_data"
    },
    {
     "name": "stdout",
     "output_type": "stream",
     "text": [
      "\n"
     ]
    },
    {
     "data": {
      "text/plain": [
       "'[projects]: stored 116010000 projects, 135185 skiped'"
      ]
     },
     "execution_count": 8,
     "metadata": {},
     "output_type": "execute_result"
    }
   ],
   "source": [
    "try:\n",
    "    stop = False\n",
    "    skip_count = 0\n",
    "    for i in range(1000):\n",
    "        print(i)\n",
    "        repos_df = pd.read_csv('./data/mysql-2019-03-01/projects.csv',\n",
    "                               skiprows=10_000_000*i,\n",
    "                               nrows=10_000_000,\n",
    "                               header=None,\n",
    "                               na_values=['\\\\N'],\n",
    "                               names=[\"id\", \"url\", \"owner_id\", \"name\", \"description\", \"language\",\n",
    "                                      \"created_at\", \"forked_from\", \"deleted\", \"updated_at\", \"?\"],\n",
    "                               error_bad_lines=False,\n",
    "                               low_memory=False,\n",
    "                              ).set_index('id')\n",
    "        c = repos_df.shape[0]\n",
    "        if c < 10_000_000:\n",
    "            stop = True\n",
    "        repos_df['created_at'] = repos_df['created_at'].map(convert_dt)\n",
    "        repos_df = repos_df[~repos_df['created_at'].isna()]\n",
    "        repos_df['updated_at'] = repos_df['updated_at'].map(convert_dt)\n",
    "        repos_df = repos_df[~repos_df['updated_at'].isna()]\n",
    "        skip_count += (c - repos_df.shape[0])\n",
    "        repos_df.index = repos_df.index.astype(int)\n",
    "        repos_df['url'] = repos_df['url'].astype(str).map(lambda x: x[29:])\n",
    "        repos_df['deleted'] = repos_df['deleted'].replace({1: True, 0: False, 1: True, 0: False}).astype(bool)\n",
    "        repos_df['owner_id'] = repos_df['owner_id'].astype(int)\n",
    "        repos_df['forked_from'] = repos_df['forked_from'].astype(float)\n",
    "        repos_df['?'] = repos_df['?'].astype(float)\n",
    "\n",
    "        to_insert = []\n",
    "\n",
    "        for rid, row in tn(repos_df.iterrows(), total=repos_df.shape[0]):\n",
    "            to_insert.append({'_id': rid, **row.to_dict()})\n",
    "            if len(to_insert) >= 10_000:\n",
    "                mc['github']['projects'].insert_many(to_insert)\n",
    "                to_insert = []\n",
    "        if len(to_insert):\n",
    "            mc['github']['project'].insert_many(to_insert)\n",
    "        if stop:\n",
    "            break\n",
    "    m = f\"[projects]: stored {mc['github']['projects'].estimated_document_count()} projects, {skip_count} skiped\"\n",
    "    tgn(m)\n",
    "except Exception as e:\n",
    "    m = f'[projects]: error - {e}'\n",
    "    tgn(m)\n",
    "m"
   ]
  },
  {
   "cell_type": "markdown",
   "metadata": {
    "hidden": true
   },
   "source": [
    "`0 - 13412\n",
    "1+2 - 19802\n",
    "3 - 11092\n",
    "4 - 12030\n",
    "5 - 11353\n",
    "6 - 11111\n",
    "7 - 12384\n",
    "8 - 13026\n",
    "9 - 12049\n",
    "10 - 11390\n",
    "11 - 7536 (from 6218022 - 6210486)\n",
    "Total 135185 skiped rows`"
   ]
  },
  {
   "cell_type": "markdown",
   "metadata": {
    "heading_collapsed": true
   },
   "source": [
    "## sandbox"
   ]
  },
  {
   "cell_type": "code",
   "execution_count": null,
   "metadata": {
    "ExecuteTime": {
     "end_time": "2019-05-12T14:42:19.447693Z",
     "start_time": "2019-05-12T14:42:19.353056Z"
    },
    "hidden": true
   },
   "outputs": [],
   "source": [
    "uname = 'codebox'\n",
    "\n",
    "udf = users_df[users_df['login'] == uname]\n",
    "uid = udf.index[0]\n",
    "udf"
   ]
  },
  {
   "cell_type": "code",
   "execution_count": 48,
   "metadata": {
    "ExecuteTime": {
     "end_time": "2019-04-30T18:12:01.943637Z",
     "start_time": "2019-04-30T18:12:01.896032Z"
    },
    "hidden": true
   },
   "outputs": [
    {
     "data": {
      "text/html": [
       "<div>\n",
       "<style scoped>\n",
       "    .dataframe tbody tr th:only-of-type {\n",
       "        vertical-align: middle;\n",
       "    }\n",
       "\n",
       "    .dataframe tbody tr th {\n",
       "        vertical-align: top;\n",
       "    }\n",
       "\n",
       "    .dataframe thead th {\n",
       "        text-align: right;\n",
       "    }\n",
       "</style>\n",
       "<table border=\"1\" class=\"dataframe\">\n",
       "  <thead>\n",
       "    <tr style=\"text-align: right;\">\n",
       "      <th></th>\n",
       "      <th>follower_id</th>\n",
       "      <th>user_id</th>\n",
       "      <th>created_at</th>\n",
       "    </tr>\n",
       "  </thead>\n",
       "  <tbody>\n",
       "  </tbody>\n",
       "</table>\n",
       "</div>"
      ],
      "text/plain": [
       "Empty DataFrame\n",
       "Columns: [follower_id, user_id, created_at]\n",
       "Index: []"
      ]
     },
     "execution_count": 48,
     "metadata": {},
     "output_type": "execute_result"
    }
   ],
   "source": [
    "following_s[uid]"
   ]
  },
  {
   "cell_type": "code",
   "execution_count": 47,
   "metadata": {
    "ExecuteTime": {
     "end_time": "2019-04-30T18:12:00.802870Z",
     "start_time": "2019-04-30T18:12:00.760759Z"
    },
    "hidden": true
   },
   "outputs": [
    {
     "data": {
      "text/html": [
       "<div>\n",
       "<style scoped>\n",
       "    .dataframe tbody tr th:only-of-type {\n",
       "        vertical-align: middle;\n",
       "    }\n",
       "\n",
       "    .dataframe tbody tr th {\n",
       "        vertical-align: top;\n",
       "    }\n",
       "\n",
       "    .dataframe thead th {\n",
       "        text-align: right;\n",
       "    }\n",
       "</style>\n",
       "<table border=\"1\" class=\"dataframe\">\n",
       "  <thead>\n",
       "    <tr style=\"text-align: right;\">\n",
       "      <th></th>\n",
       "      <th>follower_id</th>\n",
       "      <th>user_id</th>\n",
       "      <th>created_at</th>\n",
       "    </tr>\n",
       "  </thead>\n",
       "  <tbody>\n",
       "  </tbody>\n",
       "</table>\n",
       "</div>"
      ],
      "text/plain": [
       "Empty DataFrame\n",
       "Columns: [follower_id, user_id, created_at]\n",
       "Index: []"
      ]
     },
     "execution_count": 47,
     "metadata": {},
     "output_type": "execute_result"
    }
   ],
   "source": [
    "followers_s[uid]"
   ]
  },
  {
   "cell_type": "code",
   "execution_count": null,
   "metadata": {
    "hidden": true
   },
   "outputs": [],
   "source": []
  }
 ],
 "metadata": {
  "kernelspec": {
   "display_name": "Python 3",
   "language": "python",
   "name": "python3"
  },
  "language_info": {
   "codemirror_mode": {
    "name": "ipython",
    "version": 3
   },
   "file_extension": ".py",
   "mimetype": "text/x-python",
   "name": "python",
   "nbconvert_exporter": "python",
   "pygments_lexer": "ipython3",
   "version": "3.7.3"
  },
  "toc": {
   "base_numbering": 1,
   "nav_menu": {},
   "number_sections": true,
   "sideBar": true,
   "skip_h1_title": false,
   "title_cell": "Table of Contents",
   "title_sidebar": "Contents",
   "toc_cell": false,
   "toc_position": {},
   "toc_section_display": true,
   "toc_window_display": false
  },
  "varInspector": {
   "cols": {
    "lenName": 16,
    "lenType": 16,
    "lenVar": 40
   },
   "kernels_config": {
    "python": {
     "delete_cmd_postfix": "",
     "delete_cmd_prefix": "del ",
     "library": "var_list.py",
     "varRefreshCmd": "print(var_dic_list())"
    },
    "r": {
     "delete_cmd_postfix": ") ",
     "delete_cmd_prefix": "rm(",
     "library": "var_list.r",
     "varRefreshCmd": "cat(var_dic_list()) "
    }
   },
   "types_to_exclude": [
    "module",
    "function",
    "builtin_function_or_method",
    "instance",
    "_Feature"
   ],
   "window_display": false
  }
 },
 "nbformat": 4,
 "nbformat_minor": 2
}
