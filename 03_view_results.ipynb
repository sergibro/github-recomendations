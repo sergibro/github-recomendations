{
 "cells": [
  {
   "cell_type": "markdown",
   "metadata": {},
   "source": [
    "### define"
   ]
  },
  {
   "cell_type": "code",
   "execution_count": 1,
   "metadata": {
    "ExecuteTime": {
     "end_time": "2019-05-12T14:44:31.492725Z",
     "start_time": "2019-05-12T14:44:31.390076Z"
    },
    "scrolled": true
   },
   "outputs": [
    {
     "data": {
      "text/plain": [
       "['users_followers_embeddings',\n",
       " 'followers',\n",
       " 'users_following_embeddings',\n",
       " 'followers_all',\n",
       " 'users_watches',\n",
       " 'repos_watches_embeddings',\n",
       " 'users',\n",
       " 'projects',\n",
       " 'repos_stars_embeddings',\n",
       " 'following']"
      ]
     },
     "execution_count": 1,
     "metadata": {},
     "output_type": "execute_result"
    }
   ],
   "source": [
    "from resources.utils import *\n",
    "from gensim.models import Word2Vec\n",
    "\n",
    "mc['github'].list_collection_names()"
   ]
  },
  {
   "cell_type": "markdown",
   "metadata": {
    "heading_collapsed": true
   },
   "source": [
    "## users"
   ]
  },
  {
   "cell_type": "code",
   "execution_count": 8,
   "metadata": {
    "ExecuteTime": {
     "end_time": "2019-05-12T14:46:21.233361Z",
     "start_time": "2019-05-12T14:46:14.561503Z"
    },
    "hidden": true
   },
   "outputs": [
    {
     "name": "stdout",
     "output_type": "stream",
     "text": [
      "Word2Vec(vocab=1446832, size=300, alpha=0.025)\n"
     ]
    }
   ],
   "source": [
    "model_name = 'users_followers_emb_sg_d300_w30_mc3_e5'\n",
    "model = Word2Vec.load('./models/' + model_name + '.bin')\n",
    "print(model)"
   ]
  },
  {
   "cell_type": "code",
   "execution_count": 9,
   "metadata": {
    "ExecuteTime": {
     "end_time": "2019-05-12T14:46:21.464555Z",
     "start_time": "2019-05-12T14:46:21.278499Z"
    },
    "hidden": true
   },
   "outputs": [
    {
     "data": {
      "text/plain": [
       "24435"
      ]
     },
     "execution_count": 9,
     "metadata": {},
     "output_type": "execute_result"
    }
   ],
   "source": [
    "good_uids = []\n",
    "\n",
    "for uid, r in model.wv.vocab.items():\n",
    "    if r.count >= 100:\n",
    "        good_uids.append(uid)\n",
    "len(good_uids)"
   ]
  },
  {
   "cell_type": "code",
   "execution_count": 12,
   "metadata": {
    "ExecuteTime": {
     "end_time": "2019-05-12T14:46:36.136043Z",
     "start_time": "2019-05-12T14:46:36.112639Z"
    },
    "hidden": true
   },
   "outputs": [],
   "source": [
    "# username = 'durov'\n",
    "# username = 'ping'\n",
    "# username = 'codebox'\n",
    "username = 'JakeWharton'\n",
    "# username = 'kennethreitz'"
   ]
  },
  {
   "cell_type": "code",
   "execution_count": 13,
   "metadata": {
    "ExecuteTime": {
     "end_time": "2019-05-12T14:46:37.275996Z",
     "start_time": "2019-05-12T14:46:37.241410Z"
    },
    "hidden": true
   },
   "outputs": [
    {
     "name": "stdout",
     "output_type": "stream",
     "text": [
      "stored, 24 word count\n"
     ]
    },
    {
     "data": {
      "text/plain": [
       "'896'"
      ]
     },
     "execution_count": 13,
     "metadata": {},
     "output_type": "execute_result"
    }
   ],
   "source": [
    "uid = mc['github']['users'].find_one({'login': username}, {})['_id']\n",
    "uid = str(uid)\n",
    "if uid in model.wv.vocab:\n",
    "    print(f'stored, {model.wv.vocab[uid].count} word count')\n",
    "else:\n",
    "    print('not stored')\n",
    "uid"
   ]
  },
  {
   "cell_type": "code",
   "execution_count": 14,
   "metadata": {
    "ExecuteTime": {
     "end_time": "2019-05-12T14:46:40.574932Z",
     "start_time": "2019-05-12T14:46:38.520986Z"
    },
    "hidden": true
   },
   "outputs": [
    {
     "data": {
      "text/html": [
       "<div>\n",
       "<style scoped>\n",
       "    .dataframe tbody tr th:only-of-type {\n",
       "        vertical-align: middle;\n",
       "    }\n",
       "\n",
       "    .dataframe tbody tr th {\n",
       "        vertical-align: top;\n",
       "    }\n",
       "\n",
       "    .dataframe thead th {\n",
       "        text-align: right;\n",
       "    }\n",
       "</style>\n",
       "<table border=\"1\" class=\"dataframe\">\n",
       "  <thead>\n",
       "    <tr style=\"text-align: right;\">\n",
       "      <th></th>\n",
       "      <th>similarity</th>\n",
       "      <th>login</th>\n",
       "      <th>words_count</th>\n",
       "    </tr>\n",
       "    <tr>\n",
       "      <th>uid</th>\n",
       "      <th></th>\n",
       "      <th></th>\n",
       "      <th></th>\n",
       "    </tr>\n",
       "  </thead>\n",
       "  <tbody>\n",
       "    <tr>\n",
       "      <th>8220</th>\n",
       "      <td>0.983574</td>\n",
       "      <td>rashiqahmad</td>\n",
       "      <td>7</td>\n",
       "    </tr>\n",
       "    <tr>\n",
       "      <th>1955</th>\n",
       "      <td>0.983191</td>\n",
       "      <td>thiagolocatelli</td>\n",
       "      <td>39</td>\n",
       "    </tr>\n",
       "    <tr>\n",
       "      <th>8240</th>\n",
       "      <td>0.982011</td>\n",
       "      <td>jacintosan</td>\n",
       "      <td>6</td>\n",
       "    </tr>\n",
       "    <tr>\n",
       "      <th>276</th>\n",
       "      <td>0.979131</td>\n",
       "      <td>soe</td>\n",
       "      <td>5</td>\n",
       "    </tr>\n",
       "    <tr>\n",
       "      <th>5830</th>\n",
       "      <td>0.979046</td>\n",
       "      <td>doyonghoon</td>\n",
       "      <td>21</td>\n",
       "    </tr>\n",
       "    <tr>\n",
       "      <th>8221</th>\n",
       "      <td>0.978960</td>\n",
       "      <td>cyrilmottier</td>\n",
       "      <td>8</td>\n",
       "    </tr>\n",
       "    <tr>\n",
       "      <th>8122</th>\n",
       "      <td>0.978828</td>\n",
       "      <td>iDG</td>\n",
       "      <td>4</td>\n",
       "    </tr>\n",
       "    <tr>\n",
       "      <th>2611</th>\n",
       "      <td>0.978275</td>\n",
       "      <td>arriolac</td>\n",
       "      <td>67</td>\n",
       "    </tr>\n",
       "    <tr>\n",
       "      <th>6809</th>\n",
       "      <td>0.976906</td>\n",
       "      <td>jferlisi</td>\n",
       "      <td>14</td>\n",
       "    </tr>\n",
       "    <tr>\n",
       "      <th>7756</th>\n",
       "      <td>0.976575</td>\n",
       "      <td>pkafka</td>\n",
       "      <td>10</td>\n",
       "    </tr>\n",
       "  </tbody>\n",
       "</table>\n",
       "</div>"
      ],
      "text/plain": [
       "      similarity            login  words_count\n",
       "uid                                           \n",
       "8220    0.983574      rashiqahmad            7\n",
       "1955    0.983191  thiagolocatelli           39\n",
       "8240    0.982011       jacintosan            6\n",
       "276     0.979131              soe            5\n",
       "5830    0.979046       doyonghoon           21\n",
       "8221    0.978960     cyrilmottier            8\n",
       "8122    0.978828              iDG            4\n",
       "2611    0.978275         arriolac           67\n",
       "6809    0.976906         jferlisi           14\n",
       "7756    0.976575           pkafka           10"
      ]
     },
     "execution_count": 14,
     "metadata": {},
     "output_type": "execute_result"
    }
   ],
   "source": [
    "df = pd.DataFrame(model.wv.similar_by_word(uid, topn=10), columns=['uid', 'similarity']).set_index('uid')\n",
    "df['login'] = df.index.map(lambda x: mc['github']['users'].find_one(int(x), ['login'])['login'])\n",
    "df['words_count'] = df.index.map(lambda x: model.wv.vocab[x].count)\n",
    "df"
   ]
  },
  {
   "cell_type": "code",
   "execution_count": 15,
   "metadata": {
    "ExecuteTime": {
     "end_time": "2019-05-12T14:46:40.654526Z",
     "start_time": "2019-05-12T14:46:40.636712Z"
    },
    "hidden": true
   },
   "outputs": [
    {
     "name": "stdout",
     "output_type": "stream",
     "text": [
      "https://github.com/rashiqahmad\n",
      "https://github.com/thiagolocatelli\n",
      "https://github.com/jacintosan\n",
      "https://github.com/soe\n",
      "https://github.com/doyonghoon\n",
      "https://github.com/cyrilmottier\n",
      "https://github.com/iDG\n",
      "https://github.com/arriolac\n",
      "https://github.com/jferlisi\n",
      "https://github.com/pkafka\n"
     ]
    }
   ],
   "source": [
    "df['login'].map(lambda x: f'https://github.com/{x}').map(print);"
   ]
  },
  {
   "cell_type": "markdown",
   "metadata": {
    "heading_collapsed": true
   },
   "source": [
    "## repos"
   ]
  },
  {
   "cell_type": "code",
   "execution_count": 2,
   "metadata": {
    "ExecuteTime": {
     "end_time": "2019-05-12T14:45:33.366234Z",
     "start_time": "2019-05-12T14:45:23.309515Z"
    },
    "hidden": true
   },
   "outputs": [
    {
     "name": "stdout",
     "output_type": "stream",
     "text": [
      "Word2Vec(vocab=2371786, size=300, alpha=0.025)\n"
     ]
    }
   ],
   "source": [
    "repo_model_name = 'repos_watches_emb_sg_d300_w30_mc3_e5'\n",
    "model = Word2Vec.load('./models/' + repo_model_name + '.bin')\n",
    "print(model)"
   ]
  },
  {
   "cell_type": "code",
   "execution_count": 3,
   "metadata": {
    "ExecuteTime": {
     "end_time": "2019-05-12T14:45:44.668287Z",
     "start_time": "2019-05-12T14:45:44.455295Z"
    },
    "hidden": true
   },
   "outputs": [
    {
     "data": {
      "text/plain": [
       "18831"
      ]
     },
     "execution_count": 3,
     "metadata": {},
     "output_type": "execute_result"
    }
   ],
   "source": [
    "good_rids = []\n",
    "\n",
    "for rid, r in model.wv.vocab.items():\n",
    "    if r.count >= 1000:\n",
    "        good_rids.append(rid)\n",
    "len(good_rids)"
   ]
  },
  {
   "cell_type": "code",
   "execution_count": 4,
   "metadata": {
    "ExecuteTime": {
     "end_time": "2019-05-12T14:45:47.639435Z",
     "start_time": "2019-05-12T14:45:47.615477Z"
    },
    "hidden": true
   },
   "outputs": [],
   "source": [
    "# repo_name = 'rg3/youtube-dl'\n",
    "# repo_name = 'python/cpython'\n",
    "# repo_name = 'matplotlib/basemap'\n",
    "# repo_name = 'networkx/networkx'\n",
    "# repo_name = 'altair-viz/altair'\n",
    "# repo_name = 'dmlc/xgboost'\n",
    "repo_name = 'TeamHG-Memex/eli5'"
   ]
  },
  {
   "cell_type": "code",
   "execution_count": 5,
   "metadata": {
    "ExecuteTime": {
     "end_time": "2019-05-12T14:45:51.789870Z",
     "start_time": "2019-05-12T14:45:51.762934Z"
    },
    "hidden": true
   },
   "outputs": [
    {
     "name": "stdout",
     "output_type": "stream",
     "text": [
      "stored, 1229 word count\n"
     ]
    },
    {
     "data": {
      "text/plain": [
       "'45799319'"
      ]
     },
     "execution_count": 5,
     "metadata": {},
     "output_type": "execute_result"
    }
   ],
   "source": [
    "r = mc['github']['projects'].find_one({'url': repo_name}, {})\n",
    "rid = str(r['_id'])\n",
    "if rid in model.wv.vocab:\n",
    "    print(f'stored, {model.wv.vocab[rid].count} word count')\n",
    "else:\n",
    "    print('not stored')\n",
    "rid"
   ]
  },
  {
   "cell_type": "code",
   "execution_count": 6,
   "metadata": {
    "ExecuteTime": {
     "end_time": "2019-05-12T14:46:02.848455Z",
     "start_time": "2019-05-12T14:45:59.457267Z"
    },
    "hidden": true
   },
   "outputs": [
    {
     "name": "stderr",
     "output_type": "stream",
     "text": [
      "/opt/conda/lib/python3.7/site-packages/gensim/matutils.py:737: FutureWarning:\n",
      "\n",
      "Conversion of the second argument of issubdtype from `int` to `np.signedinteger` is deprecated. In future, it will be treated as `np.int64 == np.dtype(int).type`.\n",
      "\n"
     ]
    },
    {
     "data": {
      "text/html": [
       "<div>\n",
       "<style scoped>\n",
       "    .dataframe tbody tr th:only-of-type {\n",
       "        vertical-align: middle;\n",
       "    }\n",
       "\n",
       "    .dataframe tbody tr th {\n",
       "        vertical-align: top;\n",
       "    }\n",
       "\n",
       "    .dataframe thead th {\n",
       "        text-align: right;\n",
       "    }\n",
       "</style>\n",
       "<table border=\"1\" class=\"dataframe\">\n",
       "  <thead>\n",
       "    <tr style=\"text-align: right;\">\n",
       "      <th></th>\n",
       "      <th>similarity</th>\n",
       "      <th>url</th>\n",
       "      <th>words_count</th>\n",
       "    </tr>\n",
       "    <tr>\n",
       "      <th>rid</th>\n",
       "      <th></th>\n",
       "      <th></th>\n",
       "      <th></th>\n",
       "    </tr>\n",
       "  </thead>\n",
       "  <tbody>\n",
       "    <tr>\n",
       "      <th>41436405</th>\n",
       "      <td>0.804646</td>\n",
       "      <td>scikit-learn-contrib/imbalanced-learn</td>\n",
       "      <td>2890</td>\n",
       "    </tr>\n",
       "    <tr>\n",
       "      <th>44469343</th>\n",
       "      <td>0.801859</td>\n",
       "      <td>anttttti/Wordbatch</td>\n",
       "      <td>376</td>\n",
       "    </tr>\n",
       "    <tr>\n",
       "      <th>44573709</th>\n",
       "      <td>0.787377</td>\n",
       "      <td>scikit-learn-contrib/hdbscan</td>\n",
       "      <td>768</td>\n",
       "    </tr>\n",
       "    <tr>\n",
       "      <th>51973607</th>\n",
       "      <td>0.781602</td>\n",
       "      <td>slundberg/shap</td>\n",
       "      <td>3839</td>\n",
       "    </tr>\n",
       "    <tr>\n",
       "      <th>42893532</th>\n",
       "      <td>0.781349</td>\n",
       "      <td>limexp/xgbfir</td>\n",
       "      <td>273</td>\n",
       "    </tr>\n",
       "    <tr>\n",
       "      <th>46287654</th>\n",
       "      <td>0.780820</td>\n",
       "      <td>interpretable-ml/iml</td>\n",
       "      <td>43</td>\n",
       "    </tr>\n",
       "    <tr>\n",
       "      <th>45057062</th>\n",
       "      <td>0.778374</td>\n",
       "      <td>bobye/libffm-regression</td>\n",
       "      <td>10</td>\n",
       "    </tr>\n",
       "    <tr>\n",
       "      <th>44728585</th>\n",
       "      <td>0.772377</td>\n",
       "      <td>madrugado/gia-corpus</td>\n",
       "      <td>4</td>\n",
       "    </tr>\n",
       "    <tr>\n",
       "      <th>45805290</th>\n",
       "      <td>0.770090</td>\n",
       "      <td>commonsense/conceptnet-numberbatch</td>\n",
       "      <td>658</td>\n",
       "    </tr>\n",
       "    <tr>\n",
       "      <th>46230694</th>\n",
       "      <td>0.768796</td>\n",
       "      <td>conda-forge/tpot-feedstock</td>\n",
       "      <td>3</td>\n",
       "    </tr>\n",
       "  </tbody>\n",
       "</table>\n",
       "</div>"
      ],
      "text/plain": [
       "          similarity                                    url  words_count\n",
       "rid                                                                     \n",
       "41436405    0.804646  scikit-learn-contrib/imbalanced-learn         2890\n",
       "44469343    0.801859                     anttttti/Wordbatch          376\n",
       "44573709    0.787377           scikit-learn-contrib/hdbscan          768\n",
       "51973607    0.781602                         slundberg/shap         3839\n",
       "42893532    0.781349                          limexp/xgbfir          273\n",
       "46287654    0.780820                   interpretable-ml/iml           43\n",
       "45057062    0.778374                bobye/libffm-regression           10\n",
       "44728585    0.772377                   madrugado/gia-corpus            4\n",
       "45805290    0.770090     commonsense/conceptnet-numberbatch          658\n",
       "46230694    0.768796             conda-forge/tpot-feedstock            3"
      ]
     },
     "execution_count": 6,
     "metadata": {},
     "output_type": "execute_result"
    }
   ],
   "source": [
    "df = pd.DataFrame(model.wv.similar_by_word(rid, topn=10), columns=['rid', 'similarity']).set_index('rid')\n",
    "df['url'] = df.index.map(lambda x: mc['github']['projects'].find_one(int(x), ['url'])['url'])\n",
    "df['words_count'] = df.index.map(lambda x: model.wv.vocab[x].count)\n",
    "df"
   ]
  },
  {
   "cell_type": "code",
   "execution_count": 7,
   "metadata": {
    "ExecuteTime": {
     "end_time": "2019-05-12T14:46:08.022841Z",
     "start_time": "2019-05-12T14:46:07.989145Z"
    },
    "hidden": true
   },
   "outputs": [
    {
     "name": "stdout",
     "output_type": "stream",
     "text": [
      "https://github.com/scikit-learn-contrib/imbalanced-learn\n",
      "https://github.com/anttttti/Wordbatch\n",
      "https://github.com/scikit-learn-contrib/hdbscan\n",
      "https://github.com/slundberg/shap\n",
      "https://github.com/limexp/xgbfir\n",
      "https://github.com/interpretable-ml/iml\n",
      "https://github.com/bobye/libffm-regression\n",
      "https://github.com/madrugado/gia-corpus\n",
      "https://github.com/commonsense/conceptnet-numberbatch\n",
      "https://github.com/conda-forge/tpot-feedstock\n"
     ]
    }
   ],
   "source": [
    "df['url'].map(lambda x: f'https://github.com/{x}').map(print);"
   ]
  },
  {
   "cell_type": "markdown",
   "metadata": {
    "heading_collapsed": true
   },
   "source": [
    "## sandbox"
   ]
  },
  {
   "cell_type": "code",
   "execution_count": 45,
   "metadata": {
    "ExecuteTime": {
     "end_time": "2019-05-02T17:17:37.230204Z",
     "start_time": "2019-05-02T17:17:37.192689Z"
    },
    "hidden": true
   },
   "outputs": [
    {
     "data": {
      "text/plain": [
       "_id\n",
       "5203      95258\n",
       "896       53972\n",
       "616741    48027\n",
       "376498    41660\n",
       "18556     39688\n",
       "417948    36377\n",
       "6240      36128\n",
       "3871      31648\n",
       "1779      31553\n",
       "796       27757\n",
       "Name: followers_count, dtype: int64"
      ]
     },
     "execution_count": 45,
     "metadata": {},
     "output_type": "execute_result"
    }
   ],
   "source": [
    "cur = mc['github']['followers'].find({}, ['followers_count']).sort([(\"followers_count\", -1)]).limit(10)\n",
    "\n",
    "s = pd.DataFrame(list(cur)).set_index('_id')['followers_count']\n",
    "s"
   ]
  },
  {
   "cell_type": "code",
   "execution_count": 48,
   "metadata": {
    "ExecuteTime": {
     "end_time": "2019-05-02T17:17:52.985893Z",
     "start_time": "2019-05-02T17:17:52.960867Z"
    },
    "hidden": true
   },
   "outputs": [
    {
     "data": {
      "text/plain": [
       "[5203, 896, 616741, 376498, 18556, 417948, 6240, 3871, 1779, 796]"
      ]
     },
     "execution_count": 48,
     "metadata": {},
     "output_type": "execute_result"
    }
   ],
   "source": [
    "top_foll = s.index.to_list()\n",
    "top_foll"
   ]
  },
  {
   "cell_type": "code",
   "execution_count": 50,
   "metadata": {
    "ExecuteTime": {
     "end_time": "2019-05-02T17:18:03.373909Z",
     "start_time": "2019-05-02T17:18:03.328276Z"
    },
    "hidden": true
   },
   "outputs": [
    {
     "data": {
      "text/html": [
       "<div>\n",
       "<style scoped>\n",
       "    .dataframe tbody tr th:only-of-type {\n",
       "        vertical-align: middle;\n",
       "    }\n",
       "\n",
       "    .dataframe tbody tr th {\n",
       "        vertical-align: top;\n",
       "    }\n",
       "\n",
       "    .dataframe thead th {\n",
       "        text-align: right;\n",
       "    }\n",
       "</style>\n",
       "<table border=\"1\" class=\"dataframe\">\n",
       "  <thead>\n",
       "    <tr style=\"text-align: right;\">\n",
       "      <th></th>\n",
       "      <th>city</th>\n",
       "      <th>company</th>\n",
       "      <th>country_code</th>\n",
       "      <th>created_at</th>\n",
       "      <th>deleted</th>\n",
       "      <th>fake</th>\n",
       "      <th>lat</th>\n",
       "      <th>location</th>\n",
       "      <th>login</th>\n",
       "      <th>long</th>\n",
       "      <th>state</th>\n",
       "      <th>type</th>\n",
       "    </tr>\n",
       "    <tr>\n",
       "      <th>_id</th>\n",
       "      <th></th>\n",
       "      <th></th>\n",
       "      <th></th>\n",
       "      <th></th>\n",
       "      <th></th>\n",
       "      <th></th>\n",
       "      <th></th>\n",
       "      <th></th>\n",
       "      <th></th>\n",
       "      <th></th>\n",
       "      <th></th>\n",
       "      <th></th>\n",
       "    </tr>\n",
       "  </thead>\n",
       "  <tbody>\n",
       "    <tr>\n",
       "      <th>796</th>\n",
       "      <td>None</td>\n",
       "      <td>@digitalocean</td>\n",
       "      <td>None</td>\n",
       "      <td>2009-08-26 19:17:47</td>\n",
       "      <td>False</td>\n",
       "      <td>False</td>\n",
       "      <td>0.000000</td>\n",
       "      <td>Winchester, VA, USA</td>\n",
       "      <td>kennethreitz</td>\n",
       "      <td>0.000000</td>\n",
       "      <td>None</td>\n",
       "      <td>USR</td>\n",
       "    </tr>\n",
       "    <tr>\n",
       "      <th>896</th>\n",
       "      <td>Pittsburgh</td>\n",
       "      <td>Google, Inc.</td>\n",
       "      <td>us</td>\n",
       "      <td>2009-03-24 15:09:53</td>\n",
       "      <td>False</td>\n",
       "      <td>False</td>\n",
       "      <td>40.440625</td>\n",
       "      <td>Pittsburgh, PA, USA</td>\n",
       "      <td>JakeWharton</td>\n",
       "      <td>-79.995886</td>\n",
       "      <td>Allegheny County</td>\n",
       "      <td>USR</td>\n",
       "    </tr>\n",
       "    <tr>\n",
       "      <th>1779</th>\n",
       "      <td>Palo Alto</td>\n",
       "      <td>Google Chrome, ♥z</td>\n",
       "      <td>us</td>\n",
       "      <td>2008-12-08 23:39:23</td>\n",
       "      <td>False</td>\n",
       "      <td>False</td>\n",
       "      <td>37.441883</td>\n",
       "      <td>Palo Alto</td>\n",
       "      <td>paulirish</td>\n",
       "      <td>-122.143019</td>\n",
       "      <td>Santa Clara County</td>\n",
       "      <td>USR</td>\n",
       "    </tr>\n",
       "    <tr>\n",
       "      <th>3871</th>\n",
       "      <td>None</td>\n",
       "      <td>@avajs @xojs @chalk</td>\n",
       "      <td>None</td>\n",
       "      <td>2009-12-20 21:57:02</td>\n",
       "      <td>False</td>\n",
       "      <td>False</td>\n",
       "      <td>0.000000</td>\n",
       "      <td>° ☾ ☆ ¸. ¸　★  :.　 . • ○ ° ★</td>\n",
       "      <td>sindresorhus</td>\n",
       "      <td>0.000000</td>\n",
       "      <td>None</td>\n",
       "      <td>USR</td>\n",
       "    </tr>\n",
       "    <tr>\n",
       "      <th>5203</th>\n",
       "      <td>Portland</td>\n",
       "      <td>Linux Foundation</td>\n",
       "      <td>us</td>\n",
       "      <td>2011-09-03 13:26:22</td>\n",
       "      <td>False</td>\n",
       "      <td>False</td>\n",
       "      <td>45.512231</td>\n",
       "      <td>Portland, OR</td>\n",
       "      <td>torvalds</td>\n",
       "      <td>-122.658719</td>\n",
       "      <td>Multnomah County</td>\n",
       "      <td>USR</td>\n",
       "    </tr>\n",
       "    <tr>\n",
       "      <th>6240</th>\n",
       "      <td>Mountain View</td>\n",
       "      <td>Google</td>\n",
       "      <td>us</td>\n",
       "      <td>2009-08-01 16:39:25</td>\n",
       "      <td>False</td>\n",
       "      <td>False</td>\n",
       "      <td>37.386052</td>\n",
       "      <td>Mountain View, California</td>\n",
       "      <td>addyosmani</td>\n",
       "      <td>-122.083851</td>\n",
       "      <td>Santa Clara County</td>\n",
       "      <td>USR</td>\n",
       "    </tr>\n",
       "    <tr>\n",
       "      <th>18556</th>\n",
       "      <td>None</td>\n",
       "      <td>None</td>\n",
       "      <td>None</td>\n",
       "      <td>2010-11-28 00:05:40</td>\n",
       "      <td>False</td>\n",
       "      <td>False</td>\n",
       "      <td>0.000000</td>\n",
       "      <td>New Jersey / China</td>\n",
       "      <td>yyx990803</td>\n",
       "      <td>0.000000</td>\n",
       "      <td>None</td>\n",
       "      <td>USR</td>\n",
       "    </tr>\n",
       "    <tr>\n",
       "      <th>376498</th>\n",
       "      <td>Victoria</td>\n",
       "      <td>Apex</td>\n",
       "      <td>ca</td>\n",
       "      <td>2008-11-09 04:33:10</td>\n",
       "      <td>False</td>\n",
       "      <td>False</td>\n",
       "      <td>48.428421</td>\n",
       "      <td>Victoria, BC, Canada</td>\n",
       "      <td>Tj</td>\n",
       "      <td>-123.365644</td>\n",
       "      <td>Capital</td>\n",
       "      <td>USR</td>\n",
       "    </tr>\n",
       "    <tr>\n",
       "      <th>417948</th>\n",
       "      <td>London</td>\n",
       "      <td>@facebook</td>\n",
       "      <td>gb</td>\n",
       "      <td>2011-05-25 16:18:31</td>\n",
       "      <td>False</td>\n",
       "      <td>False</td>\n",
       "      <td>51.507351</td>\n",
       "      <td>London, UK</td>\n",
       "      <td>gaearon</td>\n",
       "      <td>-0.127758</td>\n",
       "      <td>Greater London</td>\n",
       "      <td>USR</td>\n",
       "    </tr>\n",
       "    <tr>\n",
       "      <th>616741</th>\n",
       "      <td>Shanghai</td>\n",
       "      <td>None</td>\n",
       "      <td>cn</td>\n",
       "      <td>2011-07-09 23:07:17</td>\n",
       "      <td>False</td>\n",
       "      <td>False</td>\n",
       "      <td>31.230390</td>\n",
       "      <td>Shanghai, China</td>\n",
       "      <td>ruanyf</td>\n",
       "      <td>121.473702</td>\n",
       "      <td>Shanghai</td>\n",
       "      <td>USR</td>\n",
       "    </tr>\n",
       "  </tbody>\n",
       "</table>\n",
       "</div>"
      ],
      "text/plain": [
       "                 city              company country_code          created_at  \\\n",
       "_id                                                                           \n",
       "796              None        @digitalocean         None 2009-08-26 19:17:47   \n",
       "896        Pittsburgh         Google, Inc.           us 2009-03-24 15:09:53   \n",
       "1779        Palo Alto    Google Chrome, ♥z           us 2008-12-08 23:39:23   \n",
       "3871             None  @avajs @xojs @chalk         None 2009-12-20 21:57:02   \n",
       "5203         Portland     Linux Foundation           us 2011-09-03 13:26:22   \n",
       "6240    Mountain View               Google           us 2009-08-01 16:39:25   \n",
       "18556            None                 None         None 2010-11-28 00:05:40   \n",
       "376498       Victoria                 Apex           ca 2008-11-09 04:33:10   \n",
       "417948         London           @facebook            gb 2011-05-25 16:18:31   \n",
       "616741       Shanghai                 None           cn 2011-07-09 23:07:17   \n",
       "\n",
       "        deleted   fake        lat                     location         login  \\\n",
       "_id                                                                            \n",
       "796       False  False   0.000000          Winchester, VA, USA  kennethreitz   \n",
       "896       False  False  40.440625          Pittsburgh, PA, USA   JakeWharton   \n",
       "1779      False  False  37.441883                    Palo Alto     paulirish   \n",
       "3871      False  False   0.000000  ° ☾ ☆ ¸. ¸　★  :.　 . • ○ ° ★  sindresorhus   \n",
       "5203      False  False  45.512231                 Portland, OR      torvalds   \n",
       "6240      False  False  37.386052    Mountain View, California    addyosmani   \n",
       "18556     False  False   0.000000           New Jersey / China     yyx990803   \n",
       "376498    False  False  48.428421         Victoria, BC, Canada            Tj   \n",
       "417948    False  False  51.507351                   London, UK       gaearon   \n",
       "616741    False  False  31.230390              Shanghai, China        ruanyf   \n",
       "\n",
       "              long               state type  \n",
       "_id                                          \n",
       "796       0.000000                None  USR  \n",
       "896     -79.995886    Allegheny County  USR  \n",
       "1779   -122.143019  Santa Clara County  USR  \n",
       "3871      0.000000                None  USR  \n",
       "5203   -122.658719    Multnomah County  USR  \n",
       "6240   -122.083851  Santa Clara County  USR  \n",
       "18556     0.000000                None  USR  \n",
       "376498 -123.365644             Capital  USR  \n",
       "417948   -0.127758      Greater London  USR  \n",
       "616741  121.473702            Shanghai  USR  "
      ]
     },
     "execution_count": 50,
     "metadata": {},
     "output_type": "execute_result"
    }
   ],
   "source": [
    "cur = mc['github']['users'].find({\"_id\": {\"$in\": top_foll}})\n",
    "df = pd.DataFrame(list(cur)).set_index('_id')\n",
    "df"
   ]
  },
  {
   "cell_type": "code",
   "execution_count": 55,
   "metadata": {
    "ExecuteTime": {
     "end_time": "2019-05-02T17:18:31.932932Z",
     "start_time": "2019-05-02T17:18:31.899863Z"
    },
    "hidden": true
   },
   "outputs": [
    {
     "name": "stdout",
     "output_type": "stream",
     "text": [
      "https://github.com/kennethreitz\n",
      "https://github.com/JakeWharton\n",
      "https://github.com/paulirish\n",
      "https://github.com/sindresorhus\n",
      "https://github.com/torvalds\n",
      "https://github.com/addyosmani\n",
      "https://github.com/yyx990803\n",
      "https://github.com/Tj\n",
      "https://github.com/gaearon\n",
      "https://github.com/ruanyf\n"
     ]
    }
   ],
   "source": [
    "df['login'].map(lambda x: f'https://github.com/{x}').map(print);"
   ]
  }
 ],
 "metadata": {
  "kernelspec": {
   "display_name": "Python 3",
   "language": "python",
   "name": "python3"
  },
  "language_info": {
   "codemirror_mode": {
    "name": "ipython",
    "version": 3
   },
   "file_extension": ".py",
   "mimetype": "text/x-python",
   "name": "python",
   "nbconvert_exporter": "python",
   "pygments_lexer": "ipython3",
   "version": "3.7.3"
  },
  "toc": {
   "base_numbering": 1,
   "nav_menu": {},
   "number_sections": true,
   "sideBar": true,
   "skip_h1_title": false,
   "title_cell": "Table of Contents",
   "title_sidebar": "Contents",
   "toc_cell": false,
   "toc_position": {},
   "toc_section_display": true,
   "toc_window_display": false
  },
  "varInspector": {
   "cols": {
    "lenName": 16,
    "lenType": 16,
    "lenVar": 40
   },
   "kernels_config": {
    "python": {
     "delete_cmd_postfix": "",
     "delete_cmd_prefix": "del ",
     "library": "var_list.py",
     "varRefreshCmd": "print(var_dic_list())"
    },
    "r": {
     "delete_cmd_postfix": ") ",
     "delete_cmd_prefix": "rm(",
     "library": "var_list.r",
     "varRefreshCmd": "cat(var_dic_list()) "
    }
   },
   "types_to_exclude": [
    "module",
    "function",
    "builtin_function_or_method",
    "instance",
    "_Feature"
   ],
   "window_display": false
  }
 },
 "nbformat": 4,
 "nbformat_minor": 2
}
